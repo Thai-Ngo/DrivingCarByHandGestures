{
 "cells": [
  {
   "cell_type": "code",
   "execution_count": 2,
   "metadata": {
    "id": "igMyGnjE9hEp"
   },
   "outputs": [],
   "source": [
    "import csv\n",
    "\n",
    "import numpy as np\n",
    "import pandas as pd\n",
    "import tensorflow as tf\n",
    "from sklearn.model_selection import train_test_split\n",
    "\n",
    "RANDOM_SEED = 40"
   ]
  },
  {
   "cell_type": "markdown",
   "metadata": {
    "id": "t2HDvhIu9hEr"
   },
   "source": [
    "# Specify each path"
   ]
  },
  {
   "cell_type": "code",
   "execution_count": 3,
   "metadata": {
    "id": "9NvZP2Zn9hEy"
   },
   "outputs": [],
   "source": [
    "dataset = 'model/keypoint.csv'\n",
    "model_save_path = 'model/keypoint_classifier.hdf5'\n",
    "tflite_save_path = 'model/keypoint_classifier.tflite'"
   ]
  },
  {
   "cell_type": "markdown",
   "metadata": {
    "id": "s5oMH7x19hEz"
   },
   "source": [
    "# Set number of classes"
   ]
  },
  {
   "cell_type": "code",
   "execution_count": 5,
   "metadata": {
    "id": "du4kodXL9hEz"
   },
   "outputs": [],
   "source": [
    "NUM_CLASSES = 9"
   ]
  },
  {
   "cell_type": "markdown",
   "metadata": {
    "id": "XjnL0uso9hEz"
   },
   "source": [
    "# Dataset reading"
   ]
  },
  {
   "cell_type": "code",
   "execution_count": 6,
   "metadata": {
    "id": "QT5ZqtEz9hE0"
   },
   "outputs": [],
   "source": [
    "X_dataset = np.loadtxt(dataset, delimiter=',', dtype='float32', usecols=list(range(1, (21 * 2) + 1)))"
   ]
  },
  {
   "cell_type": "code",
   "execution_count": 7,
   "metadata": {
    "id": "QmoKFsp49hE0"
   },
   "outputs": [],
   "source": [
    "y_dataset = np.loadtxt(dataset, delimiter=',', dtype='int32', usecols=(0))"
   ]
  },
  {
   "cell_type": "code",
   "execution_count": 8,
   "metadata": {
    "id": "xQU7JTZ_9hE0"
   },
   "outputs": [],
   "source": [
    "X_train, X_test, y_train, y_test = train_test_split(X_dataset, y_dataset, train_size=0.75, random_state=RANDOM_SEED)"
   ]
  },
  {
   "cell_type": "code",
   "execution_count": 9,
   "metadata": {},
   "outputs": [
    {
     "name": "stdout",
     "output_type": "stream",
     "text": [
      "(array([0, 1, 2, 3, 4, 5, 6, 7, 8]), array([500, 553, 546, 521, 550, 490, 459, 381, 590], dtype=int64))\n"
     ]
    },
    {
     "data": {
      "image/png": "[encoded data removed]",
      "text/plain": [
       "<Figure size 432x288 with 1 Axes>"
      ]
     },
     "metadata": {
      "needs_background": "light"
     },
     "output_type": "display_data"
    }
   ],
   "source": [
    "# Classes count\n",
    "counts = np.unique(y_dataset, return_counts=True)\n",
    "df = pd.DataFrame(counts)\n",
    "df.T.plot(kind=\"bar\", stacked=True)\n",
    "print(counts)"
   ]
  },
  {
   "cell_type": "markdown",
   "metadata": {
    "id": "mxK_lETT9hE0"
   },
   "source": [
    "# Model building"
   ]
  },
  {
   "cell_type": "code",
   "execution_count": 15,
   "metadata": {
    "id": "vHBmUf1t9hE1"
   },
   "outputs": [],
   "source": [
    "model = tf.keras.models.Sequential([\n",
    "    tf.keras.layers.Input((21 * 2, )),\n",
    "    tf.keras.layers.Dropout(0.2),\n",
    "    tf.keras.layers.Dense(20, activation='relu'),\n",
    "    tf.keras.layers.Dropout(0.4),\n",
    "    tf.keras.layers.Dense(15, activation='relu'),\n",
    "    tf.keras.layers.Dense(NUM_CLASSES, activation='softmax')\n",
    "])"
   ]
  },
  {
   "cell_type": "code",
   "execution_count": 16,
   "metadata": {
    "colab": {
     "base_uri": "https://localhost:8080/"
    },
    "id": "ypqky9tc9hE1",
    "outputId": "5db082bb-30e3-4110-bf63-a1ee777ecd46"
   },
   "outputs": [
    {
     "name": "stdout",
     "output_type": "stream",
     "text": [
      "Model: \"sequential_3\"\n",
      "_________________________________________________________________\n",
      "Layer (type)                 Output Shape              Param #   \n",
      "=================================================================\n",
      "dropout_6 (Dropout)          (None, 42)                0         \n",
      "_________________________________________________________________\n",
      "dense_9 (Dense)              (None, 20)                860       \n",
      "_________________________________________________________________\n",
      "dropout_7 (Dropout)          (None, 20)                0         \n",
      "_________________________________________________________________\n",
      "dense_10 (Dense)             (None, 15)                315       \n",
      "_________________________________________________________________\n",
      "dense_11 (Dense)             (None, 9)                 144       \n",
      "=================================================================\n",
      "Total params: 1,319\n",
      "Trainable params: 1,319\n",
      "Non-trainable params: 0\n",
      "_________________________________________________________________\n"
     ]
    }
   ],
   "source": [
    "model.summary()  # tf.keras.utils.plot_model(model, show_shapes=True)"
   ]
  },
  {
   "cell_type": "code",
   "execution_count": 17,
   "metadata": {
    "id": "MbMjOflQ9hE1"
   },
   "outputs": [],
   "source": [
    "# Model checkpoint callback\n",
    "cp_callback = tf.keras.callbacks.ModelCheckpoint(\n",
    "    model_save_path, verbose=1, save_weights_only=False)\n",
    "# Callback for early stopping\n",
    "es_callback = tf.keras.callbacks.EarlyStopping(patience=20, verbose=1)"
   ]
  },
  {
   "cell_type": "code",
   "execution_count": 18,
   "metadata": {
    "id": "c3Dac0M_9hE2"
   },
   "outputs": [],
   "source": [
    "# Model compilation\n",
    "model.compile(\n",
    "    optimizer='adam',\n",
    "    loss='sparse_categorical_crossentropy',\n",
    "    metrics=['accuracy']\n",
    ")"
   ]
  },
  {
   "cell_type": "markdown",
   "metadata": {
    "id": "7XI0j1Iu9hE2"
   },
   "source": [
    "# Model training"
   ]
  },
  {
   "cell_type": "code",
   "execution_count": 19,
   "metadata": {
    "colab": {
     "base_uri": "https://localhost:8080/"
    },
    "id": "WirBl-JE9hE3",
    "outputId": "71b30ca2-8294-4d9d-8aa2-800d90d399de",
    "scrolled": true
   },
   "outputs": [
    {
     "name": "stdout",
     "output_type": "stream",
     "text": [
      "Epoch 1/1000\n",
      "27/27 [==============================] - 1s 8ms/step - loss: 2.2037 - accuracy: 0.1365 - val_loss: 2.0554 - val_accuracy: 0.2439\n",
      "\n",
      "Epoch 00001: saving model to model\\keypoint_classifier.hdf5\n",
      "Epoch 2/1000\n",
      "27/27 [==============================] - 0s 2ms/step - loss: 2.0425 - accuracy: 0.2275 - val_loss: 1.8829 - val_accuracy: 0.3301\n",
      "\n",
      "Epoch 00002: saving model to model\\keypoint_classifier.hdf5\n",
      "Epoch 3/1000\n",
      "27/27 [==============================] - 0s 2ms/step - loss: 1.8638 - accuracy: 0.3202 - val_loss: 1.6861 - val_accuracy: 0.3711\n",
      "\n",
      "Epoch 00003: saving model to model\\keypoint_classifier.hdf5\n",
      "Epoch 4/1000\n",
      "27/27 [==============================] - 0s 3ms/step - loss: 1.6995 - accuracy: 0.3585 - val_loss: 1.4791 - val_accuracy: 0.4051\n",
      "\n",
      "Epoch 00004: saving model to model\\keypoint_classifier.hdf5\n",
      "Epoch 5/1000\n",
      "27/27 [==============================] - 0s 4ms/step - loss: 1.5310 - accuracy: 0.3974 - val_loss: 1.2974 - val_accuracy: 0.5418\n",
      "\n",
      "Epoch 00005: saving model to model\\keypoint_classifier.hdf5\n",
      "Epoch 6/1000\n",
      "27/27 [==============================] - 0s 2ms/step - loss: 1.4034 - accuracy: 0.4370 - val_loss: 1.1677 - val_accuracy: 0.6943\n",
      "\n",
      "Epoch 00006: saving model to model\\keypoint_classifier.hdf5\n",
      "Epoch 7/1000\n",
      "27/27 [==============================] - 0s 2ms/step - loss: 1.3070 - accuracy: 0.4614 - val_loss: 1.0828 - val_accuracy: 0.7666\n",
      "\n",
      "Epoch 00007: saving model to model\\keypoint_classifier.hdf5\n",
      "Epoch 8/1000\n",
      "27/27 [==============================] - 0s 2ms/step - loss: 1.2547 - accuracy: 0.4834 - val_loss: 1.0112 - val_accuracy: 0.7840\n",
      "\n",
      "Epoch 00008: saving model to model\\keypoint_classifier.hdf5\n",
      "Epoch 9/1000\n",
      "27/27 [==============================] - 0s 2ms/step - loss: 1.1851 - accuracy: 0.5238 - val_loss: 0.9469 - val_accuracy: 0.7657\n",
      "\n",
      "Epoch 00009: saving model to model\\keypoint_classifier.hdf5\n",
      "Epoch 10/1000\n",
      "27/27 [==============================] - 0s 2ms/step - loss: 1.1150 - accuracy: 0.5494 - val_loss: 0.8832 - val_accuracy: 0.8275\n",
      "\n",
      "Epoch 00010: saving model to model\\keypoint_classifier.hdf5\n",
      "Epoch 11/1000\n",
      "27/27 [==============================] - 0s 2ms/step - loss: 1.0893 - accuracy: 0.5700 - val_loss: 0.8237 - val_accuracy: 0.8267\n",
      "\n",
      "Epoch 00011: saving model to model\\keypoint_classifier.hdf5\n",
      "Epoch 12/1000\n",
      "27/27 [==============================] - 0s 2ms/step - loss: 1.0249 - accuracy: 0.6011 - val_loss: 0.7536 - val_accuracy: 0.8955\n",
      "\n",
      "Epoch 00012: saving model to model\\keypoint_classifier.hdf5\n",
      "Epoch 13/1000\n",
      "27/27 [==============================] - 0s 2ms/step - loss: 0.9752 - accuracy: 0.6194 - val_loss: 0.6866 - val_accuracy: 0.8554\n",
      "\n",
      "Epoch 00013: saving model to model\\keypoint_classifier.hdf5\n",
      "Epoch 14/1000\n",
      "27/27 [==============================] - 0s 2ms/step - loss: 0.9535 - accuracy: 0.6116 - val_loss: 0.6351 - val_accuracy: 0.8868\n",
      "\n",
      "Epoch 00014: saving model to model\\keypoint_classifier.hdf5\n",
      "Epoch 15/1000\n",
      "27/27 [==============================] - 0s 2ms/step - loss: 0.9105 - accuracy: 0.6485 - val_loss: 0.5959 - val_accuracy: 0.8754\n",
      "\n",
      "Epoch 00015: saving model to model\\keypoint_classifier.hdf5\n",
      "Epoch 16/1000\n",
      "27/27 [==============================] - 0s 2ms/step - loss: 0.8814 - accuracy: 0.6604 - val_loss: 0.5551 - val_accuracy: 0.9242\n",
      "\n",
      "Epoch 00016: saving model to model\\keypoint_classifier.hdf5\n",
      "Epoch 17/1000\n",
      "27/27 [==============================] - 0s 2ms/step - loss: 0.8359 - accuracy: 0.6702 - val_loss: 0.5261 - val_accuracy: 0.9382\n",
      "\n",
      "Epoch 00017: saving model to model\\keypoint_classifier.hdf5\n",
      "Epoch 18/1000\n",
      "27/27 [==============================] - 0s 2ms/step - loss: 0.8304 - accuracy: 0.6819 - val_loss: 0.4987 - val_accuracy: 0.9347\n",
      "\n",
      "Epoch 00018: saving model to model\\keypoint_classifier.hdf5\n",
      "Epoch 19/1000\n",
      "27/27 [==============================] - 0s 2ms/step - loss: 0.7981 - accuracy: 0.6917 - val_loss: 0.4710 - val_accuracy: 0.9242\n",
      "\n",
      "Epoch 00019: saving model to model\\keypoint_classifier.hdf5\n",
      "Epoch 20/1000\n",
      "27/27 [==============================] - 0s 2ms/step - loss: 0.7800 - accuracy: 0.7016 - val_loss: 0.4412 - val_accuracy: 0.9573\n",
      "\n",
      "Epoch 00020: saving model to model\\keypoint_classifier.hdf5\n",
      "Epoch 21/1000\n",
      "27/27 [==============================] - 0s 2ms/step - loss: 0.7656 - accuracy: 0.7057 - val_loss: 0.4261 - val_accuracy: 0.9617\n",
      "\n",
      "Epoch 00021: saving model to model\\keypoint_classifier.hdf5\n",
      "Epoch 22/1000\n",
      "27/27 [==============================] - 0s 2ms/step - loss: 0.7282 - accuracy: 0.7289 - val_loss: 0.4035 - val_accuracy: 0.9486\n",
      "\n",
      "Epoch 00022: saving model to model\\keypoint_classifier.hdf5\n",
      "Epoch 23/1000\n",
      "27/27 [==============================] - 0s 2ms/step - loss: 0.7365 - accuracy: 0.7048 - val_loss: 0.3868 - val_accuracy: 0.9747\n",
      "\n",
      "Epoch 00023: saving model to model\\keypoint_classifier.hdf5\n",
      "Epoch 24/1000\n",
      "27/27 [==============================] - 0s 2ms/step - loss: 0.7108 - accuracy: 0.7269 - val_loss: 0.3762 - val_accuracy: 0.9538\n",
      "\n",
      "Epoch 00024: saving model to model\\keypoint_classifier.hdf5\n",
      "Epoch 25/1000\n",
      "27/27 [==============================] - 0s 2ms/step - loss: 0.6802 - accuracy: 0.7327 - val_loss: 0.3562 - val_accuracy: 0.9713\n",
      "\n",
      "Epoch 00025: saving model to model\\keypoint_classifier.hdf5\n",
      "Epoch 26/1000\n",
      "27/27 [==============================] - 0s 2ms/step - loss: 0.7172 - accuracy: 0.7191 - val_loss: 0.3522 - val_accuracy: 0.9678\n",
      "\n",
      "Epoch 00026: saving model to model\\keypoint_classifier.hdf5\n",
      "Epoch 27/1000\n",
      "27/27 [==============================] - 0s 2ms/step - loss: 0.7004 - accuracy: 0.7307 - val_loss: 0.3371 - val_accuracy: 0.9434\n",
      "\n",
      "Epoch 00027: saving model to model\\keypoint_classifier.hdf5\n",
      "Epoch 28/1000\n",
      "27/27 [==============================] - 0s 2ms/step - loss: 0.6529 - accuracy: 0.7452 - val_loss: 0.3233 - val_accuracy: 0.9704\n",
      "\n",
      "Epoch 00028: saving model to model\\keypoint_classifier.hdf5\n",
      "Epoch 29/1000\n",
      "27/27 [==============================] - 0s 2ms/step - loss: 0.6576 - accuracy: 0.7403 - val_loss: 0.3103 - val_accuracy: 0.9686\n",
      "\n",
      "Epoch 00029: saving model to model\\keypoint_classifier.hdf5\n",
      "Epoch 30/1000\n",
      "27/27 [==============================] - 0s 2ms/step - loss: 0.6580 - accuracy: 0.7458 - val_loss: 0.3007 - val_accuracy: 0.9634\n",
      "\n",
      "Epoch 00030: saving model to model\\keypoint_classifier.hdf5\n",
      "Epoch 31/1000\n",
      "27/27 [==============================] - 0s 2ms/step - loss: 0.6378 - accuracy: 0.7554 - val_loss: 0.2907 - val_accuracy: 0.9695\n",
      "\n",
      "Epoch 00031: saving model to model\\keypoint_classifier.hdf5\n",
      "Epoch 32/1000\n",
      "27/27 [==============================] - 0s 2ms/step - loss: 0.6529 - accuracy: 0.7406 - val_loss: 0.2916 - val_accuracy: 0.9713\n",
      "\n",
      "Epoch 00032: saving model to model\\keypoint_classifier.hdf5\n",
      "Epoch 33/1000\n",
      "27/27 [==============================] - 0s 2ms/step - loss: 0.6457 - accuracy: 0.7493 - val_loss: 0.2818 - val_accuracy: 0.9817\n",
      "\n",
      "Epoch 00033: saving model to model\\keypoint_classifier.hdf5\n",
      "Epoch 34/1000\n",
      "27/27 [==============================] - 0s 2ms/step - loss: 0.6078 - accuracy: 0.7661 - val_loss: 0.2657 - val_accuracy: 0.9774\n",
      "\n",
      "Epoch 00034: saving model to model\\keypoint_classifier.hdf5\n",
      "Epoch 35/1000\n",
      "27/27 [==============================] - 0s 2ms/step - loss: 0.6128 - accuracy: 0.7606 - val_loss: 0.2611 - val_accuracy: 0.9800\n",
      "\n",
      "Epoch 00035: saving model to model\\keypoint_classifier.hdf5\n",
      "Epoch 36/1000\n",
      "27/27 [==============================] - 0s 2ms/step - loss: 0.5942 - accuracy: 0.7725 - val_loss: 0.2533 - val_accuracy: 0.9730\n",
      "\n",
      "Epoch 00036: saving model to model\\keypoint_classifier.hdf5\n",
      "Epoch 37/1000\n",
      "27/27 [==============================] - 0s 2ms/step - loss: 0.6038 - accuracy: 0.7708 - val_loss: 0.2480 - val_accuracy: 0.9808\n",
      "\n",
      "Epoch 00037: saving model to model\\keypoint_classifier.hdf5\n",
      "Epoch 38/1000\n",
      "27/27 [==============================] - 0s 2ms/step - loss: 0.6066 - accuracy: 0.7635 - val_loss: 0.2338 - val_accuracy: 0.9852\n",
      "\n",
      "Epoch 00038: saving model to model\\keypoint_classifier.hdf5\n",
      "Epoch 39/1000\n",
      "27/27 [==============================] - 0s 2ms/step - loss: 0.5888 - accuracy: 0.7629 - val_loss: 0.2383 - val_accuracy: 0.9791\n",
      "\n",
      "Epoch 00039: saving model to model\\keypoint_classifier.hdf5\n",
      "Epoch 40/1000\n",
      "27/27 [==============================] - 0s 2ms/step - loss: 0.5650 - accuracy: 0.7868 - val_loss: 0.2299 - val_accuracy: 0.9808\n",
      "\n",
      "Epoch 00040: saving model to model\\keypoint_classifier.hdf5\n",
      "Epoch 41/1000\n"
     ]
    },
    {
     "name": "stdout",
     "output_type": "stream",
     "text": [
      "27/27 [==============================] - 0s 2ms/step - loss: 0.5538 - accuracy: 0.7847 - val_loss: 0.2281 - val_accuracy: 0.9434\n",
      "\n",
      "Epoch 00041: saving model to model\\keypoint_classifier.hdf5\n",
      "Epoch 42/1000\n",
      "27/27 [==============================] - 0s 2ms/step - loss: 0.5677 - accuracy: 0.7853 - val_loss: 0.2243 - val_accuracy: 0.9800\n",
      "\n",
      "Epoch 00042: saving model to model\\keypoint_classifier.hdf5\n",
      "Epoch 43/1000\n",
      "27/27 [==============================] - 0s 2ms/step - loss: 0.5719 - accuracy: 0.7780 - val_loss: 0.2272 - val_accuracy: 0.9800\n",
      "\n",
      "Epoch 00043: saving model to model\\keypoint_classifier.hdf5\n",
      "Epoch 44/1000\n",
      "27/27 [==============================] - 0s 3ms/step - loss: 0.5658 - accuracy: 0.7847 - val_loss: 0.2166 - val_accuracy: 0.9913\n",
      "\n",
      "Epoch 00044: saving model to model\\keypoint_classifier.hdf5\n",
      "Epoch 45/1000\n",
      "27/27 [==============================] - 0s 3ms/step - loss: 0.5317 - accuracy: 0.7960 - val_loss: 0.2093 - val_accuracy: 0.9834\n",
      "\n",
      "Epoch 00045: saving model to model\\keypoint_classifier.hdf5\n",
      "Epoch 46/1000\n",
      "27/27 [==============================] - 0s 4ms/step - loss: 0.5402 - accuracy: 0.7955 - val_loss: 0.2038 - val_accuracy: 0.9808\n",
      "\n",
      "Epoch 00046: saving model to model\\keypoint_classifier.hdf5\n",
      "Epoch 47/1000\n",
      "27/27 [==============================] - 0s 2ms/step - loss: 0.5495 - accuracy: 0.7943 - val_loss: 0.2004 - val_accuracy: 0.9538\n",
      "\n",
      "Epoch 00047: saving model to model\\keypoint_classifier.hdf5\n",
      "Epoch 48/1000\n",
      "27/27 [==============================] - 0s 2ms/step - loss: 0.5341 - accuracy: 0.7937 - val_loss: 0.1984 - val_accuracy: 0.9791\n",
      "\n",
      "Epoch 00048: saving model to model\\keypoint_classifier.hdf5\n",
      "Epoch 49/1000\n",
      "27/27 [==============================] - 0s 2ms/step - loss: 0.5446 - accuracy: 0.7824 - val_loss: 0.1947 - val_accuracy: 0.9774\n",
      "\n",
      "Epoch 00049: saving model to model\\keypoint_classifier.hdf5\n",
      "Epoch 50/1000\n",
      "27/27 [==============================] - 0s 2ms/step - loss: 0.5125 - accuracy: 0.8021 - val_loss: 0.1776 - val_accuracy: 0.9904\n",
      "\n",
      "Epoch 00050: saving model to model\\keypoint_classifier.hdf5\n",
      "Epoch 51/1000\n",
      "27/27 [==============================] - 0s 2ms/step - loss: 0.5182 - accuracy: 0.7990 - val_loss: 0.1934 - val_accuracy: 0.9834\n",
      "\n",
      "Epoch 00051: saving model to model\\keypoint_classifier.hdf5\n",
      "Epoch 52/1000\n",
      "27/27 [==============================] - 0s 2ms/step - loss: 0.5345 - accuracy: 0.7923 - val_loss: 0.1874 - val_accuracy: 0.9817\n",
      "\n",
      "Epoch 00052: saving model to model\\keypoint_classifier.hdf5\n",
      "Epoch 53/1000\n",
      "27/27 [==============================] - 0s 2ms/step - loss: 0.5276 - accuracy: 0.7975 - val_loss: 0.1787 - val_accuracy: 0.9730\n",
      "\n",
      "Epoch 00053: saving model to model\\keypoint_classifier.hdf5\n",
      "Epoch 54/1000\n",
      "27/27 [==============================] - 0s 2ms/step - loss: 0.5035 - accuracy: 0.8059 - val_loss: 0.1823 - val_accuracy: 0.9678\n",
      "\n",
      "Epoch 00054: saving model to model\\keypoint_classifier.hdf5\n",
      "Epoch 55/1000\n",
      "27/27 [==============================] - 0s 2ms/step - loss: 0.5247 - accuracy: 0.7955 - val_loss: 0.1799 - val_accuracy: 0.9895\n",
      "\n",
      "Epoch 00055: saving model to model\\keypoint_classifier.hdf5\n",
      "Epoch 56/1000\n",
      "27/27 [==============================] - 0s 3ms/step - loss: 0.5211 - accuracy: 0.8027 - val_loss: 0.1744 - val_accuracy: 0.9834\n",
      "\n",
      "Epoch 00056: saving model to model\\keypoint_classifier.hdf5\n",
      "Epoch 57/1000\n",
      "27/27 [==============================] - 0s 2ms/step - loss: 0.5024 - accuracy: 0.8045 - val_loss: 0.1777 - val_accuracy: 0.9878\n",
      "\n",
      "Epoch 00057: saving model to model\\keypoint_classifier.hdf5\n",
      "Epoch 58/1000\n",
      "27/27 [==============================] - 0s 2ms/step - loss: 0.5040 - accuracy: 0.8088 - val_loss: 0.1662 - val_accuracy: 0.9895\n",
      "\n",
      "Epoch 00058: saving model to model\\keypoint_classifier.hdf5\n",
      "Epoch 59/1000\n",
      "27/27 [==============================] - ETA: 0s - loss: 0.4081 - accuracy: 0.83 - 0s 4ms/step - loss: 0.5119 - accuracy: 0.8045 - val_loss: 0.1933 - val_accuracy: 0.9564\n",
      "\n",
      "Epoch 00059: saving model to model\\keypoint_classifier.hdf5\n",
      "Epoch 60/1000\n",
      "27/27 [==============================] - 0s 2ms/step - loss: 0.4885 - accuracy: 0.8202 - val_loss: 0.1653 - val_accuracy: 0.9913\n",
      "\n",
      "Epoch 00060: saving model to model\\keypoint_classifier.hdf5\n",
      "Epoch 61/1000\n",
      "27/27 [==============================] - 0s 2ms/step - loss: 0.4678 - accuracy: 0.8187 - val_loss: 0.1734 - val_accuracy: 0.9408\n",
      "\n",
      "Epoch 00061: saving model to model\\keypoint_classifier.hdf5\n",
      "Epoch 62/1000\n",
      "27/27 [==============================] - 0s 2ms/step - loss: 0.4945 - accuracy: 0.8042 - val_loss: 0.1578 - val_accuracy: 0.9922\n",
      "\n",
      "Epoch 00062: saving model to model\\keypoint_classifier.hdf5\n",
      "Epoch 63/1000\n",
      "27/27 [==============================] - 0s 2ms/step - loss: 0.4949 - accuracy: 0.8051 - val_loss: 0.1631 - val_accuracy: 0.9878\n",
      "\n",
      "Epoch 00063: saving model to model\\keypoint_classifier.hdf5\n",
      "Epoch 64/1000\n",
      "27/27 [==============================] - 0s 2ms/step - loss: 0.4963 - accuracy: 0.8065 - val_loss: 0.1668 - val_accuracy: 0.9704\n",
      "\n",
      "Epoch 00064: saving model to model\\keypoint_classifier.hdf5\n",
      "Epoch 65/1000\n",
      "27/27 [==============================] - 0s 2ms/step - loss: 0.4790 - accuracy: 0.8083 - val_loss: 0.1529 - val_accuracy: 0.9948\n",
      "\n",
      "Epoch 00065: saving model to model\\keypoint_classifier.hdf5\n",
      "Epoch 66/1000\n",
      "27/27 [==============================] - 0s 2ms/step - loss: 0.4609 - accuracy: 0.8202 - val_loss: 0.1514 - val_accuracy: 0.9904\n",
      "\n",
      "Epoch 00066: saving model to model\\keypoint_classifier.hdf5\n",
      "Epoch 67/1000\n",
      "27/27 [==============================] - 0s 2ms/step - loss: 0.4950 - accuracy: 0.8120 - val_loss: 0.1563 - val_accuracy: 0.9878\n",
      "\n",
      "Epoch 00067: saving model to model\\keypoint_classifier.hdf5\n",
      "Epoch 68/1000\n",
      "27/27 [==============================] - 0s 2ms/step - loss: 0.4550 - accuracy: 0.8286 - val_loss: 0.1423 - val_accuracy: 0.9948\n",
      "\n",
      "Epoch 00068: saving model to model\\keypoint_classifier.hdf5\n",
      "Epoch 69/1000\n",
      "27/27 [==============================] - 0s 2ms/step - loss: 0.4745 - accuracy: 0.8097 - val_loss: 0.1450 - val_accuracy: 0.9904\n",
      "\n",
      "Epoch 00069: saving model to model\\keypoint_classifier.hdf5\n",
      "Epoch 70/1000\n",
      "27/27 [==============================] - 0s 2ms/step - loss: 0.4756 - accuracy: 0.8228 - val_loss: 0.1520 - val_accuracy: 0.9564\n",
      "\n",
      "Epoch 00070: saving model to model\\keypoint_classifier.hdf5\n",
      "Epoch 71/1000\n",
      "27/27 [==============================] - 0s 2ms/step - loss: 0.4616 - accuracy: 0.8193 - val_loss: 0.1474 - val_accuracy: 0.9913\n",
      "\n",
      "Epoch 00071: saving model to model\\keypoint_classifier.hdf5\n",
      "Epoch 72/1000\n",
      "27/27 [==============================] - 0s 2ms/step - loss: 0.4761 - accuracy: 0.8242 - val_loss: 0.1472 - val_accuracy: 0.9913\n",
      "\n",
      "Epoch 00072: saving model to model\\keypoint_classifier.hdf5\n",
      "Epoch 73/1000\n",
      "27/27 [==============================] - 0s 3ms/step - loss: 0.4605 - accuracy: 0.8219 - val_loss: 0.1505 - val_accuracy: 0.9660\n",
      "\n",
      "Epoch 00073: saving model to model\\keypoint_classifier.hdf5\n",
      "Epoch 74/1000\n",
      "27/27 [==============================] - 0s 6ms/step - loss: 0.4719 - accuracy: 0.8109 - val_loss: 0.1337 - val_accuracy: 0.9948\n",
      "\n",
      "Epoch 00074: saving model to model\\keypoint_classifier.hdf5\n",
      "Epoch 75/1000\n",
      "27/27 [==============================] - 0s 3ms/step - loss: 0.4409 - accuracy: 0.8280 - val_loss: 0.1376 - val_accuracy: 0.9913\n",
      "\n",
      "Epoch 00075: saving model to model\\keypoint_classifier.hdf5\n",
      "Epoch 76/1000\n",
      "27/27 [==============================] - 0s 3ms/step - loss: 0.4667 - accuracy: 0.8144 - val_loss: 0.1433 - val_accuracy: 0.9904\n",
      "\n",
      "Epoch 00076: saving model to model\\keypoint_classifier.hdf5\n",
      "Epoch 77/1000\n",
      "27/27 [==============================] - 0s 3ms/step - loss: 0.4494 - accuracy: 0.8234 - val_loss: 0.1330 - val_accuracy: 0.9913\n",
      "\n",
      "Epoch 00077: saving model to model\\keypoint_classifier.hdf5\n",
      "Epoch 78/1000\n",
      "27/27 [==============================] - 0s 3ms/step - loss: 0.4381 - accuracy: 0.8324 - val_loss: 0.1493 - val_accuracy: 0.9416\n",
      "\n",
      "Epoch 00078: saving model to model\\keypoint_classifier.hdf5\n",
      "Epoch 79/1000\n",
      "27/27 [==============================] - 0s 3ms/step - loss: 0.4489 - accuracy: 0.8274 - val_loss: 0.1439 - val_accuracy: 0.9922\n",
      "\n",
      "Epoch 00079: saving model to model\\keypoint_classifier.hdf5\n",
      "Epoch 80/1000\n",
      "27/27 [==============================] - 0s 5ms/step - loss: 0.4438 - accuracy: 0.8306 - val_loss: 0.1298 - val_accuracy: 0.9895\n",
      "\n",
      "Epoch 00080: saving model to model\\keypoint_classifier.hdf5\n",
      "Epoch 81/1000\n"
     ]
    },
    {
     "name": "stdout",
     "output_type": "stream",
     "text": [
      "27/27 [==============================] - 0s 6ms/step - loss: 0.4341 - accuracy: 0.8300 - val_loss: 0.1390 - val_accuracy: 0.9869\n",
      "\n",
      "Epoch 00081: saving model to model\\keypoint_classifier.hdf5\n",
      "Epoch 82/1000\n",
      "27/27 [==============================] - 0s 3ms/step - loss: 0.4578 - accuracy: 0.8274 - val_loss: 0.1436 - val_accuracy: 0.9869\n",
      "\n",
      "Epoch 00082: saving model to model\\keypoint_classifier.hdf5\n",
      "Epoch 83/1000\n",
      "27/27 [==============================] - 0s 4ms/step - loss: 0.4420 - accuracy: 0.8338 - val_loss: 0.1320 - val_accuracy: 0.9948\n",
      "\n",
      "Epoch 00083: saving model to model\\keypoint_classifier.hdf5\n",
      "Epoch 84/1000\n",
      "27/27 [==============================] - 0s 3ms/step - loss: 0.4442 - accuracy: 0.8277 - val_loss: 0.1327 - val_accuracy: 0.9878\n",
      "\n",
      "Epoch 00084: saving model to model\\keypoint_classifier.hdf5\n",
      "Epoch 85/1000\n",
      "27/27 [==============================] - 0s 5ms/step - loss: 0.4086 - accuracy: 0.8420 - val_loss: 0.1296 - val_accuracy: 0.9817\n",
      "\n",
      "Epoch 00085: saving model to model\\keypoint_classifier.hdf5\n",
      "Epoch 86/1000\n",
      "27/27 [==============================] - 0s 3ms/step - loss: 0.4308 - accuracy: 0.8338 - val_loss: 0.1259 - val_accuracy: 0.9913\n",
      "\n",
      "Epoch 00086: saving model to model\\keypoint_classifier.hdf5\n",
      "Epoch 87/1000\n",
      "27/27 [==============================] - 0s 4ms/step - loss: 0.4218 - accuracy: 0.8385 - val_loss: 0.1236 - val_accuracy: 0.9895\n",
      "\n",
      "Epoch 00087: saving model to model\\keypoint_classifier.hdf5\n",
      "Epoch 88/1000\n",
      "27/27 [==============================] - 0s 4ms/step - loss: 0.4346 - accuracy: 0.8231 - val_loss: 0.1358 - val_accuracy: 0.9721\n",
      "\n",
      "Epoch 00088: saving model to model\\keypoint_classifier.hdf5\n",
      "Epoch 89/1000\n",
      "27/27 [==============================] - 0s 3ms/step - loss: 0.4321 - accuracy: 0.8321 - val_loss: 0.1252 - val_accuracy: 0.9887\n",
      "\n",
      "Epoch 00089: saving model to model\\keypoint_classifier.hdf5\n",
      "Epoch 90/1000\n",
      "27/27 [==============================] - 0s 3ms/step - loss: 0.4359 - accuracy: 0.8283 - val_loss: 0.1302 - val_accuracy: 0.9904\n",
      "\n",
      "Epoch 00090: saving model to model\\keypoint_classifier.hdf5\n",
      "Epoch 91/1000\n",
      "27/27 [==============================] - 0s 3ms/step - loss: 0.4315 - accuracy: 0.8341 - val_loss: 0.1289 - val_accuracy: 0.9922\n",
      "\n",
      "Epoch 00091: saving model to model\\keypoint_classifier.hdf5\n",
      "Epoch 92/1000\n",
      "27/27 [==============================] - 0s 3ms/step - loss: 0.4217 - accuracy: 0.8364 - val_loss: 0.1207 - val_accuracy: 0.9922\n",
      "\n",
      "Epoch 00092: saving model to model\\keypoint_classifier.hdf5\n",
      "Epoch 93/1000\n",
      "27/27 [==============================] - 0s 3ms/step - loss: 0.4076 - accuracy: 0.8437 - val_loss: 0.1356 - val_accuracy: 0.9834\n",
      "\n",
      "Epoch 00093: saving model to model\\keypoint_classifier.hdf5\n",
      "Epoch 94/1000\n",
      "27/27 [==============================] - 0s 3ms/step - loss: 0.4138 - accuracy: 0.8475 - val_loss: 0.1240 - val_accuracy: 0.9913\n",
      "\n",
      "Epoch 00094: saving model to model\\keypoint_classifier.hdf5\n",
      "Epoch 95/1000\n",
      "27/27 [==============================] - 0s 3ms/step - loss: 0.4251 - accuracy: 0.8327 - val_loss: 0.1185 - val_accuracy: 0.9930\n",
      "\n",
      "Epoch 00095: saving model to model\\keypoint_classifier.hdf5\n",
      "Epoch 96/1000\n",
      "27/27 [==============================] - 0s 3ms/step - loss: 0.4232 - accuracy: 0.8385 - val_loss: 0.1388 - val_accuracy: 0.9800\n",
      "\n",
      "Epoch 00096: saving model to model\\keypoint_classifier.hdf5\n",
      "Epoch 97/1000\n",
      "27/27 [==============================] - 0s 3ms/step - loss: 0.4173 - accuracy: 0.8396 - val_loss: 0.1296 - val_accuracy: 0.9817\n",
      "\n",
      "Epoch 00097: saving model to model\\keypoint_classifier.hdf5\n",
      "Epoch 98/1000\n",
      "27/27 [==============================] - 0s 3ms/step - loss: 0.4083 - accuracy: 0.8489 - val_loss: 0.1188 - val_accuracy: 0.9930\n",
      "\n",
      "Epoch 00098: saving model to model\\keypoint_classifier.hdf5\n",
      "Epoch 99/1000\n",
      "27/27 [==============================] - 0s 3ms/step - loss: 0.4177 - accuracy: 0.8460 - val_loss: 0.1149 - val_accuracy: 0.9939\n",
      "\n",
      "Epoch 00099: saving model to model\\keypoint_classifier.hdf5\n",
      "Epoch 100/1000\n",
      "27/27 [==============================] - 0s 3ms/step - loss: 0.3987 - accuracy: 0.8504 - val_loss: 0.1109 - val_accuracy: 0.9948\n",
      "\n",
      "Epoch 00100: saving model to model\\keypoint_classifier.hdf5\n",
      "Epoch 101/1000\n",
      "27/27 [==============================] - 0s 3ms/step - loss: 0.4116 - accuracy: 0.8405 - val_loss: 0.1179 - val_accuracy: 0.9895\n",
      "\n",
      "Epoch 00101: saving model to model\\keypoint_classifier.hdf5\n",
      "Epoch 102/1000\n",
      "27/27 [==============================] - 0s 3ms/step - loss: 0.3813 - accuracy: 0.8614 - val_loss: 0.1115 - val_accuracy: 0.9939\n",
      "\n",
      "Epoch 00102: saving model to model\\keypoint_classifier.hdf5\n",
      "Epoch 103/1000\n",
      "27/27 [==============================] - 0s 3ms/step - loss: 0.3814 - accuracy: 0.8469 - val_loss: 0.1037 - val_accuracy: 0.9948\n",
      "\n",
      "Epoch 00103: saving model to model\\keypoint_classifier.hdf5\n",
      "Epoch 104/1000\n",
      "27/27 [==============================] - 0s 3ms/step - loss: 0.4195 - accuracy: 0.8396 - val_loss: 0.1194 - val_accuracy: 0.9922\n",
      "\n",
      "Epoch 00104: saving model to model\\keypoint_classifier.hdf5\n",
      "Epoch 105/1000\n",
      "27/27 [==============================] - 0s 3ms/step - loss: 0.4146 - accuracy: 0.8425 - val_loss: 0.1191 - val_accuracy: 0.9895\n",
      "\n",
      "Epoch 00105: saving model to model\\keypoint_classifier.hdf5\n",
      "Epoch 106/1000\n",
      "27/27 [==============================] - 0s 3ms/step - loss: 0.4122 - accuracy: 0.8420 - val_loss: 0.1148 - val_accuracy: 0.9913\n",
      "\n",
      "Epoch 00106: saving model to model\\keypoint_classifier.hdf5\n",
      "Epoch 107/1000\n",
      "27/27 [==============================] - 0s 3ms/step - loss: 0.4075 - accuracy: 0.8414 - val_loss: 0.1246 - val_accuracy: 0.9861\n",
      "\n",
      "Epoch 00107: saving model to model\\keypoint_classifier.hdf5\n",
      "Epoch 108/1000\n",
      "27/27 [==============================] - 0s 3ms/step - loss: 0.3928 - accuracy: 0.8553 - val_loss: 0.1084 - val_accuracy: 0.9948\n",
      "\n",
      "Epoch 00108: saving model to model\\keypoint_classifier.hdf5\n",
      "Epoch 109/1000\n",
      "27/27 [==============================] - 0s 3ms/step - loss: 0.4096 - accuracy: 0.8385 - val_loss: 0.1209 - val_accuracy: 0.9895\n",
      "\n",
      "Epoch 00109: saving model to model\\keypoint_classifier.hdf5\n",
      "Epoch 110/1000\n",
      "27/27 [==============================] - 0s 3ms/step - loss: 0.4017 - accuracy: 0.8443 - val_loss: 0.1108 - val_accuracy: 0.9948\n",
      "\n",
      "Epoch 00110: saving model to model\\keypoint_classifier.hdf5\n",
      "Epoch 111/1000\n",
      "27/27 [==============================] - 0s 3ms/step - loss: 0.4116 - accuracy: 0.8492 - val_loss: 0.1213 - val_accuracy: 0.9922\n",
      "\n",
      "Epoch 00111: saving model to model\\keypoint_classifier.hdf5\n",
      "Epoch 112/1000\n",
      "27/27 [==============================] - 0s 3ms/step - loss: 0.3991 - accuracy: 0.8556 - val_loss: 0.1100 - val_accuracy: 0.9913\n",
      "\n",
      "Epoch 00112: saving model to model\\keypoint_classifier.hdf5\n",
      "Epoch 113/1000\n",
      "27/27 [==============================] - 0s 3ms/step - loss: 0.3998 - accuracy: 0.8469 - val_loss: 0.1057 - val_accuracy: 0.9922\n",
      "\n",
      "Epoch 00113: saving model to model\\keypoint_classifier.hdf5\n",
      "Epoch 114/1000\n",
      "27/27 [==============================] - 0s 3ms/step - loss: 0.3597 - accuracy: 0.8605 - val_loss: 0.1126 - val_accuracy: 0.9904\n",
      "\n",
      "Epoch 00114: saving model to model\\keypoint_classifier.hdf5\n",
      "Epoch 115/1000\n",
      "27/27 [==============================] - 0s 3ms/step - loss: 0.3788 - accuracy: 0.8597 - val_loss: 0.1172 - val_accuracy: 0.9843\n",
      "\n",
      "Epoch 00115: saving model to model\\keypoint_classifier.hdf5\n",
      "Epoch 116/1000\n",
      "27/27 [==============================] - 0s 3ms/step - loss: 0.3831 - accuracy: 0.8521 - val_loss: 0.1077 - val_accuracy: 0.9922\n",
      "\n",
      "Epoch 00116: saving model to model\\keypoint_classifier.hdf5\n",
      "Epoch 117/1000\n",
      "27/27 [==============================] - 0s 3ms/step - loss: 0.3875 - accuracy: 0.8521 - val_loss: 0.1026 - val_accuracy: 0.9948\n",
      "\n",
      "Epoch 00117: saving model to model\\keypoint_classifier.hdf5\n",
      "Epoch 118/1000\n",
      "27/27 [==============================] - 0s 4ms/step - loss: 0.3788 - accuracy: 0.8547 - val_loss: 0.1161 - val_accuracy: 0.9869\n",
      "\n",
      "Epoch 00118: saving model to model\\keypoint_classifier.hdf5\n",
      "Epoch 119/1000\n",
      "27/27 [==============================] - 0s 3ms/step - loss: 0.3793 - accuracy: 0.8518 - val_loss: 0.1144 - val_accuracy: 0.9834\n",
      "\n",
      "Epoch 00119: saving model to model\\keypoint_classifier.hdf5\n",
      "Epoch 120/1000\n",
      "27/27 [==============================] - 0s 3ms/step - loss: 0.3727 - accuracy: 0.8600 - val_loss: 0.1062 - val_accuracy: 0.9922\n",
      "\n",
      "Epoch 00120: saving model to model\\keypoint_classifier.hdf5\n",
      "Epoch 121/1000\n"
     ]
    },
    {
     "name": "stdout",
     "output_type": "stream",
     "text": [
      "27/27 [==============================] - 0s 3ms/step - loss: 0.3875 - accuracy: 0.8440 - val_loss: 0.1221 - val_accuracy: 0.9782\n",
      "\n",
      "Epoch 00121: saving model to model\\keypoint_classifier.hdf5\n",
      "Epoch 122/1000\n",
      "27/27 [==============================] - 0s 3ms/step - loss: 0.3764 - accuracy: 0.8510 - val_loss: 0.1119 - val_accuracy: 0.9852\n",
      "\n",
      "Epoch 00122: saving model to model\\keypoint_classifier.hdf5\n",
      "Epoch 123/1000\n",
      "27/27 [==============================] - 0s 4ms/step - loss: 0.3666 - accuracy: 0.8559 - val_loss: 0.1144 - val_accuracy: 0.9800\n",
      "\n",
      "Epoch 00123: saving model to model\\keypoint_classifier.hdf5\n",
      "Epoch 124/1000\n",
      "27/27 [==============================] - 0s 3ms/step - loss: 0.3896 - accuracy: 0.8544 - val_loss: 0.1198 - val_accuracy: 0.9782\n",
      "\n",
      "Epoch 00124: saving model to model\\keypoint_classifier.hdf5\n",
      "Epoch 125/1000\n",
      "27/27 [==============================] - 0s 3ms/step - loss: 0.3888 - accuracy: 0.8451 - val_loss: 0.1092 - val_accuracy: 0.9939\n",
      "\n",
      "Epoch 00125: saving model to model\\keypoint_classifier.hdf5\n",
      "Epoch 126/1000\n",
      "27/27 [==============================] - 0s 3ms/step - loss: 0.3996 - accuracy: 0.8463 - val_loss: 0.1206 - val_accuracy: 0.9852\n",
      "\n",
      "Epoch 00126: saving model to model\\keypoint_classifier.hdf5\n",
      "Epoch 127/1000\n",
      "27/27 [==============================] - 0s 3ms/step - loss: 0.3742 - accuracy: 0.8588 - val_loss: 0.1154 - val_accuracy: 0.9834\n",
      "\n",
      "Epoch 00127: saving model to model\\keypoint_classifier.hdf5\n",
      "Epoch 128/1000\n",
      "27/27 [==============================] - 0s 3ms/step - loss: 0.3734 - accuracy: 0.8556 - val_loss: 0.1158 - val_accuracy: 0.9826\n",
      "\n",
      "Epoch 00128: saving model to model\\keypoint_classifier.hdf5\n",
      "Epoch 129/1000\n",
      "27/27 [==============================] - 0s 3ms/step - loss: 0.3761 - accuracy: 0.8556 - val_loss: 0.1105 - val_accuracy: 0.9861\n",
      "\n",
      "Epoch 00129: saving model to model\\keypoint_classifier.hdf5\n",
      "Epoch 130/1000\n",
      "27/27 [==============================] - 0s 3ms/step - loss: 0.3675 - accuracy: 0.8553 - val_loss: 0.1262 - val_accuracy: 0.9756\n",
      "\n",
      "Epoch 00130: saving model to model\\keypoint_classifier.hdf5\n",
      "Epoch 131/1000\n",
      "27/27 [==============================] - 0s 3ms/step - loss: 0.3783 - accuracy: 0.8600 - val_loss: 0.1025 - val_accuracy: 0.9834\n",
      "\n",
      "Epoch 00131: saving model to model\\keypoint_classifier.hdf5\n",
      "Epoch 132/1000\n",
      "27/27 [==============================] - 0s 3ms/step - loss: 0.3739 - accuracy: 0.8481 - val_loss: 0.1234 - val_accuracy: 0.9774\n",
      "\n",
      "Epoch 00132: saving model to model\\keypoint_classifier.hdf5\n",
      "Epoch 133/1000\n",
      "27/27 [==============================] - 0s 3ms/step - loss: 0.3728 - accuracy: 0.8582 - val_loss: 0.1174 - val_accuracy: 0.9808\n",
      "\n",
      "Epoch 00133: saving model to model\\keypoint_classifier.hdf5\n",
      "Epoch 134/1000\n",
      "27/27 [==============================] - 0s 3ms/step - loss: 0.3689 - accuracy: 0.8582 - val_loss: 0.1115 - val_accuracy: 0.9817\n",
      "\n",
      "Epoch 00134: saving model to model\\keypoint_classifier.hdf5\n",
      "Epoch 135/1000\n",
      "27/27 [==============================] - 0s 3ms/step - loss: 0.3713 - accuracy: 0.8571 - val_loss: 0.0974 - val_accuracy: 0.9913\n",
      "\n",
      "Epoch 00135: saving model to model\\keypoint_classifier.hdf5\n",
      "Epoch 136/1000\n",
      "27/27 [==============================] - 0s 3ms/step - loss: 0.3906 - accuracy: 0.8539 - val_loss: 0.1069 - val_accuracy: 0.9817\n",
      "\n",
      "Epoch 00136: saving model to model\\keypoint_classifier.hdf5\n",
      "Epoch 137/1000\n",
      "27/27 [==============================] - 0s 3ms/step - loss: 0.3725 - accuracy: 0.8594 - val_loss: 0.1245 - val_accuracy: 0.9704\n",
      "\n",
      "Epoch 00137: saving model to model\\keypoint_classifier.hdf5\n",
      "Epoch 138/1000\n",
      "27/27 [==============================] - 0s 3ms/step - loss: 0.3604 - accuracy: 0.8585 - val_loss: 0.1039 - val_accuracy: 0.9852\n",
      "\n",
      "Epoch 00138: saving model to model\\keypoint_classifier.hdf5\n",
      "Epoch 139/1000\n",
      "27/27 [==============================] - 0s 3ms/step - loss: 0.3674 - accuracy: 0.8626 - val_loss: 0.1111 - val_accuracy: 0.9869\n",
      "\n",
      "Epoch 00139: saving model to model\\keypoint_classifier.hdf5\n",
      "Epoch 140/1000\n",
      "27/27 [==============================] - 0s 3ms/step - loss: 0.3663 - accuracy: 0.8594 - val_loss: 0.1094 - val_accuracy: 0.9791\n",
      "\n",
      "Epoch 00140: saving model to model\\keypoint_classifier.hdf5\n",
      "Epoch 141/1000\n",
      "27/27 [==============================] - 0s 3ms/step - loss: 0.3465 - accuracy: 0.8713 - val_loss: 0.1062 - val_accuracy: 0.9817\n",
      "\n",
      "Epoch 00141: saving model to model\\keypoint_classifier.hdf5\n",
      "Epoch 142/1000\n",
      "27/27 [==============================] - 0s 3ms/step - loss: 0.3666 - accuracy: 0.8600 - val_loss: 0.1228 - val_accuracy: 0.9704\n",
      "\n",
      "Epoch 00142: saving model to model\\keypoint_classifier.hdf5\n",
      "Epoch 143/1000\n",
      "27/27 [==============================] - 0s 3ms/step - loss: 0.3635 - accuracy: 0.8603 - val_loss: 0.1065 - val_accuracy: 0.9826\n",
      "\n",
      "Epoch 00143: saving model to model\\keypoint_classifier.hdf5\n",
      "Epoch 144/1000\n",
      "27/27 [==============================] - 0s 3ms/step - loss: 0.3620 - accuracy: 0.8626 - val_loss: 0.1110 - val_accuracy: 0.9774\n",
      "\n",
      "Epoch 00144: saving model to model\\keypoint_classifier.hdf5\n",
      "Epoch 145/1000\n",
      "27/27 [==============================] - 0s 3ms/step - loss: 0.3551 - accuracy: 0.8637 - val_loss: 0.1086 - val_accuracy: 0.9782\n",
      "\n",
      "Epoch 00145: saving model to model\\keypoint_classifier.hdf5\n",
      "Epoch 146/1000\n",
      "27/27 [==============================] - 0s 3ms/step - loss: 0.3728 - accuracy: 0.8623 - val_loss: 0.1215 - val_accuracy: 0.9721\n",
      "\n",
      "Epoch 00146: saving model to model\\keypoint_classifier.hdf5\n",
      "Epoch 147/1000\n",
      "27/27 [==============================] - 0s 3ms/step - loss: 0.3572 - accuracy: 0.8608 - val_loss: 0.1109 - val_accuracy: 0.9808\n",
      "\n",
      "Epoch 00147: saving model to model\\keypoint_classifier.hdf5\n",
      "Epoch 148/1000\n",
      "27/27 [==============================] - 0s 3ms/step - loss: 0.3729 - accuracy: 0.8646 - val_loss: 0.1098 - val_accuracy: 0.9774\n",
      "\n",
      "Epoch 00148: saving model to model\\keypoint_classifier.hdf5\n",
      "Epoch 149/1000\n",
      "27/27 [==============================] - 0s 3ms/step - loss: 0.3548 - accuracy: 0.8643 - val_loss: 0.1221 - val_accuracy: 0.9713\n",
      "\n",
      "Epoch 00149: saving model to model\\keypoint_classifier.hdf5\n",
      "Epoch 150/1000\n",
      "27/27 [==============================] - 0s 3ms/step - loss: 0.3596 - accuracy: 0.8600 - val_loss: 0.1086 - val_accuracy: 0.9791\n",
      "\n",
      "Epoch 00150: saving model to model\\keypoint_classifier.hdf5\n",
      "Epoch 151/1000\n",
      "27/27 [==============================] - 0s 3ms/step - loss: 0.3530 - accuracy: 0.8652 - val_loss: 0.1107 - val_accuracy: 0.9843\n",
      "\n",
      "Epoch 00151: saving model to model\\keypoint_classifier.hdf5\n",
      "Epoch 152/1000\n",
      "27/27 [==============================] - 0s 3ms/step - loss: 0.3682 - accuracy: 0.8632 - val_loss: 0.1225 - val_accuracy: 0.9730\n",
      "\n",
      "Epoch 00152: saving model to model\\keypoint_classifier.hdf5\n",
      "Epoch 153/1000\n",
      "27/27 [==============================] - ETA: 0s - loss: 0.1966 - accuracy: 0.94 - 0s 3ms/step - loss: 0.3481 - accuracy: 0.8713 - val_loss: 0.1014 - val_accuracy: 0.9826\n",
      "\n",
      "Epoch 00153: saving model to model\\keypoint_classifier.hdf5\n",
      "Epoch 154/1000\n",
      "27/27 [==============================] - 0s 3ms/step - loss: 0.3533 - accuracy: 0.8690 - val_loss: 0.1245 - val_accuracy: 0.9695\n",
      "\n",
      "Epoch 00154: saving model to model\\keypoint_classifier.hdf5\n",
      "Epoch 155/1000\n",
      "27/27 [==============================] - 0s 3ms/step - loss: 0.3692 - accuracy: 0.8603 - val_loss: 0.1102 - val_accuracy: 0.9852\n",
      "\n",
      "Epoch 00155: saving model to model\\keypoint_classifier.hdf5\n",
      "Epoch 00155: early stopping\n"
     ]
    },
    {
     "data": {
      "text/plain": [
       "<keras.callbacks.History at 0x29e5f9d82b0>"
      ]
     },
     "execution_count": 19,
     "metadata": {},
     "output_type": "execute_result"
    }
   ],
   "source": [
    "model.fit(\n",
    "    X_train,\n",
    "    y_train,\n",
    "    epochs=1000,\n",
    "    batch_size=128,\n",
    "    validation_data=(X_test, y_test),\n",
    "    callbacks=[cp_callback, es_callback]\n",
    ")"
   ]
  },
  {
   "cell_type": "code",
   "execution_count": 20,
   "metadata": {
    "colab": {
     "base_uri": "https://localhost:8080/"
    },
    "id": "pxvb2Y299hE3",
    "outputId": "59eb3185-2e37-4b9e-bc9d-ab1b8ac29b7f"
   },
   "outputs": [
    {
     "name": "stdout",
     "output_type": "stream",
     "text": [
      "9/9 [==============================] - 0s 1ms/step - loss: 0.1102 - accuracy: 0.9852\n"
     ]
    }
   ],
   "source": [
    "# Model evaluation\n",
    "val_loss, val_acc = model.evaluate(X_test, y_test, batch_size=128)"
   ]
  },
  {
   "cell_type": "code",
   "execution_count": 21,
   "metadata": {
    "id": "RBkmDeUW9hE4"
   },
   "outputs": [],
   "source": [
    "# Loading the saved model\n",
    "model = tf.keras.models.load_model(model_save_path)"
   ]
  },
  {
   "cell_type": "code",
   "execution_count": 22,
   "metadata": {
    "colab": {
     "base_uri": "https://localhost:8080/"
    },
    "id": "tFz9Tb0I9hE4",
    "outputId": "1c3b3528-54ae-4ee2-ab04-77429211cbef"
   },
   "outputs": [
    {
     "name": "stdout",
     "output_type": "stream",
     "text": [
      "[2.4234410e-05 1.3704991e-02 4.9538934e-03 5.2932743e-03 6.0819439e-04\n",
      " 1.3937769e-05 2.6231460e-04 9.7513539e-01 3.8284074e-06]\n",
      "7\n"
     ]
    }
   ],
   "source": [
    "# Inference test\n",
    "predict_result = model.predict(np.array([X_test[0]]))\n",
    "print(np.squeeze(predict_result))\n",
    "print(np.argmax(np.squeeze(predict_result)))"
   ]
  },
  {
   "cell_type": "markdown",
   "metadata": {
    "id": "S3U4yNWx9hE4"
   },
   "source": [
    "# Confusion matrix"
   ]
  },
  {
   "cell_type": "code",
   "execution_count": 23,
   "metadata": {
    "colab": {
     "base_uri": "https://localhost:8080/",
     "height": 582
    },
    "id": "AP1V6SCk9hE5",
    "outputId": "08e41a80-7a4a-4619-8125-ecc371368d19"
   },
   "outputs": [
    {
     "data": {
      "image/png": "[encoded data removed]",
      "text/plain": [
       "<Figure size 504x432 with 2 Axes>"
      ]
     },
     "metadata": {
      "needs_background": "light"
     },
     "output_type": "display_data"
    },
    {
     "name": "stdout",
     "output_type": "stream",
     "text": [
      "Classification Report\n",
      "              precision    recall  f1-score   support\n",
      "\n",
      "           0       0.99      1.00      1.00       121\n",
      "           1       1.00      0.99      0.99       135\n",
      "           2       1.00      1.00      1.00       126\n",
      "           3       1.00      0.99      1.00       127\n",
      "           4       1.00      1.00      1.00       138\n",
      "           5       1.00      0.90      0.94       134\n",
      "           6       1.00      1.00      1.00       130\n",
      "           7       0.99      1.00      0.99        84\n",
      "           8       0.91      1.00      0.95       153\n",
      "\n",
      "    accuracy                           0.99      1148\n",
      "   macro avg       0.99      0.99      0.99      1148\n",
      "weighted avg       0.99      0.99      0.99      1148\n",
      "\n"
     ]
    }
   ],
   "source": [
    "import pandas as pd\n",
    "import seaborn as sns\n",
    "import matplotlib.pyplot as plt\n",
    "from sklearn.metrics import confusion_matrix, classification_report\n",
    "\n",
    "def print_confusion_matrix(y_true, y_pred, report=True):\n",
    "    labels = sorted(list(set(y_true)))\n",
    "    cmx_data = confusion_matrix(y_true, y_pred, labels=labels)\n",
    "    \n",
    "    df_cmx = pd.DataFrame(cmx_data, index=labels, columns=labels)\n",
    " \n",
    "    fig, ax = plt.subplots(figsize=(7, 6))\n",
    "    sns.heatmap(df_cmx, annot=True, fmt='g' ,square=False)\n",
    "    ax.set_ylim(len(set(y_true)), 0)\n",
    "    plt.show()\n",
    "    \n",
    "    if report:\n",
    "        print('Classification Report')\n",
    "        print(classification_report(y_test, y_pred))\n",
    "\n",
    "Y_pred = model.predict(X_test)\n",
    "y_pred = np.argmax(Y_pred, axis=1)\n",
    "\n",
    "print_confusion_matrix(y_test, y_pred)"
   ]
  },
  {
   "cell_type": "markdown",
   "metadata": {
    "id": "FNP6aqzc9hE5"
   },
   "source": [
    "# Convert to model for Tensorflow-Lite"
   ]
  },
  {
   "cell_type": "code",
   "execution_count": 24,
   "metadata": {
    "id": "ODjnYyld9hE6"
   },
   "outputs": [],
   "source": [
    "# Save as a model dedicated to inference\n",
    "model.save(model_save_path, include_optimizer=False)"
   ]
  },
  {
   "cell_type": "code",
   "execution_count": 25,
   "metadata": {
    "colab": {
     "base_uri": "https://localhost:8080/"
    },
    "id": "zRfuK8Y59hE6",
    "outputId": "a4ca585c-b5d5-4244-8291-8674063209bb"
   },
   "outputs": [
    {
     "name": "stdout",
     "output_type": "stream",
     "text": [
      "INFO:tensorflow:Assets written to: C:\\Users\\Asus\\AppData\\Local\\Temp\\tmpd33wd0nf\\assets\n"
     ]
    },
    {
     "data": {
      "text/plain": [
       "7216"
      ]
     },
     "execution_count": 25,
     "metadata": {},
     "output_type": "execute_result"
    }
   ],
   "source": [
    "# Transform model (quantization)\n",
    "\n",
    "converter = tf.lite.TFLiteConverter.from_keras_model(model)\n",
    "converter.optimizations = [tf.lite.Optimize.DEFAULT]\n",
    "tflite_quantized_model = converter.convert()\n",
    "\n",
    "open(tflite_save_path, 'wb').write(tflite_quantized_model)"
   ]
  },
  {
   "cell_type": "markdown",
   "metadata": {
    "id": "CHBPBXdx9hE6"
   },
   "source": [
    "# Inference test"
   ]
  },
  {
   "cell_type": "code",
   "execution_count": 26,
   "metadata": {
    "id": "mGAzLocO9hE7"
   },
   "outputs": [],
   "source": [
    "interpreter = tf.lite.Interpreter(model_path=tflite_save_path)\n",
    "interpreter.allocate_tensors()"
   ]
  },
  {
   "cell_type": "code",
   "execution_count": 27,
   "metadata": {
    "id": "oQuDK8YS9hE7"
   },
   "outputs": [],
   "source": [
    "# Get I / O tensor\n",
    "input_details = interpreter.get_input_details()\n",
    "output_details = interpreter.get_output_details()"
   ]
  },
  {
   "cell_type": "code",
   "execution_count": 28,
   "metadata": {
    "id": "2_ixAf_l9hE7"
   },
   "outputs": [],
   "source": [
    "interpreter.set_tensor(input_details[0]['index'], np.array([X_test[0]]))"
   ]
  },
  {
   "cell_type": "code",
   "execution_count": 29,
   "metadata": {
    "colab": {
     "base_uri": "https://localhost:8080/"
    },
    "id": "s4FoAnuc9hE7",
    "outputId": "91f18257-8d8b-4ef3-c558-e9b5f94fabbf",
    "scrolled": true
   },
   "outputs": [
    {
     "name": "stdout",
     "output_type": "stream",
     "text": [
      "Wall time: 0 ns\n"
     ]
    }
   ],
   "source": [
    "%%time\n",
    "# Inference implementation\n",
    "interpreter.invoke()\n",
    "tflite_results = interpreter.get_tensor(output_details[0]['index'])"
   ]
  },
  {
   "cell_type": "code",
   "execution_count": 30,
   "metadata": {
    "colab": {
     "base_uri": "https://localhost:8080/"
    },
    "id": "vONjp19J9hE8",
    "outputId": "77205e24-fd00-42c4-f7b6-e06e527c2cba"
   },
   "outputs": [
    {
     "name": "stdout",
     "output_type": "stream",
     "text": [
      "[2.42344067e-05 1.37049835e-02 4.95388918e-03 5.29327197e-03\n",
      " 6.08194969e-04 1.39377553e-05 2.62314832e-04 9.75135386e-01\n",
      " 3.82841108e-06]\n",
      "7\n"
     ]
    }
   ],
   "source": [
    "print(np.squeeze(tflite_results))\n",
    "print(np.argmax(np.squeeze(tflite_results)))"
   ]
  },
  {
   "cell_type": "code",
   "execution_count": null,
   "metadata": {},
   "outputs": [],
   "source": []
  }
 ],
 "metadata": {
  "accelerator": "GPU",
  "colab": {
   "collapsed_sections": [],
   "name": "keypoint_classification_EN.ipynb",
   "provenance": [],
   "toc_visible": true
  },
  "kernelspec": {
   "display_name": "Python 3",
   "language": "python",
   "name": "python3"
  },
  "language_info": {
   "codemirror_mode": {
    "name": "ipython",
    "version": 3
   },
   "file_extension": ".py",
   "mimetype": "text/x-python",
   "name": "python",
   "nbconvert_exporter": "python",
   "pygments_lexer": "ipython3",
   "version": "3.9.0"
  }
 },
 "nbformat": 4,
 "nbformat_minor": 1
}
