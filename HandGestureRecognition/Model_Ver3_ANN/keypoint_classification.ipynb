{
 "cells": [
  {
   "cell_type": "code",
   "execution_count": 7,
   "metadata": {
    "id": "igMyGnjE9hEp"
   },
   "outputs": [],
   "source": [
    "import csv\n",
    "\n",
    "import numpy as np\n",
    "import tensorflow as tf\n",
    "from sklearn.model_selection import train_test_split\n",
    "\n",
    "RANDOM_SEED = 42"
   ]
  },
  {
   "cell_type": "markdown",
   "metadata": {
    "id": "t2HDvhIu9hEr"
   },
   "source": [
    "# Specify each path"
   ]
  },
  {
   "cell_type": "code",
   "execution_count": 8,
   "metadata": {
    "id": "9NvZP2Zn9hEy"
   },
   "outputs": [],
   "source": [
    "dataset = 'model/keypoint.csv'\n",
    "model_save_path = 'model/keypoint_classifier.hdf5'\n",
    "tflite_save_path = 'model/keypoint_classifier.tflite'"
   ]
  },
  {
   "cell_type": "markdown",
   "metadata": {
    "id": "s5oMH7x19hEz"
   },
   "source": [
    "# Set number of classes"
   ]
  },
  {
   "cell_type": "code",
   "execution_count": 9,
   "metadata": {
    "id": "du4kodXL9hEz"
   },
   "outputs": [],
   "source": [
    "NUM_CLASSES = 8"
   ]
  },
  {
   "cell_type": "markdown",
   "metadata": {
    "id": "XjnL0uso9hEz"
   },
   "source": [
    "# Dataset reading"
   ]
  },
  {
   "cell_type": "code",
   "execution_count": 10,
   "metadata": {
    "id": "QT5ZqtEz9hE0"
   },
   "outputs": [],
   "source": [
    "X_dataset = np.loadtxt(dataset, delimiter=',', dtype='float32', usecols=list(range(1, (21 * 2) + 1)))"
   ]
  },
  {
   "cell_type": "code",
   "execution_count": 13,
   "metadata": {
    "id": "QmoKFsp49hE0"
   },
   "outputs": [],
   "source": [
    "y_dataset = np.loadtxt(dataset, delimiter=',', dtype='int32', usecols=(0))"
   ]
  },
  {
   "cell_type": "code",
   "execution_count": 14,
   "metadata": {
    "id": "xQU7JTZ_9hE0"
   },
   "outputs": [],
   "source": [
    "X_train, X_test, y_train, y_test = train_test_split(X_dataset, y_dataset, train_size=0.75, random_state=RANDOM_SEED)"
   ]
  },
  {
   "cell_type": "markdown",
   "metadata": {
    "id": "mxK_lETT9hE0"
   },
   "source": [
    "# Model building"
   ]
  },
  {
   "cell_type": "code",
   "execution_count": 15,
   "metadata": {
    "id": "vHBmUf1t9hE1"
   },
   "outputs": [],
   "source": [
    "model = tf.keras.models.Sequential([\n",
    "    tf.keras.layers.Input((21 * 2, )),\n",
    "    tf.keras.layers.Dropout(0.2),\n",
    "    tf.keras.layers.Dense(20, activation='relu'),\n",
    "    tf.keras.layers.Dropout(0.4),\n",
    "    tf.keras.layers.Dense(10, activation='relu'),\n",
    "    tf.keras.layers.Dense(NUM_CLASSES, activation='softmax')\n",
    "])"
   ]
  },
  {
   "cell_type": "code",
   "execution_count": 16,
   "metadata": {
    "colab": {
     "base_uri": "https://localhost:8080/"
    },
    "id": "ypqky9tc9hE1",
    "outputId": "5db082bb-30e3-4110-bf63-a1ee777ecd46"
   },
   "outputs": [
    {
     "name": "stdout",
     "output_type": "stream",
     "text": [
      "Model: \"sequential\"\n",
      "_________________________________________________________________\n",
      "Layer (type)                 Output Shape              Param #   \n",
      "=================================================================\n",
      "dropout (Dropout)            (None, 42)                0         \n",
      "_________________________________________________________________\n",
      "dense (Dense)                (None, 20)                860       \n",
      "_________________________________________________________________\n",
      "dropout_1 (Dropout)          (None, 20)                0         \n",
      "_________________________________________________________________\n",
      "dense_1 (Dense)              (None, 10)                210       \n",
      "_________________________________________________________________\n",
      "dense_2 (Dense)              (None, 8)                 88        \n",
      "=================================================================\n",
      "Total params: 1,158\n",
      "Trainable params: 1,158\n",
      "Non-trainable params: 0\n",
      "_________________________________________________________________\n"
     ]
    }
   ],
   "source": [
    "model.summary()  # tf.keras.utils.plot_model(model, show_shapes=True)"
   ]
  },
  {
   "cell_type": "code",
   "execution_count": 17,
   "metadata": {
    "id": "MbMjOflQ9hE1"
   },
   "outputs": [],
   "source": [
    "# Model checkpoint callback\n",
    "cp_callback = tf.keras.callbacks.ModelCheckpoint(\n",
    "    model_save_path, verbose=1, save_weights_only=False)\n",
    "# Callback for early stopping\n",
    "es_callback = tf.keras.callbacks.EarlyStopping(patience=20, verbose=1)"
   ]
  },
  {
   "cell_type": "code",
   "execution_count": 18,
   "metadata": {
    "id": "c3Dac0M_9hE2"
   },
   "outputs": [],
   "source": [
    "# Model compilation\n",
    "model.compile(\n",
    "    optimizer='adam',\n",
    "    loss='sparse_categorical_crossentropy',\n",
    "    metrics=['accuracy']\n",
    ")"
   ]
  },
  {
   "cell_type": "markdown",
   "metadata": {
    "id": "7XI0j1Iu9hE2"
   },
   "source": [
    "# Model training"
   ]
  },
  {
   "cell_type": "code",
   "execution_count": 19,
   "metadata": {
    "colab": {
     "base_uri": "https://localhost:8080/"
    },
    "id": "WirBl-JE9hE3",
    "outputId": "71b30ca2-8294-4d9d-8aa2-800d90d399de",
    "scrolled": true
   },
   "outputs": [
    {
     "name": "stdout",
     "output_type": "stream",
     "text": [
      "Epoch 1/1000\n",
      "37/37 [==============================] - 2s 17ms/step - loss: 2.0565 - accuracy: 0.1639 - val_loss: 1.9441 - val_accuracy: 0.2610\n",
      "\n",
      "Epoch 00001: saving model to model\\keypoint_classifier.hdf5\n",
      "Epoch 2/1000\n",
      "37/37 [==============================] - 0s 12ms/step - loss: 1.8806 - accuracy: 0.2818 - val_loss: 1.7626 - val_accuracy: 0.2913\n",
      "\n",
      "Epoch 00002: saving model to model\\keypoint_classifier.hdf5\n",
      "Epoch 3/1000\n",
      "37/37 [==============================] - 0s 4ms/step - loss: 1.7168 - accuracy: 0.3346 - val_loss: 1.5601 - val_accuracy: 0.4173\n",
      "\n",
      "Epoch 00003: saving model to model\\keypoint_classifier.hdf5\n",
      "Epoch 4/1000\n",
      "37/37 [==============================] - 0s 4ms/step - loss: 1.5739 - accuracy: 0.3802 - val_loss: 1.3920 - val_accuracy: 0.4890\n",
      "\n",
      "Epoch 00004: saving model to model\\keypoint_classifier.hdf5\n",
      "Epoch 5/1000\n",
      "37/37 [==============================] - 0s 4ms/step - loss: 1.4711 - accuracy: 0.4237 - val_loss: 1.2697 - val_accuracy: 0.5045\n",
      "\n",
      "Epoch 00005: saving model to model\\keypoint_classifier.hdf5\n",
      "Epoch 6/1000\n",
      "37/37 [==============================] - 0s 4ms/step - loss: 1.3865 - accuracy: 0.4438 - val_loss: 1.1682 - val_accuracy: 0.5820\n",
      "\n",
      "Epoch 00006: saving model to model\\keypoint_classifier.hdf5\n",
      "Epoch 7/1000\n",
      "37/37 [==============================] - 0s 3ms/step - loss: 1.3263 - accuracy: 0.4571 - val_loss: 1.0938 - val_accuracy: 0.6376\n",
      "\n",
      "Epoch 00007: saving model to model\\keypoint_classifier.hdf5\n",
      "Epoch 8/1000\n",
      "37/37 [==============================] - 0s 4ms/step - loss: 1.2733 - accuracy: 0.4778 - val_loss: 1.0357 - val_accuracy: 0.6434\n",
      "\n",
      "Epoch 00008: saving model to model\\keypoint_classifier.hdf5\n",
      "Epoch 9/1000\n",
      "37/37 [==============================] - 0s 4ms/step - loss: 1.2254 - accuracy: 0.5095 - val_loss: 0.9811 - val_accuracy: 0.7093\n",
      "\n",
      "Epoch 00009: saving model to model\\keypoint_classifier.hdf5\n",
      "Epoch 10/1000\n",
      "37/37 [==============================] - 0s 4ms/step - loss: 1.2003 - accuracy: 0.5228 - val_loss: 0.9387 - val_accuracy: 0.7422\n",
      "\n",
      "Epoch 00010: saving model to model\\keypoint_classifier.hdf5\n",
      "Epoch 11/1000\n",
      "37/37 [==============================] - 0s 12ms/step - loss: 1.1616 - accuracy: 0.5353 - val_loss: 0.8948 - val_accuracy: 0.7565\n",
      "\n",
      "Epoch 00011: saving model to model\\keypoint_classifier.hdf5\n",
      "Epoch 12/1000\n",
      "37/37 [==============================] - 0s 4ms/step - loss: 1.1344 - accuracy: 0.5476 - val_loss: 0.8588 - val_accuracy: 0.7610\n",
      "\n",
      "Epoch 00012: saving model to model\\keypoint_classifier.hdf5\n",
      "Epoch 13/1000\n",
      "37/37 [==============================] - 0s 7ms/step - loss: 1.1188 - accuracy: 0.5431 - val_loss: 0.8234 - val_accuracy: 0.7642\n",
      "\n",
      "Epoch 00013: saving model to model\\keypoint_classifier.hdf5\n",
      "Epoch 14/1000\n",
      "37/37 [==============================] - 0s 5ms/step - loss: 1.0997 - accuracy: 0.5646 - val_loss: 0.7996 - val_accuracy: 0.7778\n",
      "\n",
      "Epoch 00014: saving model to model\\keypoint_classifier.hdf5\n",
      "Epoch 15/1000\n",
      "37/37 [==============================] - 0s 6ms/step - loss: 1.0667 - accuracy: 0.5732 - val_loss: 0.7668 - val_accuracy: 0.7829\n",
      "\n",
      "Epoch 00015: saving model to model\\keypoint_classifier.hdf5\n",
      "Epoch 16/1000\n",
      "37/37 [==============================] - 0s 5ms/step - loss: 1.0613 - accuracy: 0.5720 - val_loss: 0.7386 - val_accuracy: 0.7868\n",
      "\n",
      "Epoch 00016: saving model to model\\keypoint_classifier.hdf5\n",
      "Epoch 17/1000\n",
      "37/37 [==============================] - 0s 6ms/step - loss: 1.0330 - accuracy: 0.5883 - val_loss: 0.7163 - val_accuracy: 0.7855\n",
      "\n",
      "Epoch 00017: saving model to model\\keypoint_classifier.hdf5\n",
      "Epoch 18/1000\n",
      "37/37 [==============================] - 0s 4ms/step - loss: 1.0170 - accuracy: 0.5935 - val_loss: 0.6897 - val_accuracy: 0.8249\n",
      "\n",
      "Epoch 00018: saving model to model\\keypoint_classifier.hdf5\n",
      "Epoch 19/1000\n",
      "37/37 [==============================] - 0s 3ms/step - loss: 0.9874 - accuracy: 0.6043 - val_loss: 0.6700 - val_accuracy: 0.8198\n",
      "\n",
      "Epoch 00019: saving model to model\\keypoint_classifier.hdf5\n",
      "Epoch 20/1000\n",
      "37/37 [==============================] - 0s 3ms/step - loss: 0.9922 - accuracy: 0.6015 - val_loss: 0.6546 - val_accuracy: 0.8314\n",
      "\n",
      "Epoch 00020: saving model to model\\keypoint_classifier.hdf5\n",
      "Epoch 21/1000\n",
      "37/37 [==============================] - 0s 4ms/step - loss: 0.9816 - accuracy: 0.6002 - val_loss: 0.6423 - val_accuracy: 0.8411\n",
      "\n",
      "Epoch 00021: saving model to model\\keypoint_classifier.hdf5\n",
      "Epoch 22/1000\n",
      "37/37 [==============================] - 0s 3ms/step - loss: 0.9615 - accuracy: 0.6168 - val_loss: 0.6236 - val_accuracy: 0.8469\n",
      "\n",
      "Epoch 00022: saving model to model\\keypoint_classifier.hdf5\n",
      "Epoch 23/1000\n",
      "37/37 [==============================] - 0s 3ms/step - loss: 0.9458 - accuracy: 0.6299 - val_loss: 0.6026 - val_accuracy: 0.8585\n",
      "\n",
      "Epoch 00023: saving model to model\\keypoint_classifier.hdf5\n",
      "Epoch 24/1000\n",
      "37/37 [==============================] - 0s 4ms/step - loss: 0.9362 - accuracy: 0.6170 - val_loss: 0.5911 - val_accuracy: 0.8643\n",
      "\n",
      "Epoch 00024: saving model to model\\keypoint_classifier.hdf5\n",
      "Epoch 25/1000\n",
      "37/37 [==============================] - 0s 3ms/step - loss: 0.9189 - accuracy: 0.6342 - val_loss: 0.5699 - val_accuracy: 0.8740\n",
      "\n",
      "Epoch 00025: saving model to model\\keypoint_classifier.hdf5\n",
      "Epoch 26/1000\n",
      "37/37 [==============================] - 0s 3ms/step - loss: 0.9284 - accuracy: 0.6252 - val_loss: 0.5719 - val_accuracy: 0.8605\n",
      "\n",
      "Epoch 00026: saving model to model\\keypoint_classifier.hdf5\n",
      "Epoch 27/1000\n",
      "37/37 [==============================] - 0s 3ms/step - loss: 0.9065 - accuracy: 0.6411 - val_loss: 0.5556 - val_accuracy: 0.8676\n",
      "\n",
      "Epoch 00027: saving model to model\\keypoint_classifier.hdf5\n",
      "Epoch 28/1000\n",
      "37/37 [==============================] - 0s 3ms/step - loss: 0.8987 - accuracy: 0.6379 - val_loss: 0.5389 - val_accuracy: 0.8870\n",
      "\n",
      "Epoch 00028: saving model to model\\keypoint_classifier.hdf5\n",
      "Epoch 29/1000\n",
      "37/37 [==============================] - 0s 3ms/step - loss: 0.8847 - accuracy: 0.6510 - val_loss: 0.5291 - val_accuracy: 0.8714\n",
      "\n",
      "Epoch 00029: saving model to model\\keypoint_classifier.hdf5\n",
      "Epoch 30/1000\n",
      "37/37 [==============================] - 0s 3ms/step - loss: 0.8790 - accuracy: 0.6536 - val_loss: 0.5171 - val_accuracy: 0.8992\n",
      "\n",
      "Epoch 00030: saving model to model\\keypoint_classifier.hdf5\n",
      "Epoch 31/1000\n",
      "37/37 [==============================] - 0s 4ms/step - loss: 0.8673 - accuracy: 0.6601 - val_loss: 0.5172 - val_accuracy: 0.8727\n",
      "\n",
      "Epoch 00031: saving model to model\\keypoint_classifier.hdf5\n",
      "Epoch 32/1000\n",
      "37/37 [==============================] - 0s 5ms/step - loss: 0.8677 - accuracy: 0.6527 - val_loss: 0.5096 - val_accuracy: 0.8773\n",
      "\n",
      "Epoch 00032: saving model to model\\keypoint_classifier.hdf5\n",
      "Epoch 33/1000\n",
      "37/37 [==============================] - ETA: 0s - loss: 0.8633 - accuracy: 0.66 - 0s 7ms/step - loss: 0.8697 - accuracy: 0.6558 - val_loss: 0.4933 - val_accuracy: 0.8928\n",
      "\n",
      "Epoch 00033: saving model to model\\keypoint_classifier.hdf5\n",
      "Epoch 34/1000\n",
      "37/37 [==============================] - 0s 9ms/step - loss: 0.8496 - accuracy: 0.6680 - val_loss: 0.4819 - val_accuracy: 0.8934\n",
      "\n",
      "Epoch 00034: saving model to model\\keypoint_classifier.hdf5\n",
      "Epoch 35/1000\n",
      "37/37 [==============================] - 0s 7ms/step - loss: 0.8447 - accuracy: 0.6702 - val_loss: 0.4733 - val_accuracy: 0.9076\n",
      "\n",
      "Epoch 00035: saving model to model\\keypoint_classifier.hdf5\n",
      "Epoch 36/1000\n",
      "37/37 [==============================] - 0s 6ms/step - loss: 0.8404 - accuracy: 0.6661 - val_loss: 0.4629 - val_accuracy: 0.9121\n",
      "\n",
      "Epoch 00036: saving model to model\\keypoint_classifier.hdf5\n",
      "Epoch 37/1000\n",
      "37/37 [==============================] - 0s 11ms/step - loss: 0.8408 - accuracy: 0.6728 - val_loss: 0.4689 - val_accuracy: 0.8986\n",
      "\n",
      "Epoch 00037: saving model to model\\keypoint_classifier.hdf5\n",
      "Epoch 38/1000\n",
      "37/37 [==============================] - 0s 5ms/step - loss: 0.8200 - accuracy: 0.6820 - val_loss: 0.4631 - val_accuracy: 0.9005\n",
      "\n",
      "Epoch 00038: saving model to model\\keypoint_classifier.hdf5\n",
      "Epoch 39/1000\n",
      "37/37 [==============================] - 0s 9ms/step - loss: 0.8345 - accuracy: 0.6667 - val_loss: 0.4515 - val_accuracy: 0.9102\n",
      "\n",
      "Epoch 00039: saving model to model\\keypoint_classifier.hdf5\n",
      "Epoch 40/1000\n",
      "37/37 [==============================] - 0s 5ms/step - loss: 0.8178 - accuracy: 0.6745 - val_loss: 0.4402 - val_accuracy: 0.9167\n",
      "\n",
      "Epoch 00040: saving model to model\\keypoint_classifier.hdf5\n"
     ]
    },
    {
     "name": "stdout",
     "output_type": "stream",
     "text": [
      "Epoch 41/1000\n",
      "37/37 [==============================] - 0s 4ms/step - loss: 0.8069 - accuracy: 0.6866 - val_loss: 0.4388 - val_accuracy: 0.9160\n",
      "\n",
      "Epoch 00041: saving model to model\\keypoint_classifier.hdf5\n",
      "Epoch 42/1000\n",
      "37/37 [==============================] - 0s 3ms/step - loss: 0.8014 - accuracy: 0.6913 - val_loss: 0.4317 - val_accuracy: 0.9089\n",
      "\n",
      "Epoch 00042: saving model to model\\keypoint_classifier.hdf5\n",
      "Epoch 43/1000\n",
      "37/37 [==============================] - 0s 13ms/step - loss: 0.7848 - accuracy: 0.6986 - val_loss: 0.4209 - val_accuracy: 0.9212\n",
      "\n",
      "Epoch 00043: saving model to model\\keypoint_classifier.hdf5\n",
      "Epoch 44/1000\n",
      "37/37 [==============================] - 0s 5ms/step - loss: 0.7836 - accuracy: 0.7001 - val_loss: 0.4146 - val_accuracy: 0.9089\n",
      "\n",
      "Epoch 00044: saving model to model\\keypoint_classifier.hdf5\n",
      "Epoch 45/1000\n",
      "37/37 [==============================] - 0s 3ms/step - loss: 0.7863 - accuracy: 0.6965 - val_loss: 0.4171 - val_accuracy: 0.9031\n",
      "\n",
      "Epoch 00045: saving model to model\\keypoint_classifier.hdf5\n",
      "Epoch 46/1000\n",
      "37/37 [==============================] - 0s 7ms/step - loss: 0.7803 - accuracy: 0.7057 - val_loss: 0.4071 - val_accuracy: 0.9102\n",
      "\n",
      "Epoch 00046: saving model to model\\keypoint_classifier.hdf5\n",
      "Epoch 47/1000\n",
      "37/37 [==============================] - 0s 4ms/step - loss: 0.7740 - accuracy: 0.7049 - val_loss: 0.4032 - val_accuracy: 0.9121\n",
      "\n",
      "Epoch 00047: saving model to model\\keypoint_classifier.hdf5\n",
      "Epoch 48/1000\n",
      "37/37 [==============================] - 0s 4ms/step - loss: 0.7693 - accuracy: 0.7038 - val_loss: 0.3981 - val_accuracy: 0.9167\n",
      "\n",
      "Epoch 00048: saving model to model\\keypoint_classifier.hdf5\n",
      "Epoch 49/1000\n",
      "37/37 [==============================] - 0s 4ms/step - loss: 0.7768 - accuracy: 0.6997 - val_loss: 0.3892 - val_accuracy: 0.9186\n",
      "\n",
      "Epoch 00049: saving model to model\\keypoint_classifier.hdf5\n",
      "Epoch 50/1000\n",
      "37/37 [==============================] - 0s 3ms/step - loss: 0.7722 - accuracy: 0.7042 - val_loss: 0.3910 - val_accuracy: 0.9076\n",
      "\n",
      "Epoch 00050: saving model to model\\keypoint_classifier.hdf5\n",
      "Epoch 51/1000\n",
      "37/37 [==============================] - 0s 8ms/step - loss: 0.7806 - accuracy: 0.6930 - val_loss: 0.3908 - val_accuracy: 0.9115\n",
      "\n",
      "Epoch 00051: saving model to model\\keypoint_classifier.hdf5\n",
      "Epoch 52/1000\n",
      "37/37 [==============================] - 0s 4ms/step - loss: 0.7635 - accuracy: 0.7094 - val_loss: 0.3814 - val_accuracy: 0.9244\n",
      "\n",
      "Epoch 00052: saving model to model\\keypoint_classifier.hdf5\n",
      "Epoch 53/1000\n",
      "37/37 [==============================] - 0s 4ms/step - loss: 0.7552 - accuracy: 0.7148 - val_loss: 0.3838 - val_accuracy: 0.9147\n",
      "\n",
      "Epoch 00053: saving model to model\\keypoint_classifier.hdf5\n",
      "Epoch 54/1000\n",
      "37/37 [==============================] - 0s 7ms/step - loss: 0.7646 - accuracy: 0.7096 - val_loss: 0.3774 - val_accuracy: 0.9264\n",
      "\n",
      "Epoch 00054: saving model to model\\keypoint_classifier.hdf5\n",
      "Epoch 55/1000\n",
      "37/37 [==============================] - 0s 3ms/step - loss: 0.7417 - accuracy: 0.7253 - val_loss: 0.3727 - val_accuracy: 0.9296\n",
      "\n",
      "Epoch 00055: saving model to model\\keypoint_classifier.hdf5\n",
      "Epoch 56/1000\n",
      "37/37 [==============================] - 0s 6ms/step - loss: 0.7440 - accuracy: 0.7154 - val_loss: 0.3718 - val_accuracy: 0.9205\n",
      "\n",
      "Epoch 00056: saving model to model\\keypoint_classifier.hdf5\n",
      "Epoch 57/1000\n",
      "37/37 [==============================] - 0s 6ms/step - loss: 0.7572 - accuracy: 0.7128 - val_loss: 0.3686 - val_accuracy: 0.9412\n",
      "\n",
      "Epoch 00057: saving model to model\\keypoint_classifier.hdf5\n",
      "Epoch 58/1000\n",
      "37/37 [==============================] - 0s 3ms/step - loss: 0.7279 - accuracy: 0.7219 - val_loss: 0.3697 - val_accuracy: 0.9380\n",
      "\n",
      "Epoch 00058: saving model to model\\keypoint_classifier.hdf5\n",
      "Epoch 59/1000\n",
      "37/37 [==============================] - 0s 4ms/step - loss: 0.7477 - accuracy: 0.7215 - val_loss: 0.3588 - val_accuracy: 0.9464\n",
      "\n",
      "Epoch 00059: saving model to model\\keypoint_classifier.hdf5\n",
      "Epoch 60/1000\n",
      "37/37 [==============================] - 0s 3ms/step - loss: 0.7410 - accuracy: 0.7238 - val_loss: 0.3572 - val_accuracy: 0.9457\n",
      "\n",
      "Epoch 00060: saving model to model\\keypoint_classifier.hdf5\n",
      "Epoch 61/1000\n",
      "37/37 [==============================] - 0s 3ms/step - loss: 0.7629 - accuracy: 0.7087 - val_loss: 0.3710 - val_accuracy: 0.9425\n",
      "\n",
      "Epoch 00061: saving model to model\\keypoint_classifier.hdf5\n",
      "Epoch 62/1000\n",
      "37/37 [==============================] - 0s 3ms/step - loss: 0.7341 - accuracy: 0.7221 - val_loss: 0.3620 - val_accuracy: 0.9419\n",
      "\n",
      "Epoch 00062: saving model to model\\keypoint_classifier.hdf5\n",
      "Epoch 63/1000\n",
      "37/37 [==============================] - 0s 4ms/step - loss: 0.7449 - accuracy: 0.7230 - val_loss: 0.3518 - val_accuracy: 0.9399\n",
      "\n",
      "Epoch 00063: saving model to model\\keypoint_classifier.hdf5\n",
      "Epoch 64/1000\n",
      "37/37 [==============================] - 0s 5ms/step - loss: 0.7267 - accuracy: 0.7191 - val_loss: 0.3506 - val_accuracy: 0.9425\n",
      "\n",
      "Epoch 00064: saving model to model\\keypoint_classifier.hdf5\n",
      "Epoch 65/1000\n",
      "37/37 [==============================] - 0s 4ms/step - loss: 0.7326 - accuracy: 0.7286 - val_loss: 0.3548 - val_accuracy: 0.9380\n",
      "\n",
      "Epoch 00065: saving model to model\\keypoint_classifier.hdf5\n",
      "Epoch 66/1000\n",
      "37/37 [==============================] - 0s 3ms/step - loss: 0.7273 - accuracy: 0.7277 - val_loss: 0.3431 - val_accuracy: 0.9464\n",
      "\n",
      "Epoch 00066: saving model to model\\keypoint_classifier.hdf5\n",
      "Epoch 67/1000\n",
      "37/37 [==============================] - 0s 3ms/step - loss: 0.7141 - accuracy: 0.7301 - val_loss: 0.3560 - val_accuracy: 0.9464\n",
      "\n",
      "Epoch 00067: saving model to model\\keypoint_classifier.hdf5\n",
      "Epoch 68/1000\n",
      "37/37 [==============================] - 0s 3ms/step - loss: 0.7166 - accuracy: 0.7387 - val_loss: 0.3446 - val_accuracy: 0.9457\n",
      "\n",
      "Epoch 00068: saving model to model\\keypoint_classifier.hdf5\n",
      "Epoch 69/1000\n",
      "37/37 [==============================] - 0s 3ms/step - loss: 0.7168 - accuracy: 0.7251 - val_loss: 0.3400 - val_accuracy: 0.9483\n",
      "\n",
      "Epoch 00069: saving model to model\\keypoint_classifier.hdf5\n",
      "Epoch 70/1000\n",
      "37/37 [==============================] - 0s 6ms/step - loss: 0.7204 - accuracy: 0.7215 - val_loss: 0.3397 - val_accuracy: 0.9432\n",
      "\n",
      "Epoch 00070: saving model to model\\keypoint_classifier.hdf5\n",
      "Epoch 71/1000\n",
      "37/37 [==============================] - 0s 4ms/step - loss: 0.7259 - accuracy: 0.7262 - val_loss: 0.3449 - val_accuracy: 0.9548\n",
      "\n",
      "Epoch 00071: saving model to model\\keypoint_classifier.hdf5\n",
      "Epoch 72/1000\n",
      "37/37 [==============================] - 0s 3ms/step - loss: 0.7169 - accuracy: 0.7309 - val_loss: 0.3305 - val_accuracy: 0.9535\n",
      "\n",
      "Epoch 00072: saving model to model\\keypoint_classifier.hdf5\n",
      "Epoch 73/1000\n",
      "37/37 [==============================] - 0s 4ms/step - loss: 0.7244 - accuracy: 0.7283 - val_loss: 0.3358 - val_accuracy: 0.9496\n",
      "\n",
      "Epoch 00073: saving model to model\\keypoint_classifier.hdf5\n",
      "Epoch 74/1000\n",
      "37/37 [==============================] - 0s 4ms/step - loss: 0.7063 - accuracy: 0.7294 - val_loss: 0.3381 - val_accuracy: 0.9535\n",
      "\n",
      "Epoch 00074: saving model to model\\keypoint_classifier.hdf5\n",
      "Epoch 75/1000\n",
      "37/37 [==============================] - 0s 3ms/step - loss: 0.7014 - accuracy: 0.7352 - val_loss: 0.3333 - val_accuracy: 0.9496\n",
      "\n",
      "Epoch 00075: saving model to model\\keypoint_classifier.hdf5\n",
      "Epoch 76/1000\n",
      "37/37 [==============================] - 0s 4ms/step - loss: 0.7069 - accuracy: 0.7329 - val_loss: 0.3308 - val_accuracy: 0.9432\n",
      "\n",
      "Epoch 00076: saving model to model\\keypoint_classifier.hdf5\n",
      "Epoch 77/1000\n",
      "37/37 [==============================] - 0s 3ms/step - loss: 0.6989 - accuracy: 0.7415 - val_loss: 0.3214 - val_accuracy: 0.9587\n",
      "\n",
      "Epoch 00077: saving model to model\\keypoint_classifier.hdf5\n",
      "Epoch 78/1000\n",
      "37/37 [==============================] - 0s 3ms/step - loss: 0.7188 - accuracy: 0.7372 - val_loss: 0.3290 - val_accuracy: 0.9522\n",
      "\n",
      "Epoch 00078: saving model to model\\keypoint_classifier.hdf5\n",
      "Epoch 79/1000\n",
      "37/37 [==============================] - 0s 4ms/step - loss: 0.7080 - accuracy: 0.7411 - val_loss: 0.3201 - val_accuracy: 0.9619\n",
      "\n",
      "Epoch 00079: saving model to model\\keypoint_classifier.hdf5\n",
      "Epoch 80/1000\n",
      "37/37 [==============================] - 0s 3ms/step - loss: 0.7240 - accuracy: 0.7329 - val_loss: 0.3311 - val_accuracy: 0.9490\n",
      "\n",
      "Epoch 00080: saving model to model\\keypoint_classifier.hdf5\n",
      "Epoch 81/1000\n"
     ]
    },
    {
     "name": "stdout",
     "output_type": "stream",
     "text": [
      "37/37 [==============================] - 0s 3ms/step - loss: 0.6987 - accuracy: 0.7413 - val_loss: 0.3297 - val_accuracy: 0.9457\n",
      "\n",
      "Epoch 00081: saving model to model\\keypoint_classifier.hdf5\n",
      "Epoch 82/1000\n",
      "37/37 [==============================] - 0s 3ms/step - loss: 0.7029 - accuracy: 0.7363 - val_loss: 0.3225 - val_accuracy: 0.9451\n",
      "\n",
      "Epoch 00082: saving model to model\\keypoint_classifier.hdf5\n",
      "Epoch 83/1000\n",
      "37/37 [==============================] - 0s 3ms/step - loss: 0.6981 - accuracy: 0.7391 - val_loss: 0.3123 - val_accuracy: 0.9483\n",
      "\n",
      "Epoch 00083: saving model to model\\keypoint_classifier.hdf5\n",
      "Epoch 84/1000\n",
      "37/37 [==============================] - 0s 3ms/step - loss: 0.6892 - accuracy: 0.7454 - val_loss: 0.3212 - val_accuracy: 0.9528\n",
      "\n",
      "Epoch 00084: saving model to model\\keypoint_classifier.hdf5\n",
      "Epoch 85/1000\n",
      "37/37 [==============================] - 0s 2ms/step - loss: 0.6969 - accuracy: 0.7417 - val_loss: 0.3146 - val_accuracy: 0.9535\n",
      "\n",
      "Epoch 00085: saving model to model\\keypoint_classifier.hdf5\n",
      "Epoch 86/1000\n",
      "37/37 [==============================] - 0s 4ms/step - loss: 0.7018 - accuracy: 0.7378 - val_loss: 0.3148 - val_accuracy: 0.9580\n",
      "\n",
      "Epoch 00086: saving model to model\\keypoint_classifier.hdf5\n",
      "Epoch 87/1000\n",
      "37/37 [==============================] - 0s 3ms/step - loss: 0.7088 - accuracy: 0.7370 - val_loss: 0.3064 - val_accuracy: 0.9567\n",
      "\n",
      "Epoch 00087: saving model to model\\keypoint_classifier.hdf5\n",
      "Epoch 88/1000\n",
      "37/37 [==============================] - 0s 3ms/step - loss: 0.6953 - accuracy: 0.7417 - val_loss: 0.3128 - val_accuracy: 0.9509\n",
      "\n",
      "Epoch 00088: saving model to model\\keypoint_classifier.hdf5\n",
      "Epoch 89/1000\n",
      "37/37 [==============================] - 0s 5ms/step - loss: 0.6811 - accuracy: 0.7505 - val_loss: 0.3231 - val_accuracy: 0.9470\n",
      "\n",
      "Epoch 00089: saving model to model\\keypoint_classifier.hdf5\n",
      "Epoch 90/1000\n",
      "37/37 [==============================] - 0s 3ms/step - loss: 0.6730 - accuracy: 0.7462 - val_loss: 0.3074 - val_accuracy: 0.9535\n",
      "\n",
      "Epoch 00090: saving model to model\\keypoint_classifier.hdf5\n",
      "Epoch 91/1000\n",
      "37/37 [==============================] - 0s 3ms/step - loss: 0.6798 - accuracy: 0.7443 - val_loss: 0.3125 - val_accuracy: 0.9535\n",
      "\n",
      "Epoch 00091: saving model to model\\keypoint_classifier.hdf5\n",
      "Epoch 92/1000\n",
      "37/37 [==============================] - 0s 3ms/step - loss: 0.6781 - accuracy: 0.7518 - val_loss: 0.3008 - val_accuracy: 0.9612\n",
      "\n",
      "Epoch 00092: saving model to model\\keypoint_classifier.hdf5\n",
      "Epoch 93/1000\n",
      "37/37 [==============================] - 0s 3ms/step - loss: 0.6744 - accuracy: 0.7508 - val_loss: 0.3123 - val_accuracy: 0.9464\n",
      "\n",
      "Epoch 00093: saving model to model\\keypoint_classifier.hdf5\n",
      "Epoch 94/1000\n",
      "37/37 [==============================] - 0s 3ms/step - loss: 0.6932 - accuracy: 0.7428 - val_loss: 0.3138 - val_accuracy: 0.9496\n",
      "\n",
      "Epoch 00094: saving model to model\\keypoint_classifier.hdf5\n",
      "Epoch 95/1000\n",
      "37/37 [==============================] - 0s 3ms/step - loss: 0.6766 - accuracy: 0.7505 - val_loss: 0.3098 - val_accuracy: 0.9509\n",
      "\n",
      "Epoch 00095: saving model to model\\keypoint_classifier.hdf5\n",
      "Epoch 96/1000\n",
      "37/37 [==============================] - 0s 3ms/step - loss: 0.6802 - accuracy: 0.7473 - val_loss: 0.3040 - val_accuracy: 0.9483\n",
      "\n",
      "Epoch 00096: saving model to model\\keypoint_classifier.hdf5\n",
      "Epoch 97/1000\n",
      "37/37 [==============================] - 0s 3ms/step - loss: 0.6668 - accuracy: 0.7564 - val_loss: 0.3029 - val_accuracy: 0.9593\n",
      "\n",
      "Epoch 00097: saving model to model\\keypoint_classifier.hdf5\n",
      "Epoch 98/1000\n",
      "37/37 [==============================] - 0s 3ms/step - loss: 0.6747 - accuracy: 0.7516 - val_loss: 0.3010 - val_accuracy: 0.9606\n",
      "\n",
      "Epoch 00098: saving model to model\\keypoint_classifier.hdf5\n",
      "Epoch 99/1000\n",
      "37/37 [==============================] - 0s 3ms/step - loss: 0.6698 - accuracy: 0.7525 - val_loss: 0.3119 - val_accuracy: 0.9444\n",
      "\n",
      "Epoch 00099: saving model to model\\keypoint_classifier.hdf5\n",
      "Epoch 100/1000\n",
      "37/37 [==============================] - 0s 3ms/step - loss: 0.6654 - accuracy: 0.7540 - val_loss: 0.2957 - val_accuracy: 0.9612\n",
      "\n",
      "Epoch 00100: saving model to model\\keypoint_classifier.hdf5\n",
      "Epoch 101/1000\n",
      "37/37 [==============================] - 0s 3ms/step - loss: 0.6737 - accuracy: 0.7445 - val_loss: 0.3031 - val_accuracy: 0.9548\n",
      "\n",
      "Epoch 00101: saving model to model\\keypoint_classifier.hdf5\n",
      "Epoch 102/1000\n",
      "37/37 [==============================] - 0s 3ms/step - loss: 0.6902 - accuracy: 0.7424 - val_loss: 0.3056 - val_accuracy: 0.9548\n",
      "\n",
      "Epoch 00102: saving model to model\\keypoint_classifier.hdf5\n",
      "Epoch 103/1000\n",
      "37/37 [==============================] - 0s 3ms/step - loss: 0.6738 - accuracy: 0.7514 - val_loss: 0.3080 - val_accuracy: 0.9541\n",
      "\n",
      "Epoch 00103: saving model to model\\keypoint_classifier.hdf5\n",
      "Epoch 104/1000\n",
      "37/37 [==============================] - 0s 3ms/step - loss: 0.6651 - accuracy: 0.7602 - val_loss: 0.3009 - val_accuracy: 0.9522\n",
      "\n",
      "Epoch 00104: saving model to model\\keypoint_classifier.hdf5\n",
      "Epoch 105/1000\n",
      "37/37 [==============================] - 0s 3ms/step - loss: 0.6575 - accuracy: 0.7548 - val_loss: 0.2848 - val_accuracy: 0.9516\n",
      "\n",
      "Epoch 00105: saving model to model\\keypoint_classifier.hdf5\n",
      "Epoch 106/1000\n",
      "37/37 [==============================] - 0s 3ms/step - loss: 0.6742 - accuracy: 0.7508 - val_loss: 0.2954 - val_accuracy: 0.9535\n",
      "\n",
      "Epoch 00106: saving model to model\\keypoint_classifier.hdf5\n",
      "Epoch 107/1000\n",
      "37/37 [==============================] - 0s 3ms/step - loss: 0.6648 - accuracy: 0.7527 - val_loss: 0.2932 - val_accuracy: 0.9574\n",
      "\n",
      "Epoch 00107: saving model to model\\keypoint_classifier.hdf5\n",
      "Epoch 108/1000\n",
      "37/37 [==============================] - 0s 3ms/step - loss: 0.6797 - accuracy: 0.7514 - val_loss: 0.2927 - val_accuracy: 0.9528\n",
      "\n",
      "Epoch 00108: saving model to model\\keypoint_classifier.hdf5\n",
      "Epoch 109/1000\n",
      "37/37 [==============================] - 0s 3ms/step - loss: 0.6720 - accuracy: 0.7443 - val_loss: 0.2914 - val_accuracy: 0.9567\n",
      "\n",
      "Epoch 00109: saving model to model\\keypoint_classifier.hdf5\n",
      "Epoch 110/1000\n",
      "37/37 [==============================] - 0s 3ms/step - loss: 0.6510 - accuracy: 0.7620 - val_loss: 0.2888 - val_accuracy: 0.9490\n",
      "\n",
      "Epoch 00110: saving model to model\\keypoint_classifier.hdf5\n",
      "Epoch 111/1000\n",
      "37/37 [==============================] - 0s 3ms/step - loss: 0.6829 - accuracy: 0.7520 - val_loss: 0.2987 - val_accuracy: 0.9470\n",
      "\n",
      "Epoch 00111: saving model to model\\keypoint_classifier.hdf5\n",
      "Epoch 112/1000\n",
      "37/37 [==============================] - 0s 3ms/step - loss: 0.6737 - accuracy: 0.7456 - val_loss: 0.2952 - val_accuracy: 0.9548\n",
      "\n",
      "Epoch 00112: saving model to model\\keypoint_classifier.hdf5\n",
      "Epoch 113/1000\n",
      "37/37 [==============================] - 0s 3ms/step - loss: 0.6662 - accuracy: 0.7512 - val_loss: 0.2925 - val_accuracy: 0.9483\n",
      "\n",
      "Epoch 00113: saving model to model\\keypoint_classifier.hdf5\n",
      "Epoch 114/1000\n",
      "37/37 [==============================] - 0s 3ms/step - loss: 0.6725 - accuracy: 0.7564 - val_loss: 0.2947 - val_accuracy: 0.9483\n",
      "\n",
      "Epoch 00114: saving model to model\\keypoint_classifier.hdf5\n",
      "Epoch 115/1000\n",
      "37/37 [==============================] - 0s 3ms/step - loss: 0.6666 - accuracy: 0.7471 - val_loss: 0.2954 - val_accuracy: 0.9503\n",
      "\n",
      "Epoch 00115: saving model to model\\keypoint_classifier.hdf5\n",
      "Epoch 116/1000\n",
      "37/37 [==============================] - 0s 3ms/step - loss: 0.6638 - accuracy: 0.7520 - val_loss: 0.2918 - val_accuracy: 0.9457\n",
      "\n",
      "Epoch 00116: saving model to model\\keypoint_classifier.hdf5\n",
      "Epoch 117/1000\n",
      "37/37 [==============================] - 0s 3ms/step - loss: 0.6600 - accuracy: 0.7609 - val_loss: 0.2875 - val_accuracy: 0.9503\n",
      "\n",
      "Epoch 00117: saving model to model\\keypoint_classifier.hdf5\n",
      "Epoch 118/1000\n",
      "37/37 [==============================] - 0s 3ms/step - loss: 0.6545 - accuracy: 0.7572 - val_loss: 0.2906 - val_accuracy: 0.9509\n",
      "\n",
      "Epoch 00118: saving model to model\\keypoint_classifier.hdf5\n",
      "Epoch 119/1000\n",
      "37/37 [==============================] - 0s 2ms/step - loss: 0.6539 - accuracy: 0.7551 - val_loss: 0.2897 - val_accuracy: 0.9567\n",
      "\n",
      "Epoch 00119: saving model to model\\keypoint_classifier.hdf5\n",
      "Epoch 120/1000\n",
      "37/37 [==============================] - 0s 3ms/step - loss: 0.6848 - accuracy: 0.7477 - val_loss: 0.3087 - val_accuracy: 0.9348\n",
      "\n",
      "Epoch 00120: saving model to model\\keypoint_classifier.hdf5\n",
      "Epoch 121/1000\n"
     ]
    },
    {
     "name": "stdout",
     "output_type": "stream",
     "text": [
      "37/37 [==============================] - 0s 3ms/step - loss: 0.6795 - accuracy: 0.7464 - val_loss: 0.2780 - val_accuracy: 0.9587\n",
      "\n",
      "Epoch 00121: saving model to model\\keypoint_classifier.hdf5\n",
      "Epoch 122/1000\n",
      "37/37 [==============================] - 0s 3ms/step - loss: 0.6816 - accuracy: 0.7480 - val_loss: 0.2839 - val_accuracy: 0.9528\n",
      "\n",
      "Epoch 00122: saving model to model\\keypoint_classifier.hdf5\n",
      "Epoch 123/1000\n",
      "37/37 [==============================] - 0s 3ms/step - loss: 0.6472 - accuracy: 0.7574 - val_loss: 0.2842 - val_accuracy: 0.9509\n",
      "\n",
      "Epoch 00123: saving model to model\\keypoint_classifier.hdf5\n",
      "Epoch 124/1000\n",
      "37/37 [==============================] - 0s 3ms/step - loss: 0.6432 - accuracy: 0.7617 - val_loss: 0.2797 - val_accuracy: 0.9496\n",
      "\n",
      "Epoch 00124: saving model to model\\keypoint_classifier.hdf5\n",
      "Epoch 125/1000\n",
      "37/37 [==============================] - 0s 3ms/step - loss: 0.6568 - accuracy: 0.7561 - val_loss: 0.2860 - val_accuracy: 0.9522\n",
      "\n",
      "Epoch 00125: saving model to model\\keypoint_classifier.hdf5\n",
      "Epoch 126/1000\n",
      "37/37 [==============================] - 0s 3ms/step - loss: 0.6392 - accuracy: 0.7671 - val_loss: 0.2794 - val_accuracy: 0.9548\n",
      "\n",
      "Epoch 00126: saving model to model\\keypoint_classifier.hdf5\n",
      "Epoch 127/1000\n",
      "37/37 [==============================] - 0s 5ms/step - loss: 0.6827 - accuracy: 0.7462 - val_loss: 0.2898 - val_accuracy: 0.9516\n",
      "\n",
      "Epoch 00127: saving model to model\\keypoint_classifier.hdf5\n",
      "Epoch 128/1000\n",
      "37/37 [==============================] - 0s 3ms/step - loss: 0.6514 - accuracy: 0.7615 - val_loss: 0.2873 - val_accuracy: 0.9464\n",
      "\n",
      "Epoch 00128: saving model to model\\keypoint_classifier.hdf5\n",
      "Epoch 129/1000\n",
      "37/37 [==============================] - 0s 3ms/step - loss: 0.6605 - accuracy: 0.7572 - val_loss: 0.2886 - val_accuracy: 0.9503\n",
      "\n",
      "Epoch 00129: saving model to model\\keypoint_classifier.hdf5\n",
      "Epoch 130/1000\n",
      "37/37 [==============================] - 0s 3ms/step - loss: 0.6443 - accuracy: 0.7611 - val_loss: 0.2798 - val_accuracy: 0.9541\n",
      "\n",
      "Epoch 00130: saving model to model\\keypoint_classifier.hdf5\n",
      "Epoch 131/1000\n",
      "37/37 [==============================] - 0s 3ms/step - loss: 0.6458 - accuracy: 0.7706 - val_loss: 0.2854 - val_accuracy: 0.9503\n",
      "\n",
      "Epoch 00131: saving model to model\\keypoint_classifier.hdf5\n",
      "Epoch 132/1000\n",
      "37/37 [==============================] - 0s 3ms/step - loss: 0.6622 - accuracy: 0.7514 - val_loss: 0.2772 - val_accuracy: 0.9522\n",
      "\n",
      "Epoch 00132: saving model to model\\keypoint_classifier.hdf5\n",
      "Epoch 133/1000\n",
      "37/37 [==============================] - 0s 3ms/step - loss: 0.6610 - accuracy: 0.7574 - val_loss: 0.2825 - val_accuracy: 0.9548\n",
      "\n",
      "Epoch 00133: saving model to model\\keypoint_classifier.hdf5\n",
      "Epoch 134/1000\n",
      "37/37 [==============================] - 0s 3ms/step - loss: 0.6401 - accuracy: 0.7613 - val_loss: 0.2805 - val_accuracy: 0.9567\n",
      "\n",
      "Epoch 00134: saving model to model\\keypoint_classifier.hdf5\n",
      "Epoch 135/1000\n",
      "37/37 [==============================] - 0s 3ms/step - loss: 0.6682 - accuracy: 0.7566 - val_loss: 0.2799 - val_accuracy: 0.9457\n",
      "\n",
      "Epoch 00135: saving model to model\\keypoint_classifier.hdf5\n",
      "Epoch 136/1000\n",
      "37/37 [==============================] - 0s 3ms/step - loss: 0.6476 - accuracy: 0.7626 - val_loss: 0.2801 - val_accuracy: 0.9496\n",
      "\n",
      "Epoch 00136: saving model to model\\keypoint_classifier.hdf5\n",
      "Epoch 137/1000\n",
      "37/37 [==============================] - 0s 3ms/step - loss: 0.6442 - accuracy: 0.7660 - val_loss: 0.2843 - val_accuracy: 0.9477\n",
      "\n",
      "Epoch 00137: saving model to model\\keypoint_classifier.hdf5\n",
      "Epoch 138/1000\n",
      "37/37 [==============================] - 0s 3ms/step - loss: 0.6661 - accuracy: 0.7518 - val_loss: 0.2761 - val_accuracy: 0.9522\n",
      "\n",
      "Epoch 00138: saving model to model\\keypoint_classifier.hdf5\n",
      "Epoch 139/1000\n",
      "37/37 [==============================] - 0s 3ms/step - loss: 0.6448 - accuracy: 0.7641 - val_loss: 0.2879 - val_accuracy: 0.9496\n",
      "\n",
      "Epoch 00139: saving model to model\\keypoint_classifier.hdf5\n",
      "Epoch 140/1000\n",
      "37/37 [==============================] - 0s 4ms/step - loss: 0.6487 - accuracy: 0.7650 - val_loss: 0.2692 - val_accuracy: 0.9606\n",
      "\n",
      "Epoch 00140: saving model to model\\keypoint_classifier.hdf5\n",
      "Epoch 141/1000\n",
      "37/37 [==============================] - 0s 3ms/step - loss: 0.6569 - accuracy: 0.7639 - val_loss: 0.2894 - val_accuracy: 0.9438\n",
      "\n",
      "Epoch 00141: saving model to model\\keypoint_classifier.hdf5\n",
      "Epoch 142/1000\n",
      "37/37 [==============================] - 0s 3ms/step - loss: 0.6566 - accuracy: 0.7592 - val_loss: 0.2792 - val_accuracy: 0.9522\n",
      "\n",
      "Epoch 00142: saving model to model\\keypoint_classifier.hdf5\n",
      "Epoch 143/1000\n",
      "37/37 [==============================] - 0s 4ms/step - loss: 0.6449 - accuracy: 0.7652 - val_loss: 0.2867 - val_accuracy: 0.9516\n",
      "\n",
      "Epoch 00143: saving model to model\\keypoint_classifier.hdf5\n",
      "Epoch 144/1000\n",
      "37/37 [==============================] - 0s 3ms/step - loss: 0.6473 - accuracy: 0.7613 - val_loss: 0.2718 - val_accuracy: 0.9548\n",
      "\n",
      "Epoch 00144: saving model to model\\keypoint_classifier.hdf5\n",
      "Epoch 145/1000\n",
      "37/37 [==============================] - 0s 4ms/step - loss: 0.6518 - accuracy: 0.7654 - val_loss: 0.2737 - val_accuracy: 0.9574\n",
      "\n",
      "Epoch 00145: saving model to model\\keypoint_classifier.hdf5\n",
      "Epoch 146/1000\n",
      "37/37 [==============================] - 0s 4ms/step - loss: 0.6345 - accuracy: 0.7648 - val_loss: 0.2702 - val_accuracy: 0.9599\n",
      "\n",
      "Epoch 00146: saving model to model\\keypoint_classifier.hdf5\n",
      "Epoch 147/1000\n",
      "37/37 [==============================] - 0s 4ms/step - loss: 0.6524 - accuracy: 0.7630 - val_loss: 0.2849 - val_accuracy: 0.9470\n",
      "\n",
      "Epoch 00147: saving model to model\\keypoint_classifier.hdf5\n",
      "Epoch 148/1000\n",
      "37/37 [==============================] - 0s 4ms/step - loss: 0.6554 - accuracy: 0.7604 - val_loss: 0.2888 - val_accuracy: 0.9587\n",
      "\n",
      "Epoch 00148: saving model to model\\keypoint_classifier.hdf5\n",
      "Epoch 149/1000\n",
      "37/37 [==============================] - 0s 3ms/step - loss: 0.6305 - accuracy: 0.7701 - val_loss: 0.2749 - val_accuracy: 0.9535\n",
      "\n",
      "Epoch 00149: saving model to model\\keypoint_classifier.hdf5\n",
      "Epoch 150/1000\n",
      "37/37 [==============================] - 0s 3ms/step - loss: 0.6460 - accuracy: 0.7592 - val_loss: 0.2861 - val_accuracy: 0.9477\n",
      "\n",
      "Epoch 00150: saving model to model\\keypoint_classifier.hdf5\n",
      "Epoch 151/1000\n",
      "37/37 [==============================] - 0s 3ms/step - loss: 0.6377 - accuracy: 0.7736 - val_loss: 0.2780 - val_accuracy: 0.9483\n",
      "\n",
      "Epoch 00151: saving model to model\\keypoint_classifier.hdf5\n",
      "Epoch 152/1000\n",
      "37/37 [==============================] - 0s 3ms/step - loss: 0.6438 - accuracy: 0.7602 - val_loss: 0.2708 - val_accuracy: 0.9541\n",
      "\n",
      "Epoch 00152: saving model to model\\keypoint_classifier.hdf5\n",
      "Epoch 153/1000\n",
      "37/37 [==============================] - 0s 3ms/step - loss: 0.6396 - accuracy: 0.7656 - val_loss: 0.2817 - val_accuracy: 0.9554\n",
      "\n",
      "Epoch 00153: saving model to model\\keypoint_classifier.hdf5\n",
      "Epoch 154/1000\n",
      "37/37 [==============================] - 0s 3ms/step - loss: 0.6586 - accuracy: 0.7561 - val_loss: 0.2786 - val_accuracy: 0.9503\n",
      "\n",
      "Epoch 00154: saving model to model\\keypoint_classifier.hdf5\n",
      "Epoch 155/1000\n",
      "37/37 [==============================] - 0s 3ms/step - loss: 0.6490 - accuracy: 0.7660 - val_loss: 0.2735 - val_accuracy: 0.9490\n",
      "\n",
      "Epoch 00155: saving model to model\\keypoint_classifier.hdf5\n",
      "Epoch 156/1000\n",
      "37/37 [==============================] - 0s 3ms/step - loss: 0.6556 - accuracy: 0.7551 - val_loss: 0.2812 - val_accuracy: 0.9470\n",
      "\n",
      "Epoch 00156: saving model to model\\keypoint_classifier.hdf5\n",
      "Epoch 157/1000\n",
      "37/37 [==============================] - 0s 3ms/step - loss: 0.6449 - accuracy: 0.7620 - val_loss: 0.2782 - val_accuracy: 0.9496\n",
      "\n",
      "Epoch 00157: saving model to model\\keypoint_classifier.hdf5\n",
      "Epoch 158/1000\n",
      "37/37 [==============================] - 0s 3ms/step - loss: 0.6317 - accuracy: 0.7749 - val_loss: 0.2674 - val_accuracy: 0.9548\n",
      "\n",
      "Epoch 00158: saving model to model\\keypoint_classifier.hdf5\n",
      "Epoch 159/1000\n",
      "37/37 [==============================] - 0s 4ms/step - loss: 0.6244 - accuracy: 0.7678 - val_loss: 0.2651 - val_accuracy: 0.9522\n",
      "\n",
      "Epoch 00159: saving model to model\\keypoint_classifier.hdf5\n",
      "Epoch 160/1000\n",
      "37/37 [==============================] - 0s 3ms/step - loss: 0.6354 - accuracy: 0.7704 - val_loss: 0.2631 - val_accuracy: 0.9554\n",
      "\n",
      "Epoch 00160: saving model to model\\keypoint_classifier.hdf5\n",
      "Epoch 161/1000\n"
     ]
    },
    {
     "name": "stdout",
     "output_type": "stream",
     "text": [
      "37/37 [==============================] - 0s 3ms/step - loss: 0.6523 - accuracy: 0.7566 - val_loss: 0.2691 - val_accuracy: 0.9496\n",
      "\n",
      "Epoch 00161: saving model to model\\keypoint_classifier.hdf5\n",
      "Epoch 162/1000\n",
      "37/37 [==============================] - 0s 3ms/step - loss: 0.6366 - accuracy: 0.7736 - val_loss: 0.2765 - val_accuracy: 0.9503\n",
      "\n",
      "Epoch 00162: saving model to model\\keypoint_classifier.hdf5\n",
      "Epoch 163/1000\n",
      "37/37 [==============================] - 0s 4ms/step - loss: 0.6424 - accuracy: 0.7635 - val_loss: 0.2780 - val_accuracy: 0.9561\n",
      "\n",
      "Epoch 00163: saving model to model\\keypoint_classifier.hdf5\n",
      "Epoch 164/1000\n",
      "37/37 [==============================] - 0s 3ms/step - loss: 0.6469 - accuracy: 0.7600 - val_loss: 0.2823 - val_accuracy: 0.9574\n",
      "\n",
      "Epoch 00164: saving model to model\\keypoint_classifier.hdf5\n",
      "Epoch 165/1000\n",
      "37/37 [==============================] - 0s 4ms/step - loss: 0.6485 - accuracy: 0.7645 - val_loss: 0.2729 - val_accuracy: 0.9632\n",
      "\n",
      "Epoch 00165: saving model to model\\keypoint_classifier.hdf5\n",
      "Epoch 166/1000\n",
      "37/37 [==============================] - 0s 4ms/step - loss: 0.6220 - accuracy: 0.7753 - val_loss: 0.2662 - val_accuracy: 0.9580\n",
      "\n",
      "Epoch 00166: saving model to model\\keypoint_classifier.hdf5\n",
      "Epoch 167/1000\n",
      "37/37 [==============================] - 0s 4ms/step - loss: 0.6426 - accuracy: 0.7673 - val_loss: 0.2745 - val_accuracy: 0.9522\n",
      "\n",
      "Epoch 00167: saving model to model\\keypoint_classifier.hdf5\n",
      "Epoch 168/1000\n",
      "37/37 [==============================] - 0s 5ms/step - loss: 0.6375 - accuracy: 0.7592 - val_loss: 0.2763 - val_accuracy: 0.9528\n",
      "\n",
      "Epoch 00168: saving model to model\\keypoint_classifier.hdf5\n",
      "Epoch 169/1000\n",
      "37/37 [==============================] - 0s 3ms/step - loss: 0.6444 - accuracy: 0.7632 - val_loss: 0.2824 - val_accuracy: 0.9554\n",
      "\n",
      "Epoch 00169: saving model to model\\keypoint_classifier.hdf5\n",
      "Epoch 170/1000\n",
      "37/37 [==============================] - 0s 3ms/step - loss: 0.6319 - accuracy: 0.7637 - val_loss: 0.2635 - val_accuracy: 0.9554\n",
      "\n",
      "Epoch 00170: saving model to model\\keypoint_classifier.hdf5\n",
      "Epoch 171/1000\n",
      "37/37 [==============================] - 0s 3ms/step - loss: 0.6407 - accuracy: 0.7611 - val_loss: 0.2662 - val_accuracy: 0.9528\n",
      "\n",
      "Epoch 00171: saving model to model\\keypoint_classifier.hdf5\n",
      "Epoch 172/1000\n",
      "37/37 [==============================] - 0s 3ms/step - loss: 0.6426 - accuracy: 0.7531 - val_loss: 0.2596 - val_accuracy: 0.9561\n",
      "\n",
      "Epoch 00172: saving model to model\\keypoint_classifier.hdf5\n",
      "Epoch 173/1000\n",
      "37/37 [==============================] - 0s 3ms/step - loss: 0.6627 - accuracy: 0.7572 - val_loss: 0.2819 - val_accuracy: 0.9464\n",
      "\n",
      "Epoch 00173: saving model to model\\keypoint_classifier.hdf5\n",
      "Epoch 174/1000\n",
      "37/37 [==============================] - 0s 3ms/step - loss: 0.6434 - accuracy: 0.7628 - val_loss: 0.2732 - val_accuracy: 0.9528\n",
      "\n",
      "Epoch 00174: saving model to model\\keypoint_classifier.hdf5\n",
      "Epoch 175/1000\n",
      "37/37 [==============================] - 0s 3ms/step - loss: 0.6287 - accuracy: 0.7686 - val_loss: 0.2672 - val_accuracy: 0.9509\n",
      "\n",
      "Epoch 00175: saving model to model\\keypoint_classifier.hdf5\n",
      "Epoch 176/1000\n",
      "37/37 [==============================] - 0s 3ms/step - loss: 0.6444 - accuracy: 0.7637 - val_loss: 0.2994 - val_accuracy: 0.9341\n",
      "\n",
      "Epoch 00176: saving model to model\\keypoint_classifier.hdf5\n",
      "Epoch 177/1000\n",
      "37/37 [==============================] - 0s 3ms/step - loss: 0.6130 - accuracy: 0.7734 - val_loss: 0.2712 - val_accuracy: 0.9548\n",
      "\n",
      "Epoch 00177: saving model to model\\keypoint_classifier.hdf5\n",
      "Epoch 178/1000\n",
      "37/37 [==============================] - 0s 3ms/step - loss: 0.6283 - accuracy: 0.7732 - val_loss: 0.2656 - val_accuracy: 0.9541\n",
      "\n",
      "Epoch 00178: saving model to model\\keypoint_classifier.hdf5\n",
      "Epoch 179/1000\n",
      "37/37 [==============================] - 0s 3ms/step - loss: 0.6177 - accuracy: 0.7757 - val_loss: 0.2635 - val_accuracy: 0.9522\n",
      "\n",
      "Epoch 00179: saving model to model\\keypoint_classifier.hdf5\n",
      "Epoch 180/1000\n",
      "37/37 [==============================] - 0s 3ms/step - loss: 0.6460 - accuracy: 0.7592 - val_loss: 0.2757 - val_accuracy: 0.9503\n",
      "\n",
      "Epoch 00180: saving model to model\\keypoint_classifier.hdf5\n",
      "Epoch 181/1000\n",
      "37/37 [==============================] - 0s 3ms/step - loss: 0.6383 - accuracy: 0.7706 - val_loss: 0.2803 - val_accuracy: 0.9522\n",
      "\n",
      "Epoch 00181: saving model to model\\keypoint_classifier.hdf5\n",
      "Epoch 182/1000\n",
      "37/37 [==============================] - 0s 3ms/step - loss: 0.6336 - accuracy: 0.7643 - val_loss: 0.2773 - val_accuracy: 0.9483\n",
      "\n",
      "Epoch 00182: saving model to model\\keypoint_classifier.hdf5\n",
      "Epoch 183/1000\n",
      "37/37 [==============================] - 0s 3ms/step - loss: 0.6307 - accuracy: 0.7658 - val_loss: 0.2615 - val_accuracy: 0.9574\n",
      "\n",
      "Epoch 00183: saving model to model\\keypoint_classifier.hdf5\n",
      "Epoch 184/1000\n",
      "37/37 [==============================] - 0s 3ms/step - loss: 0.6529 - accuracy: 0.7641 - val_loss: 0.2764 - val_accuracy: 0.9541\n",
      "\n",
      "Epoch 00184: saving model to model\\keypoint_classifier.hdf5\n",
      "Epoch 185/1000\n",
      "37/37 [==============================] - 0s 3ms/step - loss: 0.6463 - accuracy: 0.7620 - val_loss: 0.2785 - val_accuracy: 0.9509\n",
      "\n",
      "Epoch 00185: saving model to model\\keypoint_classifier.hdf5\n",
      "Epoch 186/1000\n",
      "37/37 [==============================] - 0s 3ms/step - loss: 0.6410 - accuracy: 0.7693 - val_loss: 0.2650 - val_accuracy: 0.9528\n",
      "\n",
      "Epoch 00186: saving model to model\\keypoint_classifier.hdf5\n",
      "Epoch 187/1000\n",
      "37/37 [==============================] - 0s 3ms/step - loss: 0.6427 - accuracy: 0.7650 - val_loss: 0.2568 - val_accuracy: 0.9541\n",
      "\n",
      "Epoch 00187: saving model to model\\keypoint_classifier.hdf5\n",
      "Epoch 188/1000\n",
      "37/37 [==============================] - 0s 3ms/step - loss: 0.6472 - accuracy: 0.7600 - val_loss: 0.2656 - val_accuracy: 0.9554\n",
      "\n",
      "Epoch 00188: saving model to model\\keypoint_classifier.hdf5\n",
      "Epoch 189/1000\n",
      "37/37 [==============================] - 0s 3ms/step - loss: 0.6447 - accuracy: 0.7587 - val_loss: 0.2749 - val_accuracy: 0.9496\n",
      "\n",
      "Epoch 00189: saving model to model\\keypoint_classifier.hdf5\n",
      "Epoch 190/1000\n",
      "37/37 [==============================] - 0s 6ms/step - loss: 0.6350 - accuracy: 0.7609 - val_loss: 0.2685 - val_accuracy: 0.9548\n",
      "\n",
      "Epoch 00190: saving model to model\\keypoint_classifier.hdf5\n",
      "Epoch 191/1000\n",
      "37/37 [==============================] - 0s 3ms/step - loss: 0.6319 - accuracy: 0.7704 - val_loss: 0.2786 - val_accuracy: 0.9483\n",
      "\n",
      "Epoch 00191: saving model to model\\keypoint_classifier.hdf5\n",
      "Epoch 192/1000\n",
      "37/37 [==============================] - 0s 3ms/step - loss: 0.6472 - accuracy: 0.7693 - val_loss: 0.2841 - val_accuracy: 0.9470\n",
      "\n",
      "Epoch 00192: saving model to model\\keypoint_classifier.hdf5\n",
      "Epoch 193/1000\n",
      "37/37 [==============================] - 0s 3ms/step - loss: 0.6241 - accuracy: 0.7704 - val_loss: 0.2768 - val_accuracy: 0.9457\n",
      "\n",
      "Epoch 00193: saving model to model\\keypoint_classifier.hdf5\n",
      "Epoch 194/1000\n",
      "37/37 [==============================] - 0s 3ms/step - loss: 0.6116 - accuracy: 0.7753 - val_loss: 0.2667 - val_accuracy: 0.9548\n",
      "\n",
      "Epoch 00194: saving model to model\\keypoint_classifier.hdf5\n",
      "Epoch 195/1000\n",
      "37/37 [==============================] - 0s 2ms/step - loss: 0.6435 - accuracy: 0.7635 - val_loss: 0.2704 - val_accuracy: 0.9477\n",
      "\n",
      "Epoch 00195: saving model to model\\keypoint_classifier.hdf5\n",
      "Epoch 196/1000\n",
      "37/37 [==============================] - 0s 3ms/step - loss: 0.6407 - accuracy: 0.7585 - val_loss: 0.2741 - val_accuracy: 0.9567\n",
      "\n",
      "Epoch 00196: saving model to model\\keypoint_classifier.hdf5\n",
      "Epoch 197/1000\n",
      "37/37 [==============================] - 0s 3ms/step - loss: 0.6188 - accuracy: 0.7671 - val_loss: 0.2700 - val_accuracy: 0.9554\n",
      "\n",
      "Epoch 00197: saving model to model\\keypoint_classifier.hdf5\n",
      "Epoch 198/1000\n",
      "37/37 [==============================] - 0s 3ms/step - loss: 0.6380 - accuracy: 0.7609 - val_loss: 0.2740 - val_accuracy: 0.9444\n",
      "\n",
      "Epoch 00198: saving model to model\\keypoint_classifier.hdf5\n",
      "Epoch 199/1000\n",
      "37/37 [==============================] - 0s 2ms/step - loss: 0.6281 - accuracy: 0.7710 - val_loss: 0.2584 - val_accuracy: 0.9554\n",
      "\n",
      "Epoch 00199: saving model to model\\keypoint_classifier.hdf5\n",
      "Epoch 200/1000\n",
      "37/37 [==============================] - 0s 3ms/step - loss: 0.6253 - accuracy: 0.7749 - val_loss: 0.2718 - val_accuracy: 0.9503\n",
      "\n",
      "Epoch 00200: saving model to model\\keypoint_classifier.hdf5\n"
     ]
    },
    {
     "name": "stdout",
     "output_type": "stream",
     "text": [
      "Epoch 201/1000\n",
      "37/37 [==============================] - 0s 3ms/step - loss: 0.6269 - accuracy: 0.7650 - val_loss: 0.2649 - val_accuracy: 0.9516\n",
      "\n",
      "Epoch 00201: saving model to model\\keypoint_classifier.hdf5\n",
      "Epoch 202/1000\n",
      "37/37 [==============================] - 0s 3ms/step - loss: 0.6487 - accuracy: 0.7658 - val_loss: 0.2841 - val_accuracy: 0.9425\n",
      "\n",
      "Epoch 00202: saving model to model\\keypoint_classifier.hdf5\n",
      "Epoch 203/1000\n",
      "37/37 [==============================] - 0s 3ms/step - loss: 0.6424 - accuracy: 0.7617 - val_loss: 0.2681 - val_accuracy: 0.9535\n",
      "\n",
      "Epoch 00203: saving model to model\\keypoint_classifier.hdf5\n",
      "Epoch 204/1000\n",
      "37/37 [==============================] - 0s 3ms/step - loss: 0.6472 - accuracy: 0.7615 - val_loss: 0.2652 - val_accuracy: 0.9528\n",
      "\n",
      "Epoch 00204: saving model to model\\keypoint_classifier.hdf5\n",
      "Epoch 205/1000\n",
      "37/37 [==============================] - 0s 3ms/step - loss: 0.6170 - accuracy: 0.7807 - val_loss: 0.2660 - val_accuracy: 0.9574\n",
      "\n",
      "Epoch 00205: saving model to model\\keypoint_classifier.hdf5\n",
      "Epoch 206/1000\n",
      "37/37 [==============================] - 0s 3ms/step - loss: 0.6320 - accuracy: 0.7639 - val_loss: 0.2685 - val_accuracy: 0.9516\n",
      "\n",
      "Epoch 00206: saving model to model\\keypoint_classifier.hdf5\n",
      "Epoch 207/1000\n",
      "37/37 [==============================] - 0s 3ms/step - loss: 0.6302 - accuracy: 0.7753 - val_loss: 0.2713 - val_accuracy: 0.9528\n",
      "\n",
      "Epoch 00207: saving model to model\\keypoint_classifier.hdf5\n",
      "Epoch 00207: early stopping\n"
     ]
    },
    {
     "data": {
      "text/plain": [
       "<keras.callbacks.History at 0x2beb304eac0>"
      ]
     },
     "execution_count": 19,
     "metadata": {},
     "output_type": "execute_result"
    }
   ],
   "source": [
    "model.fit(\n",
    "    X_train,\n",
    "    y_train,\n",
    "    epochs=1000,\n",
    "    batch_size=128,\n",
    "    validation_data=(X_test, y_test),\n",
    "    callbacks=[cp_callback, es_callback]\n",
    ")"
   ]
  },
  {
   "cell_type": "code",
   "execution_count": 20,
   "metadata": {
    "colab": {
     "base_uri": "https://localhost:8080/"
    },
    "id": "pxvb2Y299hE3",
    "outputId": "59eb3185-2e37-4b9e-bc9d-ab1b8ac29b7f"
   },
   "outputs": [
    {
     "name": "stdout",
     "output_type": "stream",
     "text": [
      "13/13 [==============================] - 0s 1ms/step - loss: 0.2713 - accuracy: 0.9528\n"
     ]
    }
   ],
   "source": [
    "# Model evaluation\n",
    "val_loss, val_acc = model.evaluate(X_test, y_test, batch_size=128)"
   ]
  },
  {
   "cell_type": "code",
   "execution_count": 21,
   "metadata": {
    "id": "RBkmDeUW9hE4"
   },
   "outputs": [],
   "source": [
    "# Loading the saved model\n",
    "model = tf.keras.models.load_model(model_save_path)"
   ]
  },
  {
   "cell_type": "code",
   "execution_count": 22,
   "metadata": {
    "colab": {
     "base_uri": "https://localhost:8080/"
    },
    "id": "tFz9Tb0I9hE4",
    "outputId": "1c3b3528-54ae-4ee2-ab04-77429211cbef"
   },
   "outputs": [
    {
     "name": "stdout",
     "output_type": "stream",
     "text": [
      "[9.2850673e-01 3.5676621e-02 3.2193329e-02 3.5375012e-03 4.8310238e-05\n",
      " 1.8884880e-06 3.5460802e-05 1.8697742e-07]\n",
      "0\n"
     ]
    }
   ],
   "source": [
    "# Inference test\n",
    "predict_result = model.predict(np.array([X_test[0]]))\n",
    "print(np.squeeze(predict_result))\n",
    "print(np.argmax(np.squeeze(predict_result)))"
   ]
  },
  {
   "cell_type": "markdown",
   "metadata": {
    "id": "S3U4yNWx9hE4"
   },
   "source": [
    "# Confusion matrix"
   ]
  },
  {
   "cell_type": "code",
   "execution_count": 23,
   "metadata": {
    "colab": {
     "base_uri": "https://localhost:8080/",
     "height": 582
    },
    "id": "AP1V6SCk9hE5",
    "outputId": "08e41a80-7a4a-4619-8125-ecc371368d19"
   },
   "outputs": [
    {
     "data": {
      "image/png": "[encoded data removed]",
      "text/plain": [
       "<Figure size 504x432 with 2 Axes>"
      ]
     },
     "metadata": {
      "needs_background": "light"
     },
     "output_type": "display_data"
    },
    {
     "name": "stdout",
     "output_type": "stream",
     "text": [
      "Classification Report\n",
      "              precision    recall  f1-score   support\n",
      "\n",
      "           0       0.99      0.92      0.96       420\n",
      "           1       0.97      0.95      0.96       397\n",
      "           2       0.93      0.98      0.95       369\n",
      "           3       0.89      1.00      0.94       178\n",
      "           4       0.92      0.95      0.93        37\n",
      "           5       0.93      0.89      0.91        62\n",
      "           6       1.00      0.90      0.95        42\n",
      "           7       0.91      1.00      0.96        43\n",
      "\n",
      "    accuracy                           0.95      1548\n",
      "   macro avg       0.94      0.95      0.95      1548\n",
      "weighted avg       0.96      0.95      0.95      1548\n",
      "\n"
     ]
    }
   ],
   "source": [
    "import pandas as pd\n",
    "import seaborn as sns\n",
    "import matplotlib.pyplot as plt\n",
    "from sklearn.metrics import confusion_matrix, classification_report\n",
    "\n",
    "def print_confusion_matrix(y_true, y_pred, report=True):\n",
    "    labels = sorted(list(set(y_true)))\n",
    "    cmx_data = confusion_matrix(y_true, y_pred, labels=labels)\n",
    "    \n",
    "    df_cmx = pd.DataFrame(cmx_data, index=labels, columns=labels)\n",
    " \n",
    "    fig, ax = plt.subplots(figsize=(7, 6))\n",
    "    sns.heatmap(df_cmx, annot=True, fmt='g' ,square=False)\n",
    "    ax.set_ylim(len(set(y_true)), 0)\n",
    "    plt.show()\n",
    "    \n",
    "    if report:\n",
    "        print('Classification Report')\n",
    "        print(classification_report(y_test, y_pred))\n",
    "\n",
    "Y_pred = model.predict(X_test)\n",
    "y_pred = np.argmax(Y_pred, axis=1)\n",
    "\n",
    "print_confusion_matrix(y_test, y_pred)"
   ]
  },
  {
   "cell_type": "markdown",
   "metadata": {
    "id": "FNP6aqzc9hE5"
   },
   "source": [
    "# Convert to model for Tensorflow-Lite"
   ]
  },
  {
   "cell_type": "code",
   "execution_count": 24,
   "metadata": {
    "id": "ODjnYyld9hE6"
   },
   "outputs": [],
   "source": [
    "# Save as a model dedicated to inference\n",
    "model.save(model_save_path, include_optimizer=False)"
   ]
  },
  {
   "cell_type": "code",
   "execution_count": 25,
   "metadata": {
    "colab": {
     "base_uri": "https://localhost:8080/"
    },
    "id": "zRfuK8Y59hE6",
    "outputId": "a4ca585c-b5d5-4244-8291-8674063209bb"
   },
   "outputs": [
    {
     "name": "stdout",
     "output_type": "stream",
     "text": [
      "INFO:tensorflow:Assets written to: C:\\Users\\Asus\\AppData\\Local\\Temp\\tmp_3idyvma\\assets\n"
     ]
    },
    {
     "data": {
      "text/plain": [
       "6528"
      ]
     },
     "execution_count": 25,
     "metadata": {},
     "output_type": "execute_result"
    }
   ],
   "source": [
    "# Transform model (quantization)\n",
    "\n",
    "converter = tf.lite.TFLiteConverter.from_keras_model(model)\n",
    "converter.optimizations = [tf.lite.Optimize.DEFAULT]\n",
    "tflite_quantized_model = converter.convert()\n",
    "\n",
    "open(tflite_save_path, 'wb').write(tflite_quantized_model)"
   ]
  },
  {
   "cell_type": "markdown",
   "metadata": {
    "id": "CHBPBXdx9hE6"
   },
   "source": [
    "# Inference test"
   ]
  },
  {
   "cell_type": "code",
   "execution_count": 26,
   "metadata": {
    "id": "mGAzLocO9hE7"
   },
   "outputs": [],
   "source": [
    "interpreter = tf.lite.Interpreter(model_path=tflite_save_path)\n",
    "interpreter.allocate_tensors()"
   ]
  },
  {
   "cell_type": "code",
   "execution_count": 27,
   "metadata": {
    "id": "oQuDK8YS9hE7"
   },
   "outputs": [],
   "source": [
    "# Get I / O tensor\n",
    "input_details = interpreter.get_input_details()\n",
    "output_details = interpreter.get_output_details()"
   ]
  },
  {
   "cell_type": "code",
   "execution_count": 28,
   "metadata": {
    "id": "2_ixAf_l9hE7"
   },
   "outputs": [],
   "source": [
    "interpreter.set_tensor(input_details[0]['index'], np.array([X_test[0]]))"
   ]
  },
  {
   "cell_type": "code",
   "execution_count": 29,
   "metadata": {
    "colab": {
     "base_uri": "https://localhost:8080/"
    },
    "id": "s4FoAnuc9hE7",
    "outputId": "91f18257-8d8b-4ef3-c558-e9b5f94fabbf",
    "scrolled": true
   },
   "outputs": [
    {
     "name": "stdout",
     "output_type": "stream",
     "text": [
      "Wall time: 1.99 ms\n"
     ]
    }
   ],
   "source": [
    "%%time\n",
    "# Inference implementation\n",
    "interpreter.invoke()\n",
    "tflite_results = interpreter.get_tensor(output_details[0]['index'])"
   ]
  },
  {
   "cell_type": "code",
   "execution_count": 30,
   "metadata": {
    "colab": {
     "base_uri": "https://localhost:8080/"
    },
    "id": "vONjp19J9hE8",
    "outputId": "77205e24-fd00-42c4-f7b6-e06e527c2cba"
   },
   "outputs": [
    {
     "name": "stdout",
     "output_type": "stream",
     "text": [
      "[9.2850661e-01 3.5676654e-02 3.2193348e-02 3.5375007e-03 4.8310318e-05\n",
      " 1.8884912e-06 3.5460933e-05 1.8697754e-07]\n",
      "0\n"
     ]
    }
   ],
   "source": [
    "print(np.squeeze(tflite_results))\n",
    "print(np.argmax(np.squeeze(tflite_results)))"
   ]
  }
 ],
 "metadata": {
  "accelerator": "GPU",
  "colab": {
   "collapsed_sections": [],
   "name": "keypoint_classification_EN.ipynb",
   "provenance": [],
   "toc_visible": true
  },
  "kernelspec": {
   "display_name": "Python 3",
   "language": "python",
   "name": "python3"
  },
  "language_info": {
   "codemirror_mode": {
    "name": "ipython",
    "version": 3
   },
   "file_extension": ".py",
   "mimetype": "text/x-python",
   "name": "python",
   "nbconvert_exporter": "python",
   "pygments_lexer": "ipython3",
   "version": "3.9.0"
  }
 },
 "nbformat": 4,
 "nbformat_minor": 1
}
