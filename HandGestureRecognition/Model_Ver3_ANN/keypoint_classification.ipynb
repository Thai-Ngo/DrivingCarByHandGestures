{
 "cells": [
  {
   "cell_type": "code",
   "execution_count": 1,
   "metadata": {
    "id": "igMyGnjE9hEp"
   },
   "outputs": [],
   "source": [
    "import csv\n",
    "\n",
    "import numpy as np\n",
    "import pandas as pd\n",
    "import tensorflow as tf\n",
    "from sklearn.model_selection import train_test_split\n",
    "\n",
    "RANDOM_SEED = 42"
   ]
  },
  {
   "cell_type": "markdown",
   "metadata": {
    "id": "t2HDvhIu9hEr"
   },
   "source": [
    "# Specify each path"
   ]
  },
  {
   "cell_type": "code",
   "execution_count": 2,
   "metadata": {
    "id": "9NvZP2Zn9hEy"
   },
   "outputs": [],
   "source": [
    "dataset = 'model/keypoint.csv'\n",
    "model_save_path = 'model/keypoint_classifier.hdf5'\n",
    "tflite_save_path = 'model/keypoint_classifier.tflite'"
   ]
  },
  {
   "cell_type": "markdown",
   "metadata": {
    "id": "s5oMH7x19hEz"
   },
   "source": [
    "# Set number of classes"
   ]
  },
  {
   "cell_type": "code",
   "execution_count": 3,
   "metadata": {
    "id": "du4kodXL9hEz"
   },
   "outputs": [],
   "source": [
    "NUM_CLASSES = 7"
   ]
  },
  {
   "cell_type": "markdown",
   "metadata": {
    "id": "XjnL0uso9hEz"
   },
   "source": [
    "# Dataset reading"
   ]
  },
  {
   "cell_type": "code",
   "execution_count": 4,
   "metadata": {
    "id": "QT5ZqtEz9hE0"
   },
   "outputs": [],
   "source": [
    "X_dataset = np.loadtxt(dataset, delimiter=',', dtype='float32', usecols=list(range(1, (21 * 2) + 1)))"
   ]
  },
  {
   "cell_type": "code",
   "execution_count": 5,
   "metadata": {
    "id": "QmoKFsp49hE0"
   },
   "outputs": [],
   "source": [
    "y_dataset = np.loadtxt(dataset, delimiter=',', dtype='int32', usecols=(0))"
   ]
  },
  {
   "cell_type": "code",
   "execution_count": 6,
   "metadata": {
    "id": "xQU7JTZ_9hE0"
   },
   "outputs": [],
   "source": [
    "X_train, X_test, y_train, y_test = train_test_split(X_dataset, y_dataset, train_size=0.75, random_state=RANDOM_SEED)"
   ]
  },
  {
   "cell_type": "code",
   "execution_count": 7,
   "metadata": {},
   "outputs": [
    {
     "name": "stdout",
     "output_type": "stream",
     "text": [
      "(array([0, 1, 2, 3, 4, 5, 6]), array([500, 553, 546, 521, 550, 490, 459], dtype=int64))\n"
     ]
    },
    {
     "data": {
      "image/png": "[encoded data removed]",
      "text/plain": [
       "<Figure size 432x288 with 1 Axes>"
      ]
     },
     "metadata": {
      "needs_background": "light"
     },
     "output_type": "display_data"
    }
   ],
   "source": [
    "# Classes count\n",
    "counts = np.unique(y_dataset, return_counts=True)\n",
    "df = pd.DataFrame(counts)\n",
    "df.T.plot(kind=\"bar\", stacked=True)\n",
    "print(counts)"
   ]
  },
  {
   "cell_type": "markdown",
   "metadata": {
    "id": "mxK_lETT9hE0"
   },
   "source": [
    "# Model building"
   ]
  },
  {
   "cell_type": "code",
   "execution_count": 8,
   "metadata": {
    "id": "vHBmUf1t9hE1"
   },
   "outputs": [],
   "source": [
    "model = tf.keras.models.Sequential([\n",
    "    tf.keras.layers.Input((21 * 2, )),\n",
    "    tf.keras.layers.Dropout(0.2),\n",
    "    tf.keras.layers.Dense(20, activation='relu'),\n",
    "    tf.keras.layers.Dropout(0.4),\n",
    "    tf.keras.layers.Dense(10, activation='relu'),\n",
    "    tf.keras.layers.Dense(NUM_CLASSES, activation='softmax')\n",
    "])"
   ]
  },
  {
   "cell_type": "code",
   "execution_count": 9,
   "metadata": {
    "colab": {
     "base_uri": "https://localhost:8080/"
    },
    "id": "ypqky9tc9hE1",
    "outputId": "5db082bb-30e3-4110-bf63-a1ee777ecd46"
   },
   "outputs": [
    {
     "name": "stdout",
     "output_type": "stream",
     "text": [
      "Model: \"sequential\"\n",
      "_________________________________________________________________\n",
      "Layer (type)                 Output Shape              Param #   \n",
      "=================================================================\n",
      "dropout (Dropout)            (None, 42)                0         \n",
      "_________________________________________________________________\n",
      "dense (Dense)                (None, 20)                860       \n",
      "_________________________________________________________________\n",
      "dropout_1 (Dropout)          (None, 20)                0         \n",
      "_________________________________________________________________\n",
      "dense_1 (Dense)              (None, 10)                210       \n",
      "_________________________________________________________________\n",
      "dense_2 (Dense)              (None, 7)                 77        \n",
      "=================================================================\n",
      "Total params: 1,147\n",
      "Trainable params: 1,147\n",
      "Non-trainable params: 0\n",
      "_________________________________________________________________\n"
     ]
    }
   ],
   "source": [
    "model.summary()  # tf.keras.utils.plot_model(model, show_shapes=True)"
   ]
  },
  {
   "cell_type": "code",
   "execution_count": 10,
   "metadata": {
    "id": "MbMjOflQ9hE1"
   },
   "outputs": [],
   "source": [
    "# Model checkpoint callback\n",
    "cp_callback = tf.keras.callbacks.ModelCheckpoint(\n",
    "    model_save_path, verbose=1, save_weights_only=False)\n",
    "# Callback for early stopping\n",
    "es_callback = tf.keras.callbacks.EarlyStopping(patience=20, verbose=1)"
   ]
  },
  {
   "cell_type": "code",
   "execution_count": 11,
   "metadata": {
    "id": "c3Dac0M_9hE2"
   },
   "outputs": [],
   "source": [
    "# Model compilation\n",
    "model.compile(\n",
    "    optimizer='adam',\n",
    "    loss='sparse_categorical_crossentropy',\n",
    "    metrics=['accuracy']\n",
    ")"
   ]
  },
  {
   "cell_type": "markdown",
   "metadata": {
    "id": "7XI0j1Iu9hE2"
   },
   "source": [
    "# Model training"
   ]
  },
  {
   "cell_type": "code",
   "execution_count": 12,
   "metadata": {
    "colab": {
     "base_uri": "https://localhost:8080/"
    },
    "id": "WirBl-JE9hE3",
    "outputId": "71b30ca2-8294-4d9d-8aa2-800d90d399de",
    "scrolled": true
   },
   "outputs": [
    {
     "name": "stdout",
     "output_type": "stream",
     "text": [
      "Epoch 1/1000\n",
      "22/22 [==============================] - 1s 8ms/step - loss: 1.9042 - accuracy: 0.1713 - val_loss: 1.7970 - val_accuracy: 0.2928\n",
      "\n",
      "Epoch 00001: saving model to model\\keypoint_classifier.hdf5\n",
      "Epoch 2/1000\n",
      "22/22 [==============================] - 0s 2ms/step - loss: 1.7754 - accuracy: 0.2782 - val_loss: 1.6717 - val_accuracy: 0.3039\n",
      "\n",
      "Epoch 00002: saving model to model\\keypoint_classifier.hdf5\n",
      "Epoch 3/1000\n",
      "22/22 [==============================] - 0s 2ms/step - loss: 1.6622 - accuracy: 0.3500 - val_loss: 1.5518 - val_accuracy: 0.4199\n",
      "\n",
      "Epoch 00003: saving model to model\\keypoint_classifier.hdf5\n",
      "Epoch 4/1000\n",
      "22/22 [==============================] - 0s 3ms/step - loss: 1.5524 - accuracy: 0.4064 - val_loss: 1.4349 - val_accuracy: 0.4199\n",
      "\n",
      "Epoch 00004: saving model to model\\keypoint_classifier.hdf5\n",
      "Epoch 5/1000\n",
      "22/22 [==============================] - 0s 3ms/step - loss: 1.4360 - accuracy: 0.4433 - val_loss: 1.3273 - val_accuracy: 0.4199\n",
      "\n",
      "Epoch 00005: saving model to model\\keypoint_classifier.hdf5\n",
      "Epoch 6/1000\n",
      "22/22 [==============================] - 0s 4ms/step - loss: 1.3367 - accuracy: 0.4576 - val_loss: 1.2478 - val_accuracy: 0.4409\n",
      "\n",
      "Epoch 00006: saving model to model\\keypoint_classifier.hdf5\n",
      "Epoch 7/1000\n",
      "22/22 [==============================] - 0s 2ms/step - loss: 1.2755 - accuracy: 0.4783 - val_loss: 1.1840 - val_accuracy: 0.4696\n",
      "\n",
      "Epoch 00007: saving model to model\\keypoint_classifier.hdf5\n",
      "Epoch 8/1000\n",
      "22/22 [==============================] - 0s 2ms/step - loss: 1.2267 - accuracy: 0.4937 - val_loss: 1.1329 - val_accuracy: 0.5790\n",
      "\n",
      "Epoch 00008: saving model to model\\keypoint_classifier.hdf5\n",
      "Epoch 9/1000\n",
      "22/22 [==============================] - 0s 2ms/step - loss: 1.1794 - accuracy: 0.5162 - val_loss: 1.0918 - val_accuracy: 0.6630\n",
      "\n",
      "Epoch 00009: saving model to model\\keypoint_classifier.hdf5\n",
      "Epoch 10/1000\n",
      "22/22 [==============================] - 0s 3ms/step - loss: 1.1523 - accuracy: 0.5232 - val_loss: 1.0595 - val_accuracy: 0.7182\n",
      "\n",
      "Epoch 00010: saving model to model\\keypoint_classifier.hdf5\n",
      "Epoch 11/1000\n",
      "22/22 [==============================] - 0s 3ms/step - loss: 1.1113 - accuracy: 0.5483 - val_loss: 1.0304 - val_accuracy: 0.7260\n",
      "\n",
      "Epoch 00011: saving model to model\\keypoint_classifier.hdf5\n",
      "Epoch 12/1000\n",
      "22/22 [==============================] - 0s 2ms/step - loss: 1.0839 - accuracy: 0.5612 - val_loss: 1.0023 - val_accuracy: 0.7282\n",
      "\n",
      "Epoch 00012: saving model to model\\keypoint_classifier.hdf5\n",
      "Epoch 13/1000\n",
      "22/22 [==============================] - 0s 3ms/step - loss: 1.0727 - accuracy: 0.5656 - val_loss: 0.9698 - val_accuracy: 0.7403\n",
      "\n",
      "Epoch 00013: saving model to model\\keypoint_classifier.hdf5\n",
      "Epoch 14/1000\n",
      "22/22 [==============================] - 0s 3ms/step - loss: 1.0429 - accuracy: 0.5884 - val_loss: 0.9352 - val_accuracy: 0.7547\n",
      "\n",
      "Epoch 00014: saving model to model\\keypoint_classifier.hdf5\n",
      "Epoch 15/1000\n",
      "22/22 [==============================] - 0s 2ms/step - loss: 1.0332 - accuracy: 0.5711 - val_loss: 0.9162 - val_accuracy: 0.7514\n",
      "\n",
      "Epoch 00015: saving model to model\\keypoint_classifier.hdf5\n",
      "Epoch 16/1000\n",
      "22/22 [==============================] - 0s 2ms/step - loss: 0.9884 - accuracy: 0.6010 - val_loss: 0.8782 - val_accuracy: 0.7547\n",
      "\n",
      "Epoch 00016: saving model to model\\keypoint_classifier.hdf5\n",
      "Epoch 17/1000\n",
      "22/22 [==============================] - 0s 3ms/step - loss: 0.9747 - accuracy: 0.6105 - val_loss: 0.8562 - val_accuracy: 0.7669\n",
      "\n",
      "Epoch 00017: saving model to model\\keypoint_classifier.hdf5\n",
      "Epoch 18/1000\n",
      "22/22 [==============================] - 0s 3ms/step - loss: 0.9485 - accuracy: 0.6168 - val_loss: 0.8288 - val_accuracy: 0.7669\n",
      "\n",
      "Epoch 00018: saving model to model\\keypoint_classifier.hdf5\n",
      "Epoch 19/1000\n",
      "22/22 [==============================] - 0s 2ms/step - loss: 0.9338 - accuracy: 0.6404 - val_loss: 0.8034 - val_accuracy: 0.8464\n",
      "\n",
      "Epoch 00019: saving model to model\\keypoint_classifier.hdf5\n",
      "Epoch 20/1000\n",
      "22/22 [==============================] - 0s 2ms/step - loss: 0.9029 - accuracy: 0.6433 - val_loss: 0.7735 - val_accuracy: 0.8508\n",
      "\n",
      "Epoch 00020: saving model to model\\keypoint_classifier.hdf5\n",
      "Epoch 21/1000\n",
      "22/22 [==============================] - 0s 2ms/step - loss: 0.8909 - accuracy: 0.6485 - val_loss: 0.7381 - val_accuracy: 0.8586\n",
      "\n",
      "Epoch 00021: saving model to model\\keypoint_classifier.hdf5\n",
      "Epoch 22/1000\n",
      "22/22 [==============================] - 0s 2ms/step - loss: 0.8725 - accuracy: 0.6548 - val_loss: 0.7013 - val_accuracy: 0.8696\n",
      "\n",
      "Epoch 00022: saving model to model\\keypoint_classifier.hdf5\n",
      "Epoch 23/1000\n",
      "22/22 [==============================] - 0s 2ms/step - loss: 0.8416 - accuracy: 0.6710 - val_loss: 0.6780 - val_accuracy: 0.8696\n",
      "\n",
      "Epoch 00023: saving model to model\\keypoint_classifier.hdf5\n",
      "Epoch 24/1000\n",
      "22/22 [==============================] - 0s 2ms/step - loss: 0.8242 - accuracy: 0.6853 - val_loss: 0.6473 - val_accuracy: 0.8895\n",
      "\n",
      "Epoch 00024: saving model to model\\keypoint_classifier.hdf5\n",
      "Epoch 25/1000\n",
      "22/22 [==============================] - 0s 3ms/step - loss: 0.8058 - accuracy: 0.6934 - val_loss: 0.6351 - val_accuracy: 0.8862\n",
      "\n",
      "Epoch 00025: saving model to model\\keypoint_classifier.hdf5\n",
      "Epoch 26/1000\n",
      "22/22 [==============================] - 0s 3ms/step - loss: 0.8046 - accuracy: 0.6938 - val_loss: 0.5990 - val_accuracy: 0.9138\n",
      "\n",
      "Epoch 00026: saving model to model\\keypoint_classifier.hdf5\n",
      "Epoch 27/1000\n",
      "22/22 [==============================] - 0s 2ms/step - loss: 0.7757 - accuracy: 0.7130 - val_loss: 0.5752 - val_accuracy: 0.8950\n",
      "\n",
      "Epoch 00027: saving model to model\\keypoint_classifier.hdf5\n",
      "Epoch 28/1000\n",
      "22/22 [==============================] - 0s 3ms/step - loss: 0.7489 - accuracy: 0.7159 - val_loss: 0.5429 - val_accuracy: 0.9094\n",
      "\n",
      "Epoch 00028: saving model to model\\keypoint_classifier.hdf5\n",
      "Epoch 29/1000\n",
      "22/22 [==============================] - 0s 2ms/step - loss: 0.7447 - accuracy: 0.7207 - val_loss: 0.5268 - val_accuracy: 0.9149\n",
      "\n",
      "Epoch 00029: saving model to model\\keypoint_classifier.hdf5\n",
      "Epoch 30/1000\n",
      "22/22 [==============================] - 0s 2ms/step - loss: 0.7295 - accuracy: 0.7214 - val_loss: 0.5038 - val_accuracy: 0.9028\n",
      "\n",
      "Epoch 00030: saving model to model\\keypoint_classifier.hdf5\n",
      "Epoch 31/1000\n",
      "22/22 [==============================] - 0s 2ms/step - loss: 0.7191 - accuracy: 0.7229 - val_loss: 0.4837 - val_accuracy: 0.9293\n",
      "\n",
      "Epoch 00031: saving model to model\\keypoint_classifier.hdf5\n",
      "Epoch 32/1000\n",
      "22/22 [==============================] - 0s 3ms/step - loss: 0.7036 - accuracy: 0.7318 - val_loss: 0.4759 - val_accuracy: 0.9193\n",
      "\n",
      "Epoch 00032: saving model to model\\keypoint_classifier.hdf5\n",
      "Epoch 33/1000\n",
      "22/22 [==============================] - 0s 2ms/step - loss: 0.7168 - accuracy: 0.7351 - val_loss: 0.4594 - val_accuracy: 0.9326\n",
      "\n",
      "Epoch 00033: saving model to model\\keypoint_classifier.hdf5\n",
      "Epoch 34/1000\n",
      "22/22 [==============================] - 0s 2ms/step - loss: 0.6864 - accuracy: 0.7465 - val_loss: 0.4361 - val_accuracy: 0.9381\n",
      "\n",
      "Epoch 00034: saving model to model\\keypoint_classifier.hdf5\n",
      "Epoch 35/1000\n",
      "22/22 [==============================] - 0s 2ms/step - loss: 0.6932 - accuracy: 0.7284 - val_loss: 0.4210 - val_accuracy: 0.9414\n",
      "\n",
      "Epoch 00035: saving model to model\\keypoint_classifier.hdf5\n",
      "Epoch 36/1000\n",
      "22/22 [==============================] - 0s 2ms/step - loss: 0.6971 - accuracy: 0.7321 - val_loss: 0.4062 - val_accuracy: 0.9591\n",
      "\n",
      "Epoch 00036: saving model to model\\keypoint_classifier.hdf5\n",
      "Epoch 37/1000\n",
      "22/22 [==============================] - 0s 2ms/step - loss: 0.6561 - accuracy: 0.7590 - val_loss: 0.3912 - val_accuracy: 0.9481\n",
      "\n",
      "Epoch 00037: saving model to model\\keypoint_classifier.hdf5\n",
      "Epoch 38/1000\n",
      "22/22 [==============================] - 0s 2ms/step - loss: 0.6361 - accuracy: 0.7653 - val_loss: 0.3676 - val_accuracy: 0.9536\n",
      "\n",
      "Epoch 00038: saving model to model\\keypoint_classifier.hdf5\n",
      "Epoch 39/1000\n",
      "22/22 [==============================] - 0s 3ms/step - loss: 0.6291 - accuracy: 0.7631 - val_loss: 0.3571 - val_accuracy: 0.9448\n",
      "\n",
      "Epoch 00039: saving model to model\\keypoint_classifier.hdf5\n",
      "Epoch 40/1000\n",
      "22/22 [==============================] - 0s 3ms/step - loss: 0.6204 - accuracy: 0.7653 - val_loss: 0.3463 - val_accuracy: 0.9646\n",
      "\n",
      "Epoch 00040: saving model to model\\keypoint_classifier.hdf5\n",
      "Epoch 41/1000\n"
     ]
    },
    {
     "name": "stdout",
     "output_type": "stream",
     "text": [
      "22/22 [==============================] - 0s 3ms/step - loss: 0.6232 - accuracy: 0.7557 - val_loss: 0.3375 - val_accuracy: 0.9492\n",
      "\n",
      "Epoch 00041: saving model to model\\keypoint_classifier.hdf5\n",
      "Epoch 42/1000\n",
      "22/22 [==============================] - 0s 4ms/step - loss: 0.6058 - accuracy: 0.7697 - val_loss: 0.3273 - val_accuracy: 0.9646\n",
      "\n",
      "Epoch 00042: saving model to model\\keypoint_classifier.hdf5\n",
      "Epoch 43/1000\n",
      "22/22 [==============================] - 0s 3ms/step - loss: 0.6029 - accuracy: 0.7708 - val_loss: 0.3213 - val_accuracy: 0.9646\n",
      "\n",
      "Epoch 00043: saving model to model\\keypoint_classifier.hdf5\n",
      "Epoch 44/1000\n",
      "22/22 [==============================] - 0s 3ms/step - loss: 0.6096 - accuracy: 0.7609 - val_loss: 0.3082 - val_accuracy: 0.9724\n",
      "\n",
      "Epoch 00044: saving model to model\\keypoint_classifier.hdf5\n",
      "Epoch 45/1000\n",
      "22/22 [==============================] - 0s 2ms/step - loss: 0.5820 - accuracy: 0.7789 - val_loss: 0.2942 - val_accuracy: 0.9713\n",
      "\n",
      "Epoch 00045: saving model to model\\keypoint_classifier.hdf5\n",
      "Epoch 46/1000\n",
      "22/22 [==============================] - 0s 3ms/step - loss: 0.5703 - accuracy: 0.7856 - val_loss: 0.2930 - val_accuracy: 0.9646\n",
      "\n",
      "Epoch 00046: saving model to model\\keypoint_classifier.hdf5\n",
      "Epoch 47/1000\n",
      "22/22 [==============================] - 0s 3ms/step - loss: 0.5890 - accuracy: 0.7708 - val_loss: 0.2858 - val_accuracy: 0.9735\n",
      "\n",
      "Epoch 00047: saving model to model\\keypoint_classifier.hdf5\n",
      "Epoch 48/1000\n",
      "22/22 [==============================] - 0s 2ms/step - loss: 0.5565 - accuracy: 0.7922 - val_loss: 0.2808 - val_accuracy: 0.9801\n",
      "\n",
      "Epoch 00048: saving model to model\\keypoint_classifier.hdf5\n",
      "Epoch 49/1000\n",
      "22/22 [==============================] - 0s 2ms/step - loss: 0.5641 - accuracy: 0.7926 - val_loss: 0.2748 - val_accuracy: 0.9768\n",
      "\n",
      "Epoch 00049: saving model to model\\keypoint_classifier.hdf5\n",
      "Epoch 50/1000\n",
      "22/22 [==============================] - 0s 2ms/step - loss: 0.5670 - accuracy: 0.7852 - val_loss: 0.2758 - val_accuracy: 0.9823\n",
      "\n",
      "Epoch 00050: saving model to model\\keypoint_classifier.hdf5\n",
      "Epoch 51/1000\n",
      "22/22 [==============================] - 0s 4ms/step - loss: 0.5659 - accuracy: 0.7830 - val_loss: 0.2665 - val_accuracy: 0.9823\n",
      "\n",
      "Epoch 00051: saving model to model\\keypoint_classifier.hdf5\n",
      "Epoch 52/1000\n",
      "22/22 [==============================] - 0s 3ms/step - loss: 0.5547 - accuracy: 0.7966 - val_loss: 0.2641 - val_accuracy: 0.9746\n",
      "\n",
      "Epoch 00052: saving model to model\\keypoint_classifier.hdf5\n",
      "Epoch 53/1000\n",
      "22/22 [==============================] - 0s 3ms/step - loss: 0.5408 - accuracy: 0.7915 - val_loss: 0.2546 - val_accuracy: 0.9790\n",
      "\n",
      "Epoch 00053: saving model to model\\keypoint_classifier.hdf5\n",
      "Epoch 54/1000\n",
      "22/22 [==============================] - 0s 3ms/step - loss: 0.5248 - accuracy: 0.7948 - val_loss: 0.2394 - val_accuracy: 0.9823\n",
      "\n",
      "Epoch 00054: saving model to model\\keypoint_classifier.hdf5\n",
      "Epoch 55/1000\n",
      "22/22 [==============================] - 0s 2ms/step - loss: 0.5084 - accuracy: 0.8018 - val_loss: 0.2323 - val_accuracy: 0.9768\n",
      "\n",
      "Epoch 00055: saving model to model\\keypoint_classifier.hdf5\n",
      "Epoch 56/1000\n",
      "22/22 [==============================] - 0s 3ms/step - loss: 0.5223 - accuracy: 0.7915 - val_loss: 0.2336 - val_accuracy: 0.9856\n",
      "\n",
      "Epoch 00056: saving model to model\\keypoint_classifier.hdf5\n",
      "Epoch 57/1000\n",
      "22/22 [==============================] - 0s 3ms/step - loss: 0.5437 - accuracy: 0.7933 - val_loss: 0.2387 - val_accuracy: 0.9834\n",
      "\n",
      "Epoch 00057: saving model to model\\keypoint_classifier.hdf5\n",
      "Epoch 58/1000\n",
      "22/22 [==============================] - 0s 2ms/step - loss: 0.5338 - accuracy: 0.7926 - val_loss: 0.2417 - val_accuracy: 0.9801\n",
      "\n",
      "Epoch 00058: saving model to model\\keypoint_classifier.hdf5\n",
      "Epoch 59/1000\n",
      "22/22 [==============================] - 0s 2ms/step - loss: 0.5140 - accuracy: 0.8040 - val_loss: 0.2330 - val_accuracy: 0.9834\n",
      "\n",
      "Epoch 00059: saving model to model\\keypoint_classifier.hdf5\n",
      "Epoch 60/1000\n",
      "22/22 [==============================] - 0s 3ms/step - loss: 0.5110 - accuracy: 0.8021 - val_loss: 0.2204 - val_accuracy: 0.9845\n",
      "\n",
      "Epoch 00060: saving model to model\\keypoint_classifier.hdf5\n",
      "Epoch 61/1000\n",
      "22/22 [==============================] - 0s 3ms/step - loss: 0.5014 - accuracy: 0.8080 - val_loss: 0.2240 - val_accuracy: 0.9834\n",
      "\n",
      "Epoch 00061: saving model to model\\keypoint_classifier.hdf5\n",
      "Epoch 62/1000\n",
      "22/22 [==============================] - 0s 2ms/step - loss: 0.5044 - accuracy: 0.8165 - val_loss: 0.2203 - val_accuracy: 0.9812\n",
      "\n",
      "Epoch 00062: saving model to model\\keypoint_classifier.hdf5\n",
      "Epoch 63/1000\n",
      "22/22 [==============================] - 0s 3ms/step - loss: 0.5073 - accuracy: 0.8084 - val_loss: 0.2147 - val_accuracy: 0.9823\n",
      "\n",
      "Epoch 00063: saving model to model\\keypoint_classifier.hdf5\n",
      "Epoch 64/1000\n",
      "22/22 [==============================] - 0s 4ms/step - loss: 0.5036 - accuracy: 0.8161 - val_loss: 0.2151 - val_accuracy: 0.9834\n",
      "\n",
      "Epoch 00064: saving model to model\\keypoint_classifier.hdf5\n",
      "Epoch 65/1000\n",
      "22/22 [==============================] - 0s 3ms/step - loss: 0.5150 - accuracy: 0.8043 - val_loss: 0.2085 - val_accuracy: 0.9867\n",
      "\n",
      "Epoch 00065: saving model to model\\keypoint_classifier.hdf5\n",
      "Epoch 66/1000\n",
      "22/22 [==============================] - 0s 2ms/step - loss: 0.5378 - accuracy: 0.7951 - val_loss: 0.2107 - val_accuracy: 0.9867\n",
      "\n",
      "Epoch 00066: saving model to model\\keypoint_classifier.hdf5\n",
      "Epoch 67/1000\n",
      "22/22 [==============================] - 0s 2ms/step - loss: 0.4898 - accuracy: 0.8172 - val_loss: 0.2151 - val_accuracy: 0.9812\n",
      "\n",
      "Epoch 00067: saving model to model\\keypoint_classifier.hdf5\n",
      "Epoch 68/1000\n",
      "22/22 [==============================] - 0s 2ms/step - loss: 0.4825 - accuracy: 0.8113 - val_loss: 0.2072 - val_accuracy: 0.9845\n",
      "\n",
      "Epoch 00068: saving model to model\\keypoint_classifier.hdf5\n",
      "Epoch 69/1000\n",
      "22/22 [==============================] - 0s 3ms/step - loss: 0.4983 - accuracy: 0.8154 - val_loss: 0.2064 - val_accuracy: 0.9845\n",
      "\n",
      "Epoch 00069: saving model to model\\keypoint_classifier.hdf5\n",
      "Epoch 70/1000\n",
      "22/22 [==============================] - 0s 2ms/step - loss: 0.4835 - accuracy: 0.8132 - val_loss: 0.2013 - val_accuracy: 0.9845\n",
      "\n",
      "Epoch 00070: saving model to model\\keypoint_classifier.hdf5\n",
      "Epoch 71/1000\n",
      "22/22 [==============================] - 0s 2ms/step - loss: 0.4918 - accuracy: 0.8047 - val_loss: 0.1964 - val_accuracy: 0.9856\n",
      "\n",
      "Epoch 00071: saving model to model\\keypoint_classifier.hdf5\n",
      "Epoch 72/1000\n",
      "22/22 [==============================] - 0s 2ms/step - loss: 0.5115 - accuracy: 0.7970 - val_loss: 0.2071 - val_accuracy: 0.9790\n",
      "\n",
      "Epoch 00072: saving model to model\\keypoint_classifier.hdf5\n",
      "Epoch 73/1000\n",
      "22/22 [==============================] - 0s 3ms/step - loss: 0.4676 - accuracy: 0.8257 - val_loss: 0.1923 - val_accuracy: 0.9878\n",
      "\n",
      "Epoch 00073: saving model to model\\keypoint_classifier.hdf5\n",
      "Epoch 74/1000\n",
      "22/22 [==============================] - 0s 3ms/step - loss: 0.4685 - accuracy: 0.8257 - val_loss: 0.1928 - val_accuracy: 0.9834\n",
      "\n",
      "Epoch 00074: saving model to model\\keypoint_classifier.hdf5\n",
      "Epoch 75/1000\n",
      "22/22 [==============================] - 0s 3ms/step - loss: 0.4859 - accuracy: 0.8161 - val_loss: 0.1913 - val_accuracy: 0.9856\n",
      "\n",
      "Epoch 00075: saving model to model\\keypoint_classifier.hdf5\n",
      "Epoch 76/1000\n",
      "22/22 [==============================] - 0s 4ms/step - loss: 0.4769 - accuracy: 0.8209 - val_loss: 0.1905 - val_accuracy: 0.9823\n",
      "\n",
      "Epoch 00076: saving model to model\\keypoint_classifier.hdf5\n",
      "Epoch 77/1000\n",
      "22/22 [==============================] - 0s 3ms/step - loss: 0.4687 - accuracy: 0.8139 - val_loss: 0.1865 - val_accuracy: 0.9856\n",
      "\n",
      "Epoch 00077: saving model to model\\keypoint_classifier.hdf5\n",
      "Epoch 78/1000\n",
      "22/22 [==============================] - 0s 3ms/step - loss: 0.4648 - accuracy: 0.8217 - val_loss: 0.1804 - val_accuracy: 0.9878\n",
      "\n",
      "Epoch 00078: saving model to model\\keypoint_classifier.hdf5\n",
      "Epoch 79/1000\n",
      "22/22 [==============================] - 0s 5ms/step - loss: 0.5074 - accuracy: 0.8010 - val_loss: 0.1836 - val_accuracy: 0.9867\n",
      "\n",
      "Epoch 00079: saving model to model\\keypoint_classifier.hdf5\n",
      "Epoch 80/1000\n",
      "22/22 [==============================] - 0s 3ms/step - loss: 0.4780 - accuracy: 0.8147 - val_loss: 0.1791 - val_accuracy: 0.9845\n",
      "\n",
      "Epoch 00080: saving model to model\\keypoint_classifier.hdf5\n",
      "Epoch 81/1000\n"
     ]
    },
    {
     "name": "stdout",
     "output_type": "stream",
     "text": [
      "22/22 [==============================] - 0s 4ms/step - loss: 0.4648 - accuracy: 0.8132 - val_loss: 0.1833 - val_accuracy: 0.9823\n",
      "\n",
      "Epoch 00081: saving model to model\\keypoint_classifier.hdf5\n",
      "Epoch 82/1000\n",
      "22/22 [==============================] - 0s 4ms/step - loss: 0.4593 - accuracy: 0.8305 - val_loss: 0.1789 - val_accuracy: 0.9845\n",
      "\n",
      "Epoch 00082: saving model to model\\keypoint_classifier.hdf5\n",
      "Epoch 83/1000\n",
      "22/22 [==============================] - 0s 3ms/step - loss: 0.4571 - accuracy: 0.8202 - val_loss: 0.1794 - val_accuracy: 0.9856\n",
      "\n",
      "Epoch 00083: saving model to model\\keypoint_classifier.hdf5\n",
      "Epoch 84/1000\n",
      "22/22 [==============================] - 0s 4ms/step - loss: 0.4409 - accuracy: 0.8265 - val_loss: 0.1677 - val_accuracy: 0.9878\n",
      "\n",
      "Epoch 00084: saving model to model\\keypoint_classifier.hdf5\n",
      "Epoch 85/1000\n",
      "22/22 [==============================] - 0s 3ms/step - loss: 0.4544 - accuracy: 0.8220 - val_loss: 0.1826 - val_accuracy: 0.9823\n",
      "\n",
      "Epoch 00085: saving model to model\\keypoint_classifier.hdf5\n",
      "Epoch 86/1000\n",
      "22/22 [==============================] - 0s 4ms/step - loss: 0.4519 - accuracy: 0.8242 - val_loss: 0.1739 - val_accuracy: 0.9845\n",
      "\n",
      "Epoch 00086: saving model to model\\keypoint_classifier.hdf5\n",
      "Epoch 87/1000\n",
      "22/22 [==============================] - 0s 4ms/step - loss: 0.4570 - accuracy: 0.8254 - val_loss: 0.1731 - val_accuracy: 0.9856\n",
      "\n",
      "Epoch 00087: saving model to model\\keypoint_classifier.hdf5\n",
      "Epoch 88/1000\n",
      "22/22 [==============================] - 0s 4ms/step - loss: 0.4530 - accuracy: 0.8290 - val_loss: 0.1706 - val_accuracy: 0.9856\n",
      "\n",
      "Epoch 00088: saving model to model\\keypoint_classifier.hdf5\n",
      "Epoch 89/1000\n",
      "22/22 [==============================] - 0s 4ms/step - loss: 0.4453 - accuracy: 0.8290 - val_loss: 0.1716 - val_accuracy: 0.9856\n",
      "\n",
      "Epoch 00089: saving model to model\\keypoint_classifier.hdf5\n",
      "Epoch 90/1000\n",
      "22/22 [==============================] - 0s 4ms/step - loss: 0.4599 - accuracy: 0.8294 - val_loss: 0.1638 - val_accuracy: 0.9878\n",
      "\n",
      "Epoch 00090: saving model to model\\keypoint_classifier.hdf5\n",
      "Epoch 91/1000\n",
      "22/22 [==============================] - 0s 4ms/step - loss: 0.4496 - accuracy: 0.8254 - val_loss: 0.1666 - val_accuracy: 0.9878\n",
      "\n",
      "Epoch 00091: saving model to model\\keypoint_classifier.hdf5\n",
      "Epoch 92/1000\n",
      "22/22 [==============================] - 0s 4ms/step - loss: 0.4285 - accuracy: 0.8257 - val_loss: 0.1636 - val_accuracy: 0.9867\n",
      "\n",
      "Epoch 00092: saving model to model\\keypoint_classifier.hdf5\n",
      "Epoch 93/1000\n",
      "22/22 [==============================] - 0s 4ms/step - loss: 0.4333 - accuracy: 0.8346 - val_loss: 0.1642 - val_accuracy: 0.9878\n",
      "\n",
      "Epoch 00093: saving model to model\\keypoint_classifier.hdf5\n",
      "Epoch 94/1000\n",
      "22/22 [==============================] - 0s 4ms/step - loss: 0.4387 - accuracy: 0.8301 - val_loss: 0.1565 - val_accuracy: 0.9856\n",
      "\n",
      "Epoch 00094: saving model to model\\keypoint_classifier.hdf5\n",
      "Epoch 95/1000\n",
      "22/22 [==============================] - 0s 4ms/step - loss: 0.4551 - accuracy: 0.8228 - val_loss: 0.1651 - val_accuracy: 0.9867\n",
      "\n",
      "Epoch 00095: saving model to model\\keypoint_classifier.hdf5\n",
      "Epoch 96/1000\n",
      "22/22 [==============================] - 0s 4ms/step - loss: 0.4603 - accuracy: 0.8246 - val_loss: 0.1669 - val_accuracy: 0.9856\n",
      "\n",
      "Epoch 00096: saving model to model\\keypoint_classifier.hdf5\n",
      "Epoch 97/1000\n",
      "22/22 [==============================] - 0s 4ms/step - loss: 0.4440 - accuracy: 0.8331 - val_loss: 0.1579 - val_accuracy: 0.9856\n",
      "\n",
      "Epoch 00097: saving model to model\\keypoint_classifier.hdf5\n",
      "Epoch 98/1000\n",
      "22/22 [==============================] - 0s 4ms/step - loss: 0.4227 - accuracy: 0.8342 - val_loss: 0.1646 - val_accuracy: 0.9867\n",
      "\n",
      "Epoch 00098: saving model to model\\keypoint_classifier.hdf5\n",
      "Epoch 99/1000\n",
      "22/22 [==============================] - 0s 4ms/step - loss: 0.4517 - accuracy: 0.8198 - val_loss: 0.1623 - val_accuracy: 0.9878\n",
      "\n",
      "Epoch 00099: saving model to model\\keypoint_classifier.hdf5\n",
      "Epoch 100/1000\n",
      "22/22 [==============================] - 0s 4ms/step - loss: 0.4331 - accuracy: 0.8338 - val_loss: 0.1533 - val_accuracy: 0.9878\n",
      "\n",
      "Epoch 00100: saving model to model\\keypoint_classifier.hdf5\n",
      "Epoch 101/1000\n",
      "22/22 [==============================] - 0s 4ms/step - loss: 0.4296 - accuracy: 0.8287 - val_loss: 0.1491 - val_accuracy: 0.9878\n",
      "\n",
      "Epoch 00101: saving model to model\\keypoint_classifier.hdf5\n",
      "Epoch 102/1000\n",
      "22/22 [==============================] - 0s 4ms/step - loss: 0.4558 - accuracy: 0.8320 - val_loss: 0.1540 - val_accuracy: 0.9867\n",
      "\n",
      "Epoch 00102: saving model to model\\keypoint_classifier.hdf5\n",
      "Epoch 103/1000\n",
      "22/22 [==============================] - 0s 4ms/step - loss: 0.4602 - accuracy: 0.8242 - val_loss: 0.1622 - val_accuracy: 0.9867\n",
      "\n",
      "Epoch 00103: saving model to model\\keypoint_classifier.hdf5\n",
      "Epoch 104/1000\n",
      "22/22 [==============================] - 0s 4ms/step - loss: 0.4493 - accuracy: 0.8272 - val_loss: 0.1595 - val_accuracy: 0.9890\n",
      "\n",
      "Epoch 00104: saving model to model\\keypoint_classifier.hdf5\n",
      "Epoch 105/1000\n",
      "22/22 [==============================] - 0s 3ms/step - loss: 0.4089 - accuracy: 0.8467 - val_loss: 0.1513 - val_accuracy: 0.9890\n",
      "\n",
      "Epoch 00105: saving model to model\\keypoint_classifier.hdf5\n",
      "Epoch 106/1000\n",
      "22/22 [==============================] - 0s 4ms/step - loss: 0.4204 - accuracy: 0.8408 - val_loss: 0.1492 - val_accuracy: 0.9878\n",
      "\n",
      "Epoch 00106: saving model to model\\keypoint_classifier.hdf5\n",
      "Epoch 107/1000\n",
      "22/22 [==============================] - 0s 4ms/step - loss: 0.4216 - accuracy: 0.8364 - val_loss: 0.1512 - val_accuracy: 0.9867\n",
      "\n",
      "Epoch 00107: saving model to model\\keypoint_classifier.hdf5\n",
      "Epoch 108/1000\n",
      "22/22 [==============================] - 0s 4ms/step - loss: 0.4268 - accuracy: 0.8331 - val_loss: 0.1568 - val_accuracy: 0.9878\n",
      "\n",
      "Epoch 00108: saving model to model\\keypoint_classifier.hdf5\n",
      "Epoch 109/1000\n",
      "22/22 [==============================] - 0s 4ms/step - loss: 0.4380 - accuracy: 0.8320 - val_loss: 0.1587 - val_accuracy: 0.9867\n",
      "\n",
      "Epoch 00109: saving model to model\\keypoint_classifier.hdf5\n",
      "Epoch 110/1000\n",
      "22/22 [==============================] - 0s 5ms/step - loss: 0.4457 - accuracy: 0.8294 - val_loss: 0.1558 - val_accuracy: 0.9867\n",
      "\n",
      "Epoch 00110: saving model to model\\keypoint_classifier.hdf5\n",
      "Epoch 111/1000\n",
      "22/22 [==============================] - 0s 4ms/step - loss: 0.4271 - accuracy: 0.8346 - val_loss: 0.1485 - val_accuracy: 0.9890\n",
      "\n",
      "Epoch 00111: saving model to model\\keypoint_classifier.hdf5\n",
      "Epoch 112/1000\n",
      "22/22 [==============================] - 0s 6ms/step - loss: 0.3986 - accuracy: 0.8493 - val_loss: 0.1422 - val_accuracy: 0.9878\n",
      "\n",
      "Epoch 00112: saving model to model\\keypoint_classifier.hdf5\n",
      "Epoch 113/1000\n",
      "22/22 [==============================] - 0s 7ms/step - loss: 0.4248 - accuracy: 0.8401 - val_loss: 0.1442 - val_accuracy: 0.9890\n",
      "\n",
      "Epoch 00113: saving model to model\\keypoint_classifier.hdf5\n",
      "Epoch 114/1000\n",
      "22/22 [==============================] - 0s 5ms/step - loss: 0.4185 - accuracy: 0.8500 - val_loss: 0.1536 - val_accuracy: 0.9878\n",
      "\n",
      "Epoch 00114: saving model to model\\keypoint_classifier.hdf5\n",
      "Epoch 115/1000\n",
      "22/22 [==============================] - 0s 5ms/step - loss: 0.4263 - accuracy: 0.8368 - val_loss: 0.1500 - val_accuracy: 0.9890\n",
      "\n",
      "Epoch 00115: saving model to model\\keypoint_classifier.hdf5\n",
      "Epoch 116/1000\n",
      "22/22 [==============================] - 0s 6ms/step - loss: 0.4309 - accuracy: 0.8331 - val_loss: 0.1614 - val_accuracy: 0.9878\n",
      "\n",
      "Epoch 00116: saving model to model\\keypoint_classifier.hdf5\n",
      "Epoch 117/1000\n",
      "22/22 [==============================] - 0s 9ms/step - loss: 0.4146 - accuracy: 0.8364 - val_loss: 0.1442 - val_accuracy: 0.9878\n",
      "\n",
      "Epoch 00117: saving model to model\\keypoint_classifier.hdf5\n",
      "Epoch 118/1000\n",
      "22/22 [==============================] - 0s 6ms/step - loss: 0.4178 - accuracy: 0.8382 - val_loss: 0.1546 - val_accuracy: 0.9845\n",
      "\n",
      "Epoch 00118: saving model to model\\keypoint_classifier.hdf5\n",
      "Epoch 119/1000\n",
      "22/22 [==============================] - 0s 6ms/step - loss: 0.3967 - accuracy: 0.8511 - val_loss: 0.1408 - val_accuracy: 0.9890\n",
      "\n",
      "Epoch 00119: saving model to model\\keypoint_classifier.hdf5\n",
      "Epoch 120/1000\n",
      "22/22 [==============================] - 0s 5ms/step - loss: 0.4128 - accuracy: 0.8452 - val_loss: 0.1454 - val_accuracy: 0.9867\n",
      "\n",
      "Epoch 00120: saving model to model\\keypoint_classifier.hdf5\n",
      "Epoch 121/1000\n"
     ]
    },
    {
     "name": "stdout",
     "output_type": "stream",
     "text": [
      "22/22 [==============================] - 0s 4ms/step - loss: 0.4149 - accuracy: 0.8471 - val_loss: 0.1412 - val_accuracy: 0.9890\n",
      "\n",
      "Epoch 00121: saving model to model\\keypoint_classifier.hdf5\n",
      "Epoch 122/1000\n",
      "22/22 [==============================] - 0s 3ms/step - loss: 0.4086 - accuracy: 0.8394 - val_loss: 0.1335 - val_accuracy: 0.9912\n",
      "\n",
      "Epoch 00122: saving model to model\\keypoint_classifier.hdf5\n",
      "Epoch 123/1000\n",
      "22/22 [==============================] - 0s 6ms/step - loss: 0.4369 - accuracy: 0.8364 - val_loss: 0.1433 - val_accuracy: 0.9878\n",
      "\n",
      "Epoch 00123: saving model to model\\keypoint_classifier.hdf5\n",
      "Epoch 124/1000\n",
      "22/22 [==============================] - 0s 4ms/step - loss: 0.4156 - accuracy: 0.8390 - val_loss: 0.1497 - val_accuracy: 0.9878\n",
      "\n",
      "Epoch 00124: saving model to model\\keypoint_classifier.hdf5\n",
      "Epoch 125/1000\n",
      "22/22 [==============================] - 0s 4ms/step - loss: 0.4124 - accuracy: 0.8500 - val_loss: 0.1493 - val_accuracy: 0.9890\n",
      "\n",
      "Epoch 00125: saving model to model\\keypoint_classifier.hdf5\n",
      "Epoch 126/1000\n",
      "22/22 [==============================] - 0s 4ms/step - loss: 0.4026 - accuracy: 0.8438 - val_loss: 0.1402 - val_accuracy: 0.9890\n",
      "\n",
      "Epoch 00126: saving model to model\\keypoint_classifier.hdf5\n",
      "Epoch 127/1000\n",
      "22/22 [==============================] - 0s 4ms/step - loss: 0.4107 - accuracy: 0.8522 - val_loss: 0.1532 - val_accuracy: 0.9856\n",
      "\n",
      "Epoch 00127: saving model to model\\keypoint_classifier.hdf5\n",
      "Epoch 128/1000\n",
      "22/22 [==============================] - 0s 5ms/step - loss: 0.4070 - accuracy: 0.8416 - val_loss: 0.1377 - val_accuracy: 0.9912\n",
      "\n",
      "Epoch 00128: saving model to model\\keypoint_classifier.hdf5\n",
      "Epoch 129/1000\n",
      "22/22 [==============================] - 0s 6ms/step - loss: 0.3974 - accuracy: 0.8471 - val_loss: 0.1374 - val_accuracy: 0.9912\n",
      "\n",
      "Epoch 00129: saving model to model\\keypoint_classifier.hdf5\n",
      "Epoch 130/1000\n",
      "22/22 [==============================] - 0s 7ms/step - loss: 0.3968 - accuracy: 0.8511 - val_loss: 0.1381 - val_accuracy: 0.9901\n",
      "\n",
      "Epoch 00130: saving model to model\\keypoint_classifier.hdf5\n",
      "Epoch 131/1000\n",
      "22/22 [==============================] - 0s 4ms/step - loss: 0.3988 - accuracy: 0.8497 - val_loss: 0.1489 - val_accuracy: 0.9867\n",
      "\n",
      "Epoch 00131: saving model to model\\keypoint_classifier.hdf5\n",
      "Epoch 132/1000\n",
      "22/22 [==============================] - 0s 8ms/step - loss: 0.4094 - accuracy: 0.8445 - val_loss: 0.1462 - val_accuracy: 0.9878\n",
      "\n",
      "Epoch 00132: saving model to model\\keypoint_classifier.hdf5\n",
      "Epoch 133/1000\n",
      "22/22 [==============================] - 0s 8ms/step - loss: 0.3902 - accuracy: 0.8552 - val_loss: 0.1450 - val_accuracy: 0.9890\n",
      "\n",
      "Epoch 00133: saving model to model\\keypoint_classifier.hdf5\n",
      "Epoch 134/1000\n",
      "22/22 [==============================] - 0s 4ms/step - loss: 0.4070 - accuracy: 0.8482 - val_loss: 0.1541 - val_accuracy: 0.9867\n",
      "\n",
      "Epoch 00134: saving model to model\\keypoint_classifier.hdf5\n",
      "Epoch 135/1000\n",
      "22/22 [==============================] - 0s 3ms/step - loss: 0.4008 - accuracy: 0.8441 - val_loss: 0.1426 - val_accuracy: 0.9901\n",
      "\n",
      "Epoch 00135: saving model to model\\keypoint_classifier.hdf5\n",
      "Epoch 136/1000\n",
      "22/22 [==============================] - 0s 4ms/step - loss: 0.3894 - accuracy: 0.8522 - val_loss: 0.1354 - val_accuracy: 0.9901\n",
      "\n",
      "Epoch 00136: saving model to model\\keypoint_classifier.hdf5\n",
      "Epoch 137/1000\n",
      "22/22 [==============================] - 0s 4ms/step - loss: 0.3916 - accuracy: 0.8397 - val_loss: 0.1315 - val_accuracy: 0.9923\n",
      "\n",
      "Epoch 00137: saving model to model\\keypoint_classifier.hdf5\n",
      "Epoch 138/1000\n",
      "22/22 [==============================] - 0s 4ms/step - loss: 0.4210 - accuracy: 0.8379 - val_loss: 0.1480 - val_accuracy: 0.9867\n",
      "\n",
      "Epoch 00138: saving model to model\\keypoint_classifier.hdf5\n",
      "Epoch 139/1000\n",
      "22/22 [==============================] - 0s 3ms/step - loss: 0.3962 - accuracy: 0.8526 - val_loss: 0.1375 - val_accuracy: 0.9890\n",
      "\n",
      "Epoch 00139: saving model to model\\keypoint_classifier.hdf5\n",
      "Epoch 140/1000\n",
      "22/22 [==============================] - 0s 5ms/step - loss: 0.3974 - accuracy: 0.8456 - val_loss: 0.1307 - val_accuracy: 0.9912\n",
      "\n",
      "Epoch 00140: saving model to model\\keypoint_classifier.hdf5\n",
      "Epoch 141/1000\n",
      "22/22 [==============================] - 0s 3ms/step - loss: 0.3860 - accuracy: 0.8604 - val_loss: 0.1310 - val_accuracy: 0.9912\n",
      "\n",
      "Epoch 00141: saving model to model\\keypoint_classifier.hdf5\n",
      "Epoch 142/1000\n",
      "22/22 [==============================] - 0s 3ms/step - loss: 0.4059 - accuracy: 0.8500 - val_loss: 0.1361 - val_accuracy: 0.9890\n",
      "\n",
      "Epoch 00142: saving model to model\\keypoint_classifier.hdf5\n",
      "Epoch 143/1000\n",
      "22/22 [==============================] - 0s 3ms/step - loss: 0.4083 - accuracy: 0.8467 - val_loss: 0.1508 - val_accuracy: 0.9856\n",
      "\n",
      "Epoch 00143: saving model to model\\keypoint_classifier.hdf5\n",
      "Epoch 144/1000\n",
      "22/22 [==============================] - 0s 3ms/step - loss: 0.3963 - accuracy: 0.8526 - val_loss: 0.1441 - val_accuracy: 0.9901\n",
      "\n",
      "Epoch 00144: saving model to model\\keypoint_classifier.hdf5\n",
      "Epoch 145/1000\n",
      "22/22 [==============================] - 0s 3ms/step - loss: 0.3785 - accuracy: 0.8534 - val_loss: 0.1280 - val_accuracy: 0.9912\n",
      "\n",
      "Epoch 00145: saving model to model\\keypoint_classifier.hdf5\n",
      "Epoch 146/1000\n",
      "22/22 [==============================] - 0s 3ms/step - loss: 0.4066 - accuracy: 0.8419 - val_loss: 0.1358 - val_accuracy: 0.9901\n",
      "\n",
      "Epoch 00146: saving model to model\\keypoint_classifier.hdf5\n",
      "Epoch 147/1000\n",
      "22/22 [==============================] - 0s 4ms/step - loss: 0.4016 - accuracy: 0.8519 - val_loss: 0.1393 - val_accuracy: 0.9901\n",
      "\n",
      "Epoch 00147: saving model to model\\keypoint_classifier.hdf5\n",
      "Epoch 148/1000\n",
      "22/22 [==============================] - 0s 4ms/step - loss: 0.3628 - accuracy: 0.8666 - val_loss: 0.1366 - val_accuracy: 0.9890\n",
      "\n",
      "Epoch 00148: saving model to model\\keypoint_classifier.hdf5\n",
      "Epoch 149/1000\n",
      "22/22 [==============================] - 0s 3ms/step - loss: 0.3954 - accuracy: 0.8497 - val_loss: 0.1240 - val_accuracy: 0.9912\n",
      "\n",
      "Epoch 00149: saving model to model\\keypoint_classifier.hdf5\n",
      "Epoch 150/1000\n",
      "22/22 [==============================] - 0s 3ms/step - loss: 0.3790 - accuracy: 0.8559 - val_loss: 0.1272 - val_accuracy: 0.9867\n",
      "\n",
      "Epoch 00150: saving model to model\\keypoint_classifier.hdf5\n",
      "Epoch 151/1000\n",
      "22/22 [==============================] - 0s 3ms/step - loss: 0.3624 - accuracy: 0.8607 - val_loss: 0.1273 - val_accuracy: 0.9890\n",
      "\n",
      "Epoch 00151: saving model to model\\keypoint_classifier.hdf5\n",
      "Epoch 152/1000\n",
      "22/22 [==============================] - 0s 3ms/step - loss: 0.3898 - accuracy: 0.8489 - val_loss: 0.1375 - val_accuracy: 0.9867\n",
      "\n",
      "Epoch 00152: saving model to model\\keypoint_classifier.hdf5\n",
      "Epoch 153/1000\n",
      "22/22 [==============================] - 0s 5ms/step - loss: 0.3840 - accuracy: 0.8570 - val_loss: 0.1294 - val_accuracy: 0.9923\n",
      "\n",
      "Epoch 00153: saving model to model\\keypoint_classifier.hdf5\n",
      "Epoch 154/1000\n",
      "22/22 [==============================] - 0s 4ms/step - loss: 0.3774 - accuracy: 0.8556 - val_loss: 0.1286 - val_accuracy: 0.9923\n",
      "\n",
      "Epoch 00154: saving model to model\\keypoint_classifier.hdf5\n",
      "Epoch 155/1000\n",
      "22/22 [==============================] - 0s 3ms/step - loss: 0.3848 - accuracy: 0.8511 - val_loss: 0.1382 - val_accuracy: 0.9878\n",
      "\n",
      "Epoch 00155: saving model to model\\keypoint_classifier.hdf5\n",
      "Epoch 156/1000\n",
      "22/22 [==============================] - 0s 3ms/step - loss: 0.3711 - accuracy: 0.8534 - val_loss: 0.1309 - val_accuracy: 0.9901\n",
      "\n",
      "Epoch 00156: saving model to model\\keypoint_classifier.hdf5\n",
      "Epoch 157/1000\n",
      "22/22 [==============================] - 0s 3ms/step - loss: 0.3867 - accuracy: 0.8622 - val_loss: 0.1370 - val_accuracy: 0.9890\n",
      "\n",
      "Epoch 00157: saving model to model\\keypoint_classifier.hdf5\n",
      "Epoch 158/1000\n",
      "22/22 [==============================] - 0s 4ms/step - loss: 0.3758 - accuracy: 0.8548 - val_loss: 0.1293 - val_accuracy: 0.9901\n",
      "\n",
      "Epoch 00158: saving model to model\\keypoint_classifier.hdf5\n",
      "Epoch 159/1000\n",
      "22/22 [==============================] - 0s 3ms/step - loss: 0.3858 - accuracy: 0.8589 - val_loss: 0.1310 - val_accuracy: 0.9878\n",
      "\n",
      "Epoch 00159: saving model to model\\keypoint_classifier.hdf5\n",
      "Epoch 160/1000\n",
      "22/22 [==============================] - 0s 4ms/step - loss: 0.3520 - accuracy: 0.8681 - val_loss: 0.1261 - val_accuracy: 0.9923\n",
      "\n",
      "Epoch 00160: saving model to model\\keypoint_classifier.hdf5\n",
      "Epoch 161/1000\n"
     ]
    },
    {
     "name": "stdout",
     "output_type": "stream",
     "text": [
      "22/22 [==============================] - 0s 3ms/step - loss: 0.3820 - accuracy: 0.8589 - val_loss: 0.1236 - val_accuracy: 0.9878\n",
      "\n",
      "Epoch 00161: saving model to model\\keypoint_classifier.hdf5\n",
      "Epoch 162/1000\n",
      "22/22 [==============================] - 0s 3ms/step - loss: 0.3759 - accuracy: 0.8515 - val_loss: 0.1296 - val_accuracy: 0.9912\n",
      "\n",
      "Epoch 00162: saving model to model\\keypoint_classifier.hdf5\n",
      "Epoch 163/1000\n",
      "22/22 [==============================] - 0s 3ms/step - loss: 0.3609 - accuracy: 0.8637 - val_loss: 0.1260 - val_accuracy: 0.9912\n",
      "\n",
      "Epoch 00163: saving model to model\\keypoint_classifier.hdf5\n",
      "Epoch 164/1000\n",
      "22/22 [==============================] - 0s 3ms/step - loss: 0.3945 - accuracy: 0.8519 - val_loss: 0.1245 - val_accuracy: 0.9901\n",
      "\n",
      "Epoch 00164: saving model to model\\keypoint_classifier.hdf5\n",
      "Epoch 165/1000\n",
      "22/22 [==============================] - 0s 3ms/step - loss: 0.3666 - accuracy: 0.8662 - val_loss: 0.1263 - val_accuracy: 0.9890\n",
      "\n",
      "Epoch 00165: saving model to model\\keypoint_classifier.hdf5\n",
      "Epoch 166/1000\n",
      "22/22 [==============================] - 0s 3ms/step - loss: 0.3778 - accuracy: 0.8648 - val_loss: 0.1354 - val_accuracy: 0.9878\n",
      "\n",
      "Epoch 00166: saving model to model\\keypoint_classifier.hdf5\n",
      "Epoch 167/1000\n",
      "22/22 [==============================] - 0s 3ms/step - loss: 0.3716 - accuracy: 0.8618 - val_loss: 0.1287 - val_accuracy: 0.9912\n",
      "\n",
      "Epoch 00167: saving model to model\\keypoint_classifier.hdf5\n",
      "Epoch 168/1000\n",
      "22/22 [==============================] - 0s 3ms/step - loss: 0.3992 - accuracy: 0.8452 - val_loss: 0.1394 - val_accuracy: 0.9856\n",
      "\n",
      "Epoch 00168: saving model to model\\keypoint_classifier.hdf5\n",
      "Epoch 169/1000\n",
      "22/22 [==============================] - 0s 3ms/step - loss: 0.3734 - accuracy: 0.8581 - val_loss: 0.1244 - val_accuracy: 0.9901\n",
      "\n",
      "Epoch 00169: saving model to model\\keypoint_classifier.hdf5\n",
      "Epoch 170/1000\n",
      "22/22 [==============================] - 0s 3ms/step - loss: 0.3673 - accuracy: 0.8622 - val_loss: 0.1279 - val_accuracy: 0.9901\n",
      "\n",
      "Epoch 00170: saving model to model\\keypoint_classifier.hdf5\n",
      "Epoch 171/1000\n",
      "22/22 [==============================] - 0s 3ms/step - loss: 0.3701 - accuracy: 0.8585 - val_loss: 0.1293 - val_accuracy: 0.9867\n",
      "\n",
      "Epoch 00171: saving model to model\\keypoint_classifier.hdf5\n",
      "Epoch 172/1000\n",
      "22/22 [==============================] - 0s 3ms/step - loss: 0.3681 - accuracy: 0.8578 - val_loss: 0.1249 - val_accuracy: 0.9867\n",
      "\n",
      "Epoch 00172: saving model to model\\keypoint_classifier.hdf5\n",
      "Epoch 173/1000\n",
      "22/22 [==============================] - 0s 3ms/step - loss: 0.3511 - accuracy: 0.8721 - val_loss: 0.1198 - val_accuracy: 0.9901\n",
      "\n",
      "Epoch 00173: saving model to model\\keypoint_classifier.hdf5\n",
      "Epoch 174/1000\n",
      "22/22 [==============================] - 0s 3ms/step - loss: 0.3820 - accuracy: 0.8545 - val_loss: 0.1124 - val_accuracy: 0.9901\n",
      "\n",
      "Epoch 00174: saving model to model\\keypoint_classifier.hdf5\n",
      "Epoch 175/1000\n",
      "22/22 [==============================] - 0s 3ms/step - loss: 0.3715 - accuracy: 0.8688 - val_loss: 0.1213 - val_accuracy: 0.9901\n",
      "\n",
      "Epoch 00175: saving model to model\\keypoint_classifier.hdf5\n",
      "Epoch 176/1000\n",
      "22/22 [==============================] - 0s 3ms/step - loss: 0.3771 - accuracy: 0.8596 - val_loss: 0.1293 - val_accuracy: 0.9867\n",
      "\n",
      "Epoch 00176: saving model to model\\keypoint_classifier.hdf5\n",
      "Epoch 177/1000\n",
      "22/22 [==============================] - 0s 3ms/step - loss: 0.3905 - accuracy: 0.8548 - val_loss: 0.1326 - val_accuracy: 0.9901\n",
      "\n",
      "Epoch 00177: saving model to model\\keypoint_classifier.hdf5\n",
      "Epoch 178/1000\n",
      "22/22 [==============================] - 0s 3ms/step - loss: 0.3494 - accuracy: 0.8659 - val_loss: 0.1244 - val_accuracy: 0.9912\n",
      "\n",
      "Epoch 00178: saving model to model\\keypoint_classifier.hdf5\n",
      "Epoch 179/1000\n",
      "22/22 [==============================] - 0s 3ms/step - loss: 0.3587 - accuracy: 0.8644 - val_loss: 0.1185 - val_accuracy: 0.9901\n",
      "\n",
      "Epoch 00179: saving model to model\\keypoint_classifier.hdf5\n",
      "Epoch 180/1000\n",
      "22/22 [==============================] - 0s 3ms/step - loss: 0.3790 - accuracy: 0.8548 - val_loss: 0.1141 - val_accuracy: 0.9890\n",
      "\n",
      "Epoch 00180: saving model to model\\keypoint_classifier.hdf5\n",
      "Epoch 181/1000\n",
      "22/22 [==============================] - 0s 3ms/step - loss: 0.3707 - accuracy: 0.8559 - val_loss: 0.1235 - val_accuracy: 0.9878\n",
      "\n",
      "Epoch 00181: saving model to model\\keypoint_classifier.hdf5\n",
      "Epoch 182/1000\n",
      "22/22 [==============================] - 0s 3ms/step - loss: 0.3717 - accuracy: 0.8681 - val_loss: 0.1236 - val_accuracy: 0.9878\n",
      "\n",
      "Epoch 00182: saving model to model\\keypoint_classifier.hdf5\n",
      "Epoch 183/1000\n",
      "22/22 [==============================] - 0s 3ms/step - loss: 0.3588 - accuracy: 0.8592 - val_loss: 0.1263 - val_accuracy: 0.9878\n",
      "\n",
      "Epoch 00183: saving model to model\\keypoint_classifier.hdf5\n",
      "Epoch 184/1000\n",
      "22/22 [==============================] - 0s 3ms/step - loss: 0.3519 - accuracy: 0.8670 - val_loss: 0.1172 - val_accuracy: 0.9890\n",
      "\n",
      "Epoch 00184: saving model to model\\keypoint_classifier.hdf5\n",
      "Epoch 185/1000\n",
      "22/22 [==============================] - 0s 3ms/step - loss: 0.3503 - accuracy: 0.8707 - val_loss: 0.1111 - val_accuracy: 0.9867\n",
      "\n",
      "Epoch 00185: saving model to model\\keypoint_classifier.hdf5\n",
      "Epoch 186/1000\n",
      "22/22 [==============================] - 0s 3ms/step - loss: 0.3636 - accuracy: 0.8622 - val_loss: 0.1195 - val_accuracy: 0.9867\n",
      "\n",
      "Epoch 00186: saving model to model\\keypoint_classifier.hdf5\n",
      "Epoch 187/1000\n",
      "22/22 [==============================] - 0s 3ms/step - loss: 0.3977 - accuracy: 0.8526 - val_loss: 0.1327 - val_accuracy: 0.9856\n",
      "\n",
      "Epoch 00187: saving model to model\\keypoint_classifier.hdf5\n",
      "Epoch 188/1000\n",
      "22/22 [==============================] - 0s 3ms/step - loss: 0.3717 - accuracy: 0.8578 - val_loss: 0.1211 - val_accuracy: 0.9867\n",
      "\n",
      "Epoch 00188: saving model to model\\keypoint_classifier.hdf5\n",
      "Epoch 189/1000\n",
      "22/22 [==============================] - 0s 3ms/step - loss: 0.3621 - accuracy: 0.8670 - val_loss: 0.1193 - val_accuracy: 0.9901\n",
      "\n",
      "Epoch 00189: saving model to model\\keypoint_classifier.hdf5\n",
      "Epoch 190/1000\n",
      "22/22 [==============================] - 0s 3ms/step - loss: 0.3553 - accuracy: 0.8688 - val_loss: 0.1265 - val_accuracy: 0.9856\n",
      "\n",
      "Epoch 00190: saving model to model\\keypoint_classifier.hdf5\n",
      "Epoch 191/1000\n",
      "22/22 [==============================] - 0s 3ms/step - loss: 0.3768 - accuracy: 0.8633 - val_loss: 0.1309 - val_accuracy: 0.9867\n",
      "\n",
      "Epoch 00191: saving model to model\\keypoint_classifier.hdf5\n",
      "Epoch 192/1000\n",
      "22/22 [==============================] - 0s 3ms/step - loss: 0.3676 - accuracy: 0.8545 - val_loss: 0.1270 - val_accuracy: 0.9878\n",
      "\n",
      "Epoch 00192: saving model to model\\keypoint_classifier.hdf5\n",
      "Epoch 193/1000\n",
      "22/22 [==============================] - 0s 3ms/step - loss: 0.3469 - accuracy: 0.8707 - val_loss: 0.1221 - val_accuracy: 0.9901\n",
      "\n",
      "Epoch 00193: saving model to model\\keypoint_classifier.hdf5\n",
      "Epoch 194/1000\n",
      "22/22 [==============================] - 0s 3ms/step - loss: 0.3780 - accuracy: 0.8574 - val_loss: 0.1150 - val_accuracy: 0.9901\n",
      "\n",
      "Epoch 00194: saving model to model\\keypoint_classifier.hdf5\n",
      "Epoch 195/1000\n",
      "22/22 [==============================] - 0s 3ms/step - loss: 0.3645 - accuracy: 0.8685 - val_loss: 0.1231 - val_accuracy: 0.9878\n",
      "\n",
      "Epoch 00195: saving model to model\\keypoint_classifier.hdf5\n",
      "Epoch 196/1000\n",
      "22/22 [==============================] - 0s 3ms/step - loss: 0.3517 - accuracy: 0.8681 - val_loss: 0.1138 - val_accuracy: 0.9912\n",
      "\n",
      "Epoch 00196: saving model to model\\keypoint_classifier.hdf5\n",
      "Epoch 197/1000\n",
      "22/22 [==============================] - 0s 3ms/step - loss: 0.3512 - accuracy: 0.8626 - val_loss: 0.1153 - val_accuracy: 0.9878\n",
      "\n",
      "Epoch 00197: saving model to model\\keypoint_classifier.hdf5\n",
      "Epoch 198/1000\n",
      "22/22 [==============================] - 0s 3ms/step - loss: 0.3630 - accuracy: 0.8681 - val_loss: 0.1278 - val_accuracy: 0.9834\n",
      "\n",
      "Epoch 00198: saving model to model\\keypoint_classifier.hdf5\n",
      "Epoch 199/1000\n",
      "22/22 [==============================] - 0s 3ms/step - loss: 0.3562 - accuracy: 0.8688 - val_loss: 0.1116 - val_accuracy: 0.9901\n",
      "\n",
      "Epoch 00199: saving model to model\\keypoint_classifier.hdf5\n",
      "Epoch 200/1000\n",
      "22/22 [==============================] - 0s 4ms/step - loss: 0.3707 - accuracy: 0.8504 - val_loss: 0.1220 - val_accuracy: 0.9901\n",
      "\n",
      "Epoch 00200: saving model to model\\keypoint_classifier.hdf5\n",
      "Epoch 201/1000\n"
     ]
    },
    {
     "name": "stdout",
     "output_type": "stream",
     "text": [
      "22/22 [==============================] - 0s 3ms/step - loss: 0.3489 - accuracy: 0.8696 - val_loss: 0.1279 - val_accuracy: 0.9845\n",
      "\n",
      "Epoch 00201: saving model to model\\keypoint_classifier.hdf5\n",
      "Epoch 202/1000\n",
      "22/22 [==============================] - 0s 3ms/step - loss: 0.3455 - accuracy: 0.8699 - val_loss: 0.1176 - val_accuracy: 0.9856\n",
      "\n",
      "Epoch 00202: saving model to model\\keypoint_classifier.hdf5\n",
      "Epoch 203/1000\n",
      "22/22 [==============================] - 0s 3ms/step - loss: 0.3435 - accuracy: 0.8699 - val_loss: 0.1268 - val_accuracy: 0.9845\n",
      "\n",
      "Epoch 00203: saving model to model\\keypoint_classifier.hdf5\n",
      "Epoch 204/1000\n",
      "22/22 [==============================] - 0s 3ms/step - loss: 0.3432 - accuracy: 0.8681 - val_loss: 0.1189 - val_accuracy: 0.9867\n",
      "\n",
      "Epoch 00204: saving model to model\\keypoint_classifier.hdf5\n",
      "Epoch 205/1000\n",
      "22/22 [==============================] - 0s 3ms/step - loss: 0.3859 - accuracy: 0.8604 - val_loss: 0.1223 - val_accuracy: 0.9856\n",
      "\n",
      "Epoch 00205: saving model to model\\keypoint_classifier.hdf5\n",
      "Epoch 00205: early stopping\n"
     ]
    },
    {
     "data": {
      "text/plain": [
       "<keras.callbacks.History at 0x25f5509c430>"
      ]
     },
     "execution_count": 12,
     "metadata": {},
     "output_type": "execute_result"
    }
   ],
   "source": [
    "model.fit(\n",
    "    X_train,\n",
    "    y_train,\n",
    "    epochs=1000,\n",
    "    batch_size=128,\n",
    "    validation_data=(X_test, y_test),\n",
    "    callbacks=[cp_callback, es_callback]\n",
    ")"
   ]
  },
  {
   "cell_type": "code",
   "execution_count": 13,
   "metadata": {
    "colab": {
     "base_uri": "https://localhost:8080/"
    },
    "id": "pxvb2Y299hE3",
    "outputId": "59eb3185-2e37-4b9e-bc9d-ab1b8ac29b7f"
   },
   "outputs": [
    {
     "name": "stdout",
     "output_type": "stream",
     "text": [
      "8/8 [==============================] - 0s 855us/step - loss: 0.1223 - accuracy: 0.9856\n"
     ]
    }
   ],
   "source": [
    "# Model evaluation\n",
    "val_loss, val_acc = model.evaluate(X_test, y_test, batch_size=128)"
   ]
  },
  {
   "cell_type": "code",
   "execution_count": 14,
   "metadata": {
    "id": "RBkmDeUW9hE4"
   },
   "outputs": [],
   "source": [
    "# Loading the saved model\n",
    "model = tf.keras.models.load_model(model_save_path)"
   ]
  },
  {
   "cell_type": "code",
   "execution_count": 15,
   "metadata": {
    "colab": {
     "base_uri": "https://localhost:8080/"
    },
    "id": "tFz9Tb0I9hE4",
    "outputId": "1c3b3528-54ae-4ee2-ab04-77429211cbef"
   },
   "outputs": [
    {
     "name": "stdout",
     "output_type": "stream",
     "text": [
      "[7.6829857e-04 4.0331764e-05 1.0889945e-05 3.8085643e-03 8.9455706e-01\n",
      " 3.9630508e-09 1.0081483e-01]\n",
      "4\n"
     ]
    }
   ],
   "source": [
    "# Inference test\n",
    "predict_result = model.predict(np.array([X_test[0]]))\n",
    "print(np.squeeze(predict_result))\n",
    "print(np.argmax(np.squeeze(predict_result)))"
   ]
  },
  {
   "cell_type": "markdown",
   "metadata": {
    "id": "S3U4yNWx9hE4"
   },
   "source": [
    "# Confusion matrix"
   ]
  },
  {
   "cell_type": "code",
   "execution_count": 16,
   "metadata": {
    "colab": {
     "base_uri": "https://localhost:8080/",
     "height": 582
    },
    "id": "AP1V6SCk9hE5",
    "outputId": "08e41a80-7a4a-4619-8125-ecc371368d19"
   },
   "outputs": [
    {
     "data": {
      "image/png": "[encoded data removed]",
      "text/plain": [
       "<Figure size 504x432 with 2 Axes>"
      ]
     },
     "metadata": {
      "needs_background": "light"
     },
     "output_type": "display_data"
    },
    {
     "name": "stdout",
     "output_type": "stream",
     "text": [
      "Classification Report\n",
      "              precision    recall  f1-score   support\n",
      "\n",
      "           0       1.00      0.95      0.97       138\n",
      "           1       0.99      0.99      0.99       144\n",
      "           2       1.00      1.00      1.00       132\n",
      "           3       0.95      1.00      0.97       136\n",
      "           4       1.00      0.97      0.99       142\n",
      "           5       1.00      1.00      1.00       104\n",
      "           6       0.96      0.99      0.97       109\n",
      "\n",
      "    accuracy                           0.99       905\n",
      "   macro avg       0.99      0.99      0.99       905\n",
      "weighted avg       0.99      0.99      0.99       905\n",
      "\n"
     ]
    }
   ],
   "source": [
    "import pandas as pd\n",
    "import seaborn as sns\n",
    "import matplotlib.pyplot as plt\n",
    "from sklearn.metrics import confusion_matrix, classification_report\n",
    "\n",
    "def print_confusion_matrix(y_true, y_pred, report=True):\n",
    "    labels = sorted(list(set(y_true)))\n",
    "    cmx_data = confusion_matrix(y_true, y_pred, labels=labels)\n",
    "    \n",
    "    df_cmx = pd.DataFrame(cmx_data, index=labels, columns=labels)\n",
    " \n",
    "    fig, ax = plt.subplots(figsize=(7, 6))\n",
    "    sns.heatmap(df_cmx, annot=True, fmt='g' ,square=False)\n",
    "    ax.set_ylim(len(set(y_true)), 0)\n",
    "    plt.show()\n",
    "    \n",
    "    if report:\n",
    "        print('Classification Report')\n",
    "        print(classification_report(y_test, y_pred))\n",
    "\n",
    "Y_pred = model.predict(X_test)\n",
    "y_pred = np.argmax(Y_pred, axis=1)\n",
    "\n",
    "print_confusion_matrix(y_test, y_pred)"
   ]
  },
  {
   "cell_type": "markdown",
   "metadata": {
    "id": "FNP6aqzc9hE5"
   },
   "source": [
    "# Convert to model for Tensorflow-Lite"
   ]
  },
  {
   "cell_type": "code",
   "execution_count": 17,
   "metadata": {
    "id": "ODjnYyld9hE6"
   },
   "outputs": [],
   "source": [
    "# Save as a model dedicated to inference\n",
    "model.save(model_save_path, include_optimizer=False)"
   ]
  },
  {
   "cell_type": "code",
   "execution_count": 18,
   "metadata": {
    "colab": {
     "base_uri": "https://localhost:8080/"
    },
    "id": "zRfuK8Y59hE6",
    "outputId": "a4ca585c-b5d5-4244-8291-8674063209bb"
   },
   "outputs": [
    {
     "name": "stdout",
     "output_type": "stream",
     "text": [
      "INFO:tensorflow:Assets written to: C:\\Users\\Asus\\AppData\\Local\\Temp\\tmpdpiw7mzu\\assets\n"
     ]
    },
    {
     "data": {
      "text/plain": [
       "6480"
      ]
     },
     "execution_count": 18,
     "metadata": {},
     "output_type": "execute_result"
    }
   ],
   "source": [
    "# Transform model (quantization)\n",
    "\n",
    "converter = tf.lite.TFLiteConverter.from_keras_model(model)\n",
    "converter.optimizations = [tf.lite.Optimize.DEFAULT]\n",
    "tflite_quantized_model = converter.convert()\n",
    "\n",
    "open(tflite_save_path, 'wb').write(tflite_quantized_model)"
   ]
  },
  {
   "cell_type": "markdown",
   "metadata": {
    "id": "CHBPBXdx9hE6"
   },
   "source": [
    "# Inference test"
   ]
  },
  {
   "cell_type": "code",
   "execution_count": 19,
   "metadata": {
    "id": "mGAzLocO9hE7"
   },
   "outputs": [],
   "source": [
    "interpreter = tf.lite.Interpreter(model_path=tflite_save_path)\n",
    "interpreter.allocate_tensors()"
   ]
  },
  {
   "cell_type": "code",
   "execution_count": 20,
   "metadata": {
    "id": "oQuDK8YS9hE7"
   },
   "outputs": [],
   "source": [
    "# Get I / O tensor\n",
    "input_details = interpreter.get_input_details()\n",
    "output_details = interpreter.get_output_details()"
   ]
  },
  {
   "cell_type": "code",
   "execution_count": 21,
   "metadata": {
    "id": "2_ixAf_l9hE7"
   },
   "outputs": [],
   "source": [
    "interpreter.set_tensor(input_details[0]['index'], np.array([X_test[0]]))"
   ]
  },
  {
   "cell_type": "code",
   "execution_count": 22,
   "metadata": {
    "colab": {
     "base_uri": "https://localhost:8080/"
    },
    "id": "s4FoAnuc9hE7",
    "outputId": "91f18257-8d8b-4ef3-c558-e9b5f94fabbf",
    "scrolled": true
   },
   "outputs": [
    {
     "name": "stdout",
     "output_type": "stream",
     "text": [
      "Wall time: 998 µs\n"
     ]
    }
   ],
   "source": [
    "%%time\n",
    "# Inference implementation\n",
    "interpreter.invoke()\n",
    "tflite_results = interpreter.get_tensor(output_details[0]['index'])"
   ]
  },
  {
   "cell_type": "code",
   "execution_count": 23,
   "metadata": {
    "colab": {
     "base_uri": "https://localhost:8080/"
    },
    "id": "vONjp19J9hE8",
    "outputId": "77205e24-fd00-42c4-f7b6-e06e527c2cba"
   },
   "outputs": [
    {
     "name": "stdout",
     "output_type": "stream",
     "text": [
      "[7.68298865e-04 4.03318772e-05 1.08899430e-05 3.80856567e-03\n",
      " 8.94556999e-01 3.96306499e-09 1.00814864e-01]\n",
      "4\n"
     ]
    }
   ],
   "source": [
    "print(np.squeeze(tflite_results))\n",
    "print(np.argmax(np.squeeze(tflite_results)))"
   ]
  },
  {
   "cell_type": "code",
   "execution_count": null,
   "metadata": {},
   "outputs": [],
   "source": []
  }
 ],
 "metadata": {
  "accelerator": "GPU",
  "colab": {
   "collapsed_sections": [],
   "name": "keypoint_classification_EN.ipynb",
   "provenance": [],
   "toc_visible": true
  },
  "kernelspec": {
   "display_name": "Python 3",
   "language": "python",
   "name": "python3"
  },
  "language_info": {
   "codemirror_mode": {
    "name": "ipython",
    "version": 3
   },
   "file_extension": ".py",
   "mimetype": "text/x-python",
   "name": "python",
   "nbconvert_exporter": "python",
   "pygments_lexer": "ipython3",
   "version": "3.9.0"
  }
 },
 "nbformat": 4,
 "nbformat_minor": 1
}
