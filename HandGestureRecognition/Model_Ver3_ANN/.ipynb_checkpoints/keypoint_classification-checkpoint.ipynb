{
 "cells": [
  {
   "cell_type": "code",
   "execution_count": 7,
   "metadata": {
    "id": "igMyGnjE9hEp"
   },
   "outputs": [],
   "source": [
    "import csv\n",
    "\n",
    "import numpy as np\n",
    "import tensorflow as tf\n",
    "from sklearn.model_selection import train_test_split\n",
    "\n",
    "RANDOM_SEED = 42"
   ]
  },
  {
   "cell_type": "markdown",
   "metadata": {
    "id": "t2HDvhIu9hEr"
   },
   "source": [
    "# Specify each path"
   ]
  },
  {
   "cell_type": "code",
   "execution_count": 8,
   "metadata": {
    "id": "9NvZP2Zn9hEy"
   },
   "outputs": [],
   "source": [
    "dataset = 'model/keypoint.csv'\n",
    "model_save_path = 'model/keypoint_classifier.hdf5'\n",
    "tflite_save_path = 'model/keypoint_classifier.tflite'"
   ]
  },
  {
   "cell_type": "markdown",
   "metadata": {
    "id": "s5oMH7x19hEz"
   },
   "source": [
    "# Set number of classes"
   ]
  },
  {
   "cell_type": "code",
   "execution_count": 9,
   "metadata": {
    "id": "du4kodXL9hEz"
   },
   "outputs": [],
   "source": [
    "NUM_CLASSES = 8"
   ]
  },
  {
   "cell_type": "markdown",
   "metadata": {
    "id": "XjnL0uso9hEz"
   },
   "source": [
    "# Dataset reading"
   ]
  },
  {
   "cell_type": "code",
   "execution_count": 10,
   "metadata": {
    "id": "QT5ZqtEz9hE0"
   },
   "outputs": [],
   "source": [
    "X_dataset = np.loadtxt(dataset, delimiter=',', dtype='float32', usecols=list(range(1, (21 * 2) + 1)))"
   ]
  },
  {
   "cell_type": "code",
   "execution_count": 11,
   "metadata": {
    "id": "QmoKFsp49hE0"
   },
   "outputs": [
    {
     "ename": "ValueError",
     "evalue": "could not convert string to float: ''",
     "output_type": "error",
     "traceback": [
      "\u001b[1;31m---------------------------------------------------------------------------\u001b[0m",
      "\u001b[1;31mValueError\u001b[0m                                Traceback (most recent call last)",
      "\u001b[1;32m~\\AppData\\Local\\Temp/ipykernel_6512/3345009797.py\u001b[0m in \u001b[0;36m<module>\u001b[1;34m\u001b[0m\n\u001b[1;32m----> 1\u001b[1;33m \u001b[0my_dataset\u001b[0m \u001b[1;33m=\u001b[0m \u001b[0mnp\u001b[0m\u001b[1;33m.\u001b[0m\u001b[0mloadtxt\u001b[0m\u001b[1;33m(\u001b[0m\u001b[0mdataset\u001b[0m\u001b[1;33m,\u001b[0m \u001b[0mdelimiter\u001b[0m\u001b[1;33m=\u001b[0m\u001b[1;34m','\u001b[0m\u001b[1;33m,\u001b[0m \u001b[0mdtype\u001b[0m\u001b[1;33m=\u001b[0m\u001b[1;34m'int32'\u001b[0m\u001b[1;33m,\u001b[0m \u001b[0musecols\u001b[0m\u001b[1;33m=\u001b[0m\u001b[1;33m(\u001b[0m\u001b[1;36m0\u001b[0m\u001b[1;33m)\u001b[0m\u001b[1;33m)\u001b[0m\u001b[1;33m\u001b[0m\u001b[1;33m\u001b[0m\u001b[0m\n\u001b[0m",
      "\u001b[1;32mc:\\users\\asus\\appdata\\local\\programs\\python\\python39\\lib\\site-packages\\numpy\\lib\\npyio.py\u001b[0m in \u001b[0;36mloadtxt\u001b[1;34m(fname, dtype, comments, delimiter, converters, skiprows, usecols, unpack, ndmin, encoding, max_rows)\u001b[0m\n\u001b[0;32m   1137\u001b[0m         \u001b[1;31m# converting the data\u001b[0m\u001b[1;33m\u001b[0m\u001b[1;33m\u001b[0m\u001b[1;33m\u001b[0m\u001b[0m\n\u001b[0;32m   1138\u001b[0m         \u001b[0mX\u001b[0m \u001b[1;33m=\u001b[0m \u001b[1;32mNone\u001b[0m\u001b[1;33m\u001b[0m\u001b[1;33m\u001b[0m\u001b[0m\n\u001b[1;32m-> 1139\u001b[1;33m         \u001b[1;32mfor\u001b[0m \u001b[0mx\u001b[0m \u001b[1;32min\u001b[0m \u001b[0mread_data\u001b[0m\u001b[1;33m(\u001b[0m\u001b[0m_loadtxt_chunksize\u001b[0m\u001b[1;33m)\u001b[0m\u001b[1;33m:\u001b[0m\u001b[1;33m\u001b[0m\u001b[1;33m\u001b[0m\u001b[0m\n\u001b[0m\u001b[0;32m   1140\u001b[0m             \u001b[1;32mif\u001b[0m \u001b[0mX\u001b[0m \u001b[1;32mis\u001b[0m \u001b[1;32mNone\u001b[0m\u001b[1;33m:\u001b[0m\u001b[1;33m\u001b[0m\u001b[1;33m\u001b[0m\u001b[0m\n\u001b[0;32m   1141\u001b[0m                 \u001b[0mX\u001b[0m \u001b[1;33m=\u001b[0m \u001b[0mnp\u001b[0m\u001b[1;33m.\u001b[0m\u001b[0marray\u001b[0m\u001b[1;33m(\u001b[0m\u001b[0mx\u001b[0m\u001b[1;33m,\u001b[0m \u001b[0mdtype\u001b[0m\u001b[1;33m)\u001b[0m\u001b[1;33m\u001b[0m\u001b[1;33m\u001b[0m\u001b[0m\n",
      "\u001b[1;32mc:\\users\\asus\\appdata\\local\\programs\\python\\python39\\lib\\site-packages\\numpy\\lib\\npyio.py\u001b[0m in \u001b[0;36mread_data\u001b[1;34m(chunk_size)\u001b[0m\n\u001b[0;32m   1065\u001b[0m \u001b[1;33m\u001b[0m\u001b[0m\n\u001b[0;32m   1066\u001b[0m             \u001b[1;31m# Convert each value according to its column and store\u001b[0m\u001b[1;33m\u001b[0m\u001b[1;33m\u001b[0m\u001b[1;33m\u001b[0m\u001b[0m\n\u001b[1;32m-> 1067\u001b[1;33m             \u001b[0mitems\u001b[0m \u001b[1;33m=\u001b[0m \u001b[1;33m[\u001b[0m\u001b[0mconv\u001b[0m\u001b[1;33m(\u001b[0m\u001b[0mval\u001b[0m\u001b[1;33m)\u001b[0m \u001b[1;32mfor\u001b[0m \u001b[1;33m(\u001b[0m\u001b[0mconv\u001b[0m\u001b[1;33m,\u001b[0m \u001b[0mval\u001b[0m\u001b[1;33m)\u001b[0m \u001b[1;32min\u001b[0m \u001b[0mzip\u001b[0m\u001b[1;33m(\u001b[0m\u001b[0mconverters\u001b[0m\u001b[1;33m,\u001b[0m \u001b[0mvals\u001b[0m\u001b[1;33m)\u001b[0m\u001b[1;33m]\u001b[0m\u001b[1;33m\u001b[0m\u001b[1;33m\u001b[0m\u001b[0m\n\u001b[0m\u001b[0;32m   1068\u001b[0m \u001b[1;33m\u001b[0m\u001b[0m\n\u001b[0;32m   1069\u001b[0m             \u001b[1;31m# Then pack it according to the dtype's nesting\u001b[0m\u001b[1;33m\u001b[0m\u001b[1;33m\u001b[0m\u001b[1;33m\u001b[0m\u001b[0m\n",
      "\u001b[1;32mc:\\users\\asus\\appdata\\local\\programs\\python\\python39\\lib\\site-packages\\numpy\\lib\\npyio.py\u001b[0m in \u001b[0;36m<listcomp>\u001b[1;34m(.0)\u001b[0m\n\u001b[0;32m   1065\u001b[0m \u001b[1;33m\u001b[0m\u001b[0m\n\u001b[0;32m   1066\u001b[0m             \u001b[1;31m# Convert each value according to its column and store\u001b[0m\u001b[1;33m\u001b[0m\u001b[1;33m\u001b[0m\u001b[1;33m\u001b[0m\u001b[0m\n\u001b[1;32m-> 1067\u001b[1;33m             \u001b[0mitems\u001b[0m \u001b[1;33m=\u001b[0m \u001b[1;33m[\u001b[0m\u001b[0mconv\u001b[0m\u001b[1;33m(\u001b[0m\u001b[0mval\u001b[0m\u001b[1;33m)\u001b[0m \u001b[1;32mfor\u001b[0m \u001b[1;33m(\u001b[0m\u001b[0mconv\u001b[0m\u001b[1;33m,\u001b[0m \u001b[0mval\u001b[0m\u001b[1;33m)\u001b[0m \u001b[1;32min\u001b[0m \u001b[0mzip\u001b[0m\u001b[1;33m(\u001b[0m\u001b[0mconverters\u001b[0m\u001b[1;33m,\u001b[0m \u001b[0mvals\u001b[0m\u001b[1;33m)\u001b[0m\u001b[1;33m]\u001b[0m\u001b[1;33m\u001b[0m\u001b[1;33m\u001b[0m\u001b[0m\n\u001b[0m\u001b[0;32m   1068\u001b[0m \u001b[1;33m\u001b[0m\u001b[0m\n\u001b[0;32m   1069\u001b[0m             \u001b[1;31m# Then pack it according to the dtype's nesting\u001b[0m\u001b[1;33m\u001b[0m\u001b[1;33m\u001b[0m\u001b[1;33m\u001b[0m\u001b[0m\n",
      "\u001b[1;32mc:\\users\\asus\\appdata\\local\\programs\\python\\python39\\lib\\site-packages\\numpy\\lib\\npyio.py\u001b[0m in \u001b[0;36m<lambda>\u001b[1;34m(x)\u001b[0m\n\u001b[0;32m    771\u001b[0m         \u001b[1;32mreturn\u001b[0m \u001b[0mnp\u001b[0m\u001b[1;33m.\u001b[0m\u001b[0mint64\u001b[0m\u001b[1;33m\u001b[0m\u001b[1;33m\u001b[0m\u001b[0m\n\u001b[0;32m    772\u001b[0m     \u001b[1;32mif\u001b[0m \u001b[0missubclass\u001b[0m\u001b[1;33m(\u001b[0m\u001b[0mtyp\u001b[0m\u001b[1;33m,\u001b[0m \u001b[0mnp\u001b[0m\u001b[1;33m.\u001b[0m\u001b[0minteger\u001b[0m\u001b[1;33m)\u001b[0m\u001b[1;33m:\u001b[0m\u001b[1;33m\u001b[0m\u001b[1;33m\u001b[0m\u001b[0m\n\u001b[1;32m--> 773\u001b[1;33m         \u001b[1;32mreturn\u001b[0m \u001b[1;32mlambda\u001b[0m \u001b[0mx\u001b[0m\u001b[1;33m:\u001b[0m \u001b[0mint\u001b[0m\u001b[1;33m(\u001b[0m\u001b[0mfloat\u001b[0m\u001b[1;33m(\u001b[0m\u001b[0mx\u001b[0m\u001b[1;33m)\u001b[0m\u001b[1;33m)\u001b[0m\u001b[1;33m\u001b[0m\u001b[1;33m\u001b[0m\u001b[0m\n\u001b[0m\u001b[0;32m    774\u001b[0m     \u001b[1;32melif\u001b[0m \u001b[0missubclass\u001b[0m\u001b[1;33m(\u001b[0m\u001b[0mtyp\u001b[0m\u001b[1;33m,\u001b[0m \u001b[0mnp\u001b[0m\u001b[1;33m.\u001b[0m\u001b[0mlongdouble\u001b[0m\u001b[1;33m)\u001b[0m\u001b[1;33m:\u001b[0m\u001b[1;33m\u001b[0m\u001b[1;33m\u001b[0m\u001b[0m\n\u001b[0;32m    775\u001b[0m         \u001b[1;32mreturn\u001b[0m \u001b[0mnp\u001b[0m\u001b[1;33m.\u001b[0m\u001b[0mlongdouble\u001b[0m\u001b[1;33m\u001b[0m\u001b[1;33m\u001b[0m\u001b[0m\n",
      "\u001b[1;31mValueError\u001b[0m: could not convert string to float: ''"
     ]
    }
   ],
   "source": [
    "y_dataset = np.loadtxt(dataset, delimiter=',', dtype='int32', usecols=(0))"
   ]
  },
  {
   "cell_type": "code",
   "execution_count": null,
   "metadata": {
    "id": "xQU7JTZ_9hE0"
   },
   "outputs": [],
   "source": [
    "X_train, X_test, y_train, y_test = train_test_split(X_dataset, y_dataset, train_size=0.75, random_state=RANDOM_SEED)"
   ]
  },
  {
   "cell_type": "markdown",
   "metadata": {
    "id": "mxK_lETT9hE0"
   },
   "source": [
    "# Model building"
   ]
  },
  {
   "cell_type": "code",
   "execution_count": 8,
   "metadata": {
    "id": "vHBmUf1t9hE1"
   },
   "outputs": [],
   "source": [
    "model = tf.keras.models.Sequential([\n",
    "    tf.keras.layers.Input((21 * 2, )),\n",
    "    tf.keras.layers.Dropout(0.2),\n",
    "    tf.keras.layers.Dense(20, activation='relu'),\n",
    "    tf.keras.layers.Dropout(0.4),\n",
    "    tf.keras.layers.Dense(10, activation='relu'),\n",
    "    tf.keras.layers.Dense(NUM_CLASSES, activation='softmax')\n",
    "])"
   ]
  },
  {
   "cell_type": "code",
   "execution_count": 9,
   "metadata": {
    "colab": {
     "base_uri": "https://localhost:8080/"
    },
    "id": "ypqky9tc9hE1",
    "outputId": "5db082bb-30e3-4110-bf63-a1ee777ecd46"
   },
   "outputs": [
    {
     "name": "stdout",
     "output_type": "stream",
     "text": [
      "Model: \"sequential\"\n",
      "_________________________________________________________________\n",
      "Layer (type)                 Output Shape              Param #   \n",
      "=================================================================\n",
      "dropout (Dropout)            (None, 42)                0         \n",
      "_________________________________________________________________\n",
      "dense (Dense)                (None, 20)                860       \n",
      "_________________________________________________________________\n",
      "dropout_1 (Dropout)          (None, 20)                0         \n",
      "_________________________________________________________________\n",
      "dense_1 (Dense)              (None, 10)                210       \n",
      "_________________________________________________________________\n",
      "dense_2 (Dense)              (None, 5)                 55        \n",
      "=================================================================\n",
      "Total params: 1,125\n",
      "Trainable params: 1,125\n",
      "Non-trainable params: 0\n",
      "_________________________________________________________________\n"
     ]
    }
   ],
   "source": [
    "model.summary()  # tf.keras.utils.plot_model(model, show_shapes=True)"
   ]
  },
  {
   "cell_type": "code",
   "execution_count": 10,
   "metadata": {
    "id": "MbMjOflQ9hE1"
   },
   "outputs": [],
   "source": [
    "# Model checkpoint callback\n",
    "cp_callback = tf.keras.callbacks.ModelCheckpoint(\n",
    "    model_save_path, verbose=1, save_weights_only=False)\n",
    "# Callback for early stopping\n",
    "es_callback = tf.keras.callbacks.EarlyStopping(patience=20, verbose=1)"
   ]
  },
  {
   "cell_type": "code",
   "execution_count": 11,
   "metadata": {
    "id": "c3Dac0M_9hE2"
   },
   "outputs": [],
   "source": [
    "# Model compilation\n",
    "model.compile(\n",
    "    optimizer='adam',\n",
    "    loss='sparse_categorical_crossentropy',\n",
    "    metrics=['accuracy']\n",
    ")"
   ]
  },
  {
   "cell_type": "markdown",
   "metadata": {
    "id": "7XI0j1Iu9hE2"
   },
   "source": [
    "# Model training"
   ]
  },
  {
   "cell_type": "code",
   "execution_count": 12,
   "metadata": {
    "colab": {
     "base_uri": "https://localhost:8080/"
    },
    "id": "WirBl-JE9hE3",
    "outputId": "71b30ca2-8294-4d9d-8aa2-800d90d399de",
    "scrolled": true
   },
   "outputs": [
    {
     "name": "stdout",
     "output_type": "stream",
     "text": [
      "Epoch 1/1000\n",
      "17/17 [==============================] - 1s 11ms/step - loss: 1.5849 - accuracy: 0.2257 - val_loss: 1.4892 - val_accuracy: 0.4220\n",
      "\n",
      "Epoch 00001: saving model to model/keypoint_classifier\\keypoint_classifier.hdf5\n",
      "Epoch 2/1000\n",
      "17/17 [==============================] - 0s 3ms/step - loss: 1.5052 - accuracy: 0.2980 - val_loss: 1.4268 - val_accuracy: 0.4610\n",
      "\n",
      "Epoch 00002: saving model to model/keypoint_classifier\\keypoint_classifier.hdf5\n",
      "Epoch 3/1000\n",
      "17/17 [==============================] - 0s 3ms/step - loss: 1.4372 - accuracy: 0.3592 - val_loss: 1.3583 - val_accuracy: 0.4610\n",
      "\n",
      "Epoch 00003: saving model to model/keypoint_classifier\\keypoint_classifier.hdf5\n",
      "Epoch 4/1000\n",
      "17/17 [==============================] - 0s 4ms/step - loss: 1.3715 - accuracy: 0.4021 - val_loss: 1.2874 - val_accuracy: 0.4610\n",
      "\n",
      "Epoch 00004: saving model to model/keypoint_classifier\\keypoint_classifier.hdf5\n",
      "Epoch 5/1000\n",
      "17/17 [==============================] - 0s 4ms/step - loss: 1.3049 - accuracy: 0.4137 - val_loss: 1.2199 - val_accuracy: 0.4610\n",
      "\n",
      "Epoch 00005: saving model to model/keypoint_classifier\\keypoint_classifier.hdf5\n",
      "Epoch 6/1000\n",
      "17/17 [==============================] - 0s 3ms/step - loss: 1.2559 - accuracy: 0.4296 - val_loss: 1.1622 - val_accuracy: 0.4610\n",
      "\n",
      "Epoch 00006: saving model to model/keypoint_classifier\\keypoint_classifier.hdf5\n",
      "Epoch 7/1000\n",
      "17/17 [==============================] - 0s 3ms/step - loss: 1.1967 - accuracy: 0.4315 - val_loss: 1.1145 - val_accuracy: 0.4610\n",
      "\n",
      "Epoch 00007: saving model to model/keypoint_classifier\\keypoint_classifier.hdf5\n",
      "Epoch 8/1000\n",
      "17/17 [==============================] - 0s 3ms/step - loss: 1.1570 - accuracy: 0.4392 - val_loss: 1.0765 - val_accuracy: 0.4653\n",
      "\n",
      "Epoch 00008: saving model to model/keypoint_classifier\\keypoint_classifier.hdf5\n",
      "Epoch 9/1000\n",
      "17/17 [==============================] - 0s 3ms/step - loss: 1.1284 - accuracy: 0.4460 - val_loss: 1.0404 - val_accuracy: 0.4754\n",
      "\n",
      "Epoch 00009: saving model to model/keypoint_classifier\\keypoint_classifier.hdf5\n",
      "Epoch 10/1000\n",
      "17/17 [==============================] - 0s 3ms/step - loss: 1.0963 - accuracy: 0.4484 - val_loss: 1.0106 - val_accuracy: 0.4798\n",
      "\n",
      "Epoch 00010: saving model to model/keypoint_classifier\\keypoint_classifier.hdf5\n",
      "Epoch 11/1000\n",
      "17/17 [==============================] - 0s 3ms/step - loss: 1.0677 - accuracy: 0.4836 - val_loss: 0.9835 - val_accuracy: 0.4957\n",
      "\n",
      "Epoch 00011: saving model to model/keypoint_classifier\\keypoint_classifier.hdf5\n",
      "Epoch 12/1000\n",
      "17/17 [==============================] - 0s 4ms/step - loss: 1.0348 - accuracy: 0.5101 - val_loss: 0.9390 - val_accuracy: 0.5159\n",
      "\n",
      "Epoch 00012: saving model to model/keypoint_classifier\\keypoint_classifier.hdf5\n",
      "Epoch 13/1000\n",
      "17/17 [==============================] - 0s 4ms/step - loss: 1.0036 - accuracy: 0.5400 - val_loss: 0.8958 - val_accuracy: 0.6517\n",
      "\n",
      "Epoch 00013: saving model to model/keypoint_classifier\\keypoint_classifier.hdf5\n",
      "Epoch 14/1000\n",
      "17/17 [==============================] - 0s 5ms/step - loss: 0.9669 - accuracy: 0.5964 - val_loss: 0.8464 - val_accuracy: 0.7384\n",
      "\n",
      "Epoch 00014: saving model to model/keypoint_classifier\\keypoint_classifier.hdf5\n",
      "Epoch 15/1000\n",
      "17/17 [==============================] - 0s 8ms/step - loss: 0.9260 - accuracy: 0.6485 - val_loss: 0.8059 - val_accuracy: 0.7760\n",
      "\n",
      "Epoch 00015: saving model to model/keypoint_classifier\\keypoint_classifier.hdf5\n",
      "Epoch 16/1000\n",
      "17/17 [==============================] - 0s 4ms/step - loss: 0.8978 - accuracy: 0.6524 - val_loss: 0.7623 - val_accuracy: 0.8454\n",
      "\n",
      "Epoch 00016: saving model to model/keypoint_classifier\\keypoint_classifier.hdf5\n",
      "Epoch 17/1000\n",
      "17/17 [==============================] - 0s 5ms/step - loss: 0.8670 - accuracy: 0.6789 - val_loss: 0.6999 - val_accuracy: 0.9480\n",
      "\n",
      "Epoch 00017: saving model to model/keypoint_classifier\\keypoint_classifier.hdf5\n",
      "Epoch 18/1000\n",
      "17/17 [==============================] - 0s 4ms/step - loss: 0.8199 - accuracy: 0.7088 - val_loss: 0.6442 - val_accuracy: 0.9465\n",
      "\n",
      "Epoch 00018: saving model to model/keypoint_classifier\\keypoint_classifier.hdf5\n",
      "Epoch 19/1000\n",
      "17/17 [==============================] - 0s 5ms/step - loss: 0.7894 - accuracy: 0.6991 - val_loss: 0.5856 - val_accuracy: 0.9538\n",
      "\n",
      "Epoch 00019: saving model to model/keypoint_classifier\\keypoint_classifier.hdf5\n",
      "Epoch 20/1000\n",
      "17/17 [==============================] - 0s 6ms/step - loss: 0.7397 - accuracy: 0.7300 - val_loss: 0.5487 - val_accuracy: 0.9509\n",
      "\n",
      "Epoch 00020: saving model to model/keypoint_classifier\\keypoint_classifier.hdf5\n",
      "Epoch 21/1000\n",
      "17/17 [==============================] - 0s 5ms/step - loss: 0.7139 - accuracy: 0.7464 - val_loss: 0.4904 - val_accuracy: 0.9538\n",
      "\n",
      "Epoch 00021: saving model to model/keypoint_classifier\\keypoint_classifier.hdf5\n",
      "Epoch 22/1000\n",
      "17/17 [==============================] - 0s 5ms/step - loss: 0.6822 - accuracy: 0.7522 - val_loss: 0.4587 - val_accuracy: 0.9465\n",
      "\n",
      "Epoch 00022: saving model to model/keypoint_classifier\\keypoint_classifier.hdf5\n",
      "Epoch 23/1000\n",
      "17/17 [==============================] - 0s 11ms/step - loss: 0.6364 - accuracy: 0.7695 - val_loss: 0.4118 - val_accuracy: 0.9509\n",
      "\n",
      "Epoch 00023: saving model to model/keypoint_classifier\\keypoint_classifier.hdf5\n",
      "Epoch 24/1000\n",
      "17/17 [==============================] - 0s 11ms/step - loss: 0.6194 - accuracy: 0.7690 - val_loss: 0.3948 - val_accuracy: 0.9451\n",
      "\n",
      "Epoch 00024: saving model to model/keypoint_classifier\\keypoint_classifier.hdf5\n",
      "Epoch 25/1000\n",
      "17/17 [==============================] - 0s 6ms/step - loss: 0.6162 - accuracy: 0.7662 - val_loss: 0.3631 - val_accuracy: 0.9480\n",
      "\n",
      "Epoch 00025: saving model to model/keypoint_classifier\\keypoint_classifier.hdf5\n",
      "Epoch 26/1000\n",
      "17/17 [==============================] - 0s 4ms/step - loss: 0.5726 - accuracy: 0.7932 - val_loss: 0.3446 - val_accuracy: 0.9494\n",
      "\n",
      "Epoch 00026: saving model to model/keypoint_classifier\\keypoint_classifier.hdf5\n",
      "Epoch 27/1000\n",
      "17/17 [==============================] - 0s 14ms/step - loss: 0.5721 - accuracy: 0.7845 - val_loss: 0.3254 - val_accuracy: 0.9538\n",
      "\n",
      "Epoch 00027: saving model to model/keypoint_classifier\\keypoint_classifier.hdf5\n",
      "Epoch 28/1000\n",
      "17/17 [==============================] - 0s 8ms/step - loss: 0.5269 - accuracy: 0.8163 - val_loss: 0.3199 - val_accuracy: 0.9465\n",
      "\n",
      "Epoch 00028: saving model to model/keypoint_classifier\\keypoint_classifier.hdf5\n",
      "Epoch 29/1000\n",
      "17/17 [==============================] - 0s 11ms/step - loss: 0.5435 - accuracy: 0.7985 - val_loss: 0.2839 - val_accuracy: 0.9523\n",
      "\n",
      "Epoch 00029: saving model to model/keypoint_classifier\\keypoint_classifier.hdf5\n",
      "Epoch 30/1000\n",
      "17/17 [==============================] - 0s 7ms/step - loss: 0.5360 - accuracy: 0.8057 - val_loss: 0.2782 - val_accuracy: 0.9538\n",
      "\n",
      "Epoch 00030: saving model to model/keypoint_classifier\\keypoint_classifier.hdf5\n",
      "Epoch 31/1000\n",
      "17/17 [==============================] - 0s 4ms/step - loss: 0.5121 - accuracy: 0.8115 - val_loss: 0.2743 - val_accuracy: 0.9552\n",
      "\n",
      "Epoch 00031: saving model to model/keypoint_classifier\\keypoint_classifier.hdf5\n",
      "Epoch 32/1000\n",
      "17/17 [==============================] - 0s 4ms/step - loss: 0.5108 - accuracy: 0.8095 - val_loss: 0.2598 - val_accuracy: 0.9538\n",
      "\n",
      "Epoch 00032: saving model to model/keypoint_classifier\\keypoint_classifier.hdf5\n",
      "Epoch 33/1000\n",
      "17/17 [==============================] - 0s 5ms/step - loss: 0.5092 - accuracy: 0.8192 - val_loss: 0.2478 - val_accuracy: 0.9566\n",
      "\n",
      "Epoch 00033: saving model to model/keypoint_classifier\\keypoint_classifier.hdf5\n",
      "Epoch 34/1000\n",
      "17/17 [==============================] - 0s 10ms/step - loss: 0.4671 - accuracy: 0.8365 - val_loss: 0.2377 - val_accuracy: 0.9581\n",
      "\n",
      "Epoch 00034: saving model to model/keypoint_classifier\\keypoint_classifier.hdf5\n",
      "Epoch 35/1000\n",
      "17/17 [==============================] - 0s 5ms/step - loss: 0.4597 - accuracy: 0.8385 - val_loss: 0.2270 - val_accuracy: 0.9581\n",
      "\n",
      "Epoch 00035: saving model to model/keypoint_classifier\\keypoint_classifier.hdf5\n",
      "Epoch 36/1000\n",
      "17/17 [==============================] - 0s 4ms/step - loss: 0.4682 - accuracy: 0.8317 - val_loss: 0.2234 - val_accuracy: 0.9581\n",
      "\n",
      "Epoch 00036: saving model to model/keypoint_classifier\\keypoint_classifier.hdf5\n",
      "Epoch 37/1000\n",
      "17/17 [==============================] - 0s 4ms/step - loss: 0.4429 - accuracy: 0.8293 - val_loss: 0.2145 - val_accuracy: 0.9581\n"
     ]
    },
    {
     "name": "stdout",
     "output_type": "stream",
     "text": [
      "\n",
      "Epoch 00037: saving model to model/keypoint_classifier\\keypoint_classifier.hdf5\n",
      "Epoch 38/1000\n",
      "17/17 [==============================] - 0s 4ms/step - loss: 0.4448 - accuracy: 0.8491 - val_loss: 0.2032 - val_accuracy: 0.9610\n",
      "\n",
      "Epoch 00038: saving model to model/keypoint_classifier\\keypoint_classifier.hdf5\n",
      "Epoch 39/1000\n",
      "17/17 [==============================] - 0s 4ms/step - loss: 0.4364 - accuracy: 0.8428 - val_loss: 0.1946 - val_accuracy: 0.9624\n",
      "\n",
      "Epoch 00039: saving model to model/keypoint_classifier\\keypoint_classifier.hdf5\n",
      "Epoch 40/1000\n",
      "17/17 [==============================] - 0s 4ms/step - loss: 0.4483 - accuracy: 0.8361 - val_loss: 0.1936 - val_accuracy: 0.9624\n",
      "\n",
      "Epoch 00040: saving model to model/keypoint_classifier\\keypoint_classifier.hdf5\n",
      "Epoch 41/1000\n",
      "17/17 [==============================] - 0s 8ms/step - loss: 0.4258 - accuracy: 0.8476 - val_loss: 0.1874 - val_accuracy: 0.9624\n",
      "\n",
      "Epoch 00041: saving model to model/keypoint_classifier\\keypoint_classifier.hdf5\n",
      "Epoch 42/1000\n",
      "17/17 [==============================] - 0s 5ms/step - loss: 0.4198 - accuracy: 0.8582 - val_loss: 0.1825 - val_accuracy: 0.9653\n",
      "\n",
      "Epoch 00042: saving model to model/keypoint_classifier\\keypoint_classifier.hdf5\n",
      "Epoch 43/1000\n",
      "17/17 [==============================] - 0s 4ms/step - loss: 0.4042 - accuracy: 0.8443 - val_loss: 0.1754 - val_accuracy: 0.9682\n",
      "\n",
      "Epoch 00043: saving model to model/keypoint_classifier\\keypoint_classifier.hdf5\n",
      "Epoch 44/1000\n",
      "17/17 [==============================] - 0s 7ms/step - loss: 0.4183 - accuracy: 0.8558 - val_loss: 0.1707 - val_accuracy: 0.9639\n",
      "\n",
      "Epoch 00044: saving model to model/keypoint_classifier\\keypoint_classifier.hdf5\n",
      "Epoch 45/1000\n",
      "17/17 [==============================] - 0s 4ms/step - loss: 0.3976 - accuracy: 0.8626 - val_loss: 0.1630 - val_accuracy: 0.9653\n",
      "\n",
      "Epoch 00045: saving model to model/keypoint_classifier\\keypoint_classifier.hdf5\n",
      "Epoch 46/1000\n",
      "17/17 [==============================] - 0s 5ms/step - loss: 0.3924 - accuracy: 0.8689 - val_loss: 0.1628 - val_accuracy: 0.9682\n",
      "\n",
      "Epoch 00046: saving model to model/keypoint_classifier\\keypoint_classifier.hdf5\n",
      "Epoch 47/1000\n",
      "17/17 [==============================] - 0s 4ms/step - loss: 0.4063 - accuracy: 0.8650 - val_loss: 0.1594 - val_accuracy: 0.9682\n",
      "\n",
      "Epoch 00047: saving model to model/keypoint_classifier\\keypoint_classifier.hdf5\n",
      "Epoch 48/1000\n",
      "17/17 [==============================] - 0s 4ms/step - loss: 0.4004 - accuracy: 0.8578 - val_loss: 0.1570 - val_accuracy: 0.9711\n",
      "\n",
      "Epoch 00048: saving model to model/keypoint_classifier\\keypoint_classifier.hdf5\n",
      "Epoch 49/1000\n",
      "17/17 [==============================] - 0s 5ms/step - loss: 0.3674 - accuracy: 0.8737 - val_loss: 0.1519 - val_accuracy: 0.9711\n",
      "\n",
      "Epoch 00049: saving model to model/keypoint_classifier\\keypoint_classifier.hdf5\n",
      "Epoch 50/1000\n",
      "17/17 [==============================] - 0s 4ms/step - loss: 0.3706 - accuracy: 0.8732 - val_loss: 0.1443 - val_accuracy: 0.9754\n",
      "\n",
      "Epoch 00050: saving model to model/keypoint_classifier\\keypoint_classifier.hdf5\n",
      "Epoch 51/1000\n",
      "17/17 [==============================] - 0s 6ms/step - loss: 0.3706 - accuracy: 0.8809 - val_loss: 0.1403 - val_accuracy: 0.9783\n",
      "\n",
      "Epoch 00051: saving model to model/keypoint_classifier\\keypoint_classifier.hdf5\n",
      "Epoch 52/1000\n",
      "17/17 [==============================] - 0s 10ms/step - loss: 0.3804 - accuracy: 0.8655 - val_loss: 0.1369 - val_accuracy: 0.9769\n",
      "\n",
      "Epoch 00052: saving model to model/keypoint_classifier\\keypoint_classifier.hdf5\n",
      "Epoch 53/1000\n",
      "17/17 [==============================] - ETA: 0s - loss: 0.2858 - accuracy: 0.91 - 0s 5ms/step - loss: 0.3558 - accuracy: 0.8756 - val_loss: 0.1345 - val_accuracy: 0.9798\n",
      "\n",
      "Epoch 00053: saving model to model/keypoint_classifier\\keypoint_classifier.hdf5\n",
      "Epoch 54/1000\n",
      "17/17 [==============================] - 0s 5ms/step - loss: 0.3626 - accuracy: 0.8770 - val_loss: 0.1294 - val_accuracy: 0.9754\n",
      "\n",
      "Epoch 00054: saving model to model/keypoint_classifier\\keypoint_classifier.hdf5\n",
      "Epoch 55/1000\n",
      "17/17 [==============================] - 0s 4ms/step - loss: 0.3597 - accuracy: 0.8761 - val_loss: 0.1335 - val_accuracy: 0.9769\n",
      "\n",
      "Epoch 00055: saving model to model/keypoint_classifier\\keypoint_classifier.hdf5\n",
      "Epoch 56/1000\n",
      "17/17 [==============================] - 0s 6ms/step - loss: 0.3799 - accuracy: 0.8650 - val_loss: 0.1263 - val_accuracy: 0.9812\n",
      "\n",
      "Epoch 00056: saving model to model/keypoint_classifier\\keypoint_classifier.hdf5\n",
      "Epoch 57/1000\n",
      "17/17 [==============================] - 0s 5ms/step - loss: 0.3396 - accuracy: 0.8857 - val_loss: 0.1230 - val_accuracy: 0.9812\n",
      "\n",
      "Epoch 00057: saving model to model/keypoint_classifier\\keypoint_classifier.hdf5\n",
      "Epoch 58/1000\n",
      "17/17 [==============================] - 0s 4ms/step - loss: 0.3255 - accuracy: 0.8877 - val_loss: 0.1179 - val_accuracy: 0.9855\n",
      "\n",
      "Epoch 00058: saving model to model/keypoint_classifier\\keypoint_classifier.hdf5\n",
      "Epoch 59/1000\n",
      "17/17 [==============================] - 0s 4ms/step - loss: 0.3361 - accuracy: 0.8862 - val_loss: 0.1128 - val_accuracy: 0.9884\n",
      "\n",
      "Epoch 00059: saving model to model/keypoint_classifier\\keypoint_classifier.hdf5\n",
      "Epoch 60/1000\n",
      "17/17 [==============================] - 0s 4ms/step - loss: 0.3280 - accuracy: 0.8934 - val_loss: 0.1161 - val_accuracy: 0.9884\n",
      "\n",
      "Epoch 00060: saving model to model/keypoint_classifier\\keypoint_classifier.hdf5\n",
      "Epoch 61/1000\n",
      "17/17 [==============================] - 0s 9ms/step - loss: 0.3210 - accuracy: 0.8819 - val_loss: 0.1138 - val_accuracy: 0.9841\n",
      "\n",
      "Epoch 00061: saving model to model/keypoint_classifier\\keypoint_classifier.hdf5\n",
      "Epoch 62/1000\n",
      "17/17 [==============================] - 0s 4ms/step - loss: 0.3658 - accuracy: 0.8655 - val_loss: 0.1114 - val_accuracy: 0.9884\n",
      "\n",
      "Epoch 00062: saving model to model/keypoint_classifier\\keypoint_classifier.hdf5\n",
      "Epoch 63/1000\n",
      "17/17 [==============================] - 0s 4ms/step - loss: 0.3386 - accuracy: 0.8852 - val_loss: 0.1078 - val_accuracy: 0.9884\n",
      "\n",
      "Epoch 00063: saving model to model/keypoint_classifier\\keypoint_classifier.hdf5\n",
      "Epoch 64/1000\n",
      "17/17 [==============================] - 0s 4ms/step - loss: 0.3272 - accuracy: 0.8920 - val_loss: 0.1069 - val_accuracy: 0.9841\n",
      "\n",
      "Epoch 00064: saving model to model/keypoint_classifier\\keypoint_classifier.hdf5\n",
      "Epoch 65/1000\n",
      "17/17 [==============================] - 0s 4ms/step - loss: 0.3152 - accuracy: 0.8930 - val_loss: 0.1011 - val_accuracy: 0.9899\n",
      "\n",
      "Epoch 00065: saving model to model/keypoint_classifier\\keypoint_classifier.hdf5\n",
      "Epoch 66/1000\n",
      "17/17 [==============================] - 0s 4ms/step - loss: 0.3080 - accuracy: 0.9026 - val_loss: 0.1088 - val_accuracy: 0.9870\n",
      "\n",
      "Epoch 00066: saving model to model/keypoint_classifier\\keypoint_classifier.hdf5\n",
      "Epoch 67/1000\n",
      "17/17 [==============================] - 0s 4ms/step - loss: 0.2942 - accuracy: 0.8997 - val_loss: 0.0962 - val_accuracy: 0.9899\n",
      "\n",
      "Epoch 00067: saving model to model/keypoint_classifier\\keypoint_classifier.hdf5\n",
      "Epoch 68/1000\n",
      "17/17 [==============================] - 0s 4ms/step - loss: 0.3144 - accuracy: 0.8954 - val_loss: 0.0948 - val_accuracy: 0.9899\n",
      "\n",
      "Epoch 00068: saving model to model/keypoint_classifier\\keypoint_classifier.hdf5\n",
      "Epoch 69/1000\n",
      "17/17 [==============================] - 0s 5ms/step - loss: 0.3076 - accuracy: 0.8910 - val_loss: 0.0887 - val_accuracy: 0.9899\n",
      "\n",
      "Epoch 00069: saving model to model/keypoint_classifier\\keypoint_classifier.hdf5\n",
      "Epoch 70/1000\n",
      "17/17 [==============================] - 0s 4ms/step - loss: 0.3200 - accuracy: 0.8934 - val_loss: 0.0841 - val_accuracy: 0.9913\n",
      "\n",
      "Epoch 00070: saving model to model/keypoint_classifier\\keypoint_classifier.hdf5\n",
      "Epoch 71/1000\n",
      "17/17 [==============================] - 0s 4ms/step - loss: 0.2915 - accuracy: 0.8959 - val_loss: 0.0815 - val_accuracy: 0.9928\n",
      "\n",
      "Epoch 00071: saving model to model/keypoint_classifier\\keypoint_classifier.hdf5\n",
      "Epoch 72/1000\n",
      "17/17 [==============================] - 0s 5ms/step - loss: 0.3169 - accuracy: 0.8828 - val_loss: 0.0837 - val_accuracy: 0.9913\n",
      "\n",
      "Epoch 00072: saving model to model/keypoint_classifier\\keypoint_classifier.hdf5\n",
      "Epoch 73/1000\n",
      "17/17 [==============================] - 0s 4ms/step - loss: 0.3104 - accuracy: 0.8896 - val_loss: 0.0877 - val_accuracy: 0.9913\n",
      "\n",
      "Epoch 00073: saving model to model/keypoint_classifier\\keypoint_classifier.hdf5\n",
      "Epoch 74/1000\n"
     ]
    },
    {
     "name": "stdout",
     "output_type": "stream",
     "text": [
      "17/17 [==============================] - 0s 6ms/step - loss: 0.2785 - accuracy: 0.9132 - val_loss: 0.0814 - val_accuracy: 0.9928\n",
      "\n",
      "Epoch 00074: saving model to model/keypoint_classifier\\keypoint_classifier.hdf5\n",
      "Epoch 75/1000\n",
      "17/17 [==============================] - 0s 5ms/step - loss: 0.2839 - accuracy: 0.9031 - val_loss: 0.0738 - val_accuracy: 0.9928\n",
      "\n",
      "Epoch 00075: saving model to model/keypoint_classifier\\keypoint_classifier.hdf5\n",
      "Epoch 76/1000\n",
      "17/17 [==============================] - 0s 5ms/step - loss: 0.2787 - accuracy: 0.9050 - val_loss: 0.0746 - val_accuracy: 0.9913\n",
      "\n",
      "Epoch 00076: saving model to model/keypoint_classifier\\keypoint_classifier.hdf5\n",
      "Epoch 77/1000\n",
      "17/17 [==============================] - 0s 4ms/step - loss: 0.2787 - accuracy: 0.9045 - val_loss: 0.0769 - val_accuracy: 0.9913\n",
      "\n",
      "Epoch 00077: saving model to model/keypoint_classifier\\keypoint_classifier.hdf5\n",
      "Epoch 78/1000\n",
      "17/17 [==============================] - 0s 5ms/step - loss: 0.3038 - accuracy: 0.8959 - val_loss: 0.0771 - val_accuracy: 0.9942\n",
      "\n",
      "Epoch 00078: saving model to model/keypoint_classifier\\keypoint_classifier.hdf5\n",
      "Epoch 79/1000\n",
      "17/17 [==============================] - 0s 4ms/step - loss: 0.2971 - accuracy: 0.8915 - val_loss: 0.0739 - val_accuracy: 0.9913\n",
      "\n",
      "Epoch 00079: saving model to model/keypoint_classifier\\keypoint_classifier.hdf5\n",
      "Epoch 80/1000\n",
      "17/17 [==============================] - 0s 4ms/step - loss: 0.2876 - accuracy: 0.9050 - val_loss: 0.0755 - val_accuracy: 0.9942\n",
      "\n",
      "Epoch 00080: saving model to model/keypoint_classifier\\keypoint_classifier.hdf5\n",
      "Epoch 81/1000\n",
      "17/17 [==============================] - 0s 4ms/step - loss: 0.2935 - accuracy: 0.8939 - val_loss: 0.0753 - val_accuracy: 0.9913\n",
      "\n",
      "Epoch 00081: saving model to model/keypoint_classifier\\keypoint_classifier.hdf5\n",
      "Epoch 82/1000\n",
      "17/17 [==============================] - 0s 5ms/step - loss: 0.3037 - accuracy: 0.8910 - val_loss: 0.0789 - val_accuracy: 0.9928\n",
      "\n",
      "Epoch 00082: saving model to model/keypoint_classifier\\keypoint_classifier.hdf5\n",
      "Epoch 83/1000\n",
      "17/17 [==============================] - 0s 4ms/step - loss: 0.2743 - accuracy: 0.9084 - val_loss: 0.0763 - val_accuracy: 0.9913\n",
      "\n",
      "Epoch 00083: saving model to model/keypoint_classifier\\keypoint_classifier.hdf5\n",
      "Epoch 84/1000\n",
      "17/17 [==============================] - 0s 5ms/step - loss: 0.2636 - accuracy: 0.9137 - val_loss: 0.0792 - val_accuracy: 0.9913\n",
      "\n",
      "Epoch 00084: saving model to model/keypoint_classifier\\keypoint_classifier.hdf5\n",
      "Epoch 85/1000\n",
      "17/17 [==============================] - 0s 4ms/step - loss: 0.2557 - accuracy: 0.9118 - val_loss: 0.0727 - val_accuracy: 0.9928\n",
      "\n",
      "Epoch 00085: saving model to model/keypoint_classifier\\keypoint_classifier.hdf5\n",
      "Epoch 86/1000\n",
      "17/17 [==============================] - 0s 4ms/step - loss: 0.2883 - accuracy: 0.8987 - val_loss: 0.0764 - val_accuracy: 0.9942\n",
      "\n",
      "Epoch 00086: saving model to model/keypoint_classifier\\keypoint_classifier.hdf5\n",
      "Epoch 87/1000\n",
      "17/17 [==============================] - 0s 5ms/step - loss: 0.2685 - accuracy: 0.9161 - val_loss: 0.0785 - val_accuracy: 0.9913\n",
      "\n",
      "Epoch 00087: saving model to model/keypoint_classifier\\keypoint_classifier.hdf5\n",
      "Epoch 88/1000\n",
      "17/17 [==============================] - 0s 5ms/step - loss: 0.2672 - accuracy: 0.9069 - val_loss: 0.0763 - val_accuracy: 0.9913\n",
      "\n",
      "Epoch 00088: saving model to model/keypoint_classifier\\keypoint_classifier.hdf5\n",
      "Epoch 89/1000\n",
      "17/17 [==============================] - 0s 4ms/step - loss: 0.2950 - accuracy: 0.8992 - val_loss: 0.0816 - val_accuracy: 0.9913\n",
      "\n",
      "Epoch 00089: saving model to model/keypoint_classifier\\keypoint_classifier.hdf5\n",
      "Epoch 90/1000\n",
      "17/17 [==============================] - 0s 4ms/step - loss: 0.2629 - accuracy: 0.9094 - val_loss: 0.0717 - val_accuracy: 0.9928\n",
      "\n",
      "Epoch 00090: saving model to model/keypoint_classifier\\keypoint_classifier.hdf5\n",
      "Epoch 91/1000\n",
      "17/17 [==============================] - 0s 6ms/step - loss: 0.2745 - accuracy: 0.9055 - val_loss: 0.0713 - val_accuracy: 0.9942\n",
      "\n",
      "Epoch 00091: saving model to model/keypoint_classifier\\keypoint_classifier.hdf5\n",
      "Epoch 92/1000\n",
      "17/17 [==============================] - 0s 5ms/step - loss: 0.2560 - accuracy: 0.9089 - val_loss: 0.0697 - val_accuracy: 0.9928\n",
      "\n",
      "Epoch 00092: saving model to model/keypoint_classifier\\keypoint_classifier.hdf5\n",
      "Epoch 93/1000\n",
      "17/17 [==============================] - 0s 5ms/step - loss: 0.2672 - accuracy: 0.9016 - val_loss: 0.0720 - val_accuracy: 0.9913\n",
      "\n",
      "Epoch 00093: saving model to model/keypoint_classifier\\keypoint_classifier.hdf5\n",
      "Epoch 94/1000\n",
      "17/17 [==============================] - 0s 5ms/step - loss: 0.2537 - accuracy: 0.9151 - val_loss: 0.0622 - val_accuracy: 0.9942\n",
      "\n",
      "Epoch 00094: saving model to model/keypoint_classifier\\keypoint_classifier.hdf5\n",
      "Epoch 95/1000\n",
      "17/17 [==============================] - 0s 6ms/step - loss: 0.2617 - accuracy: 0.9084 - val_loss: 0.0627 - val_accuracy: 0.9928\n",
      "\n",
      "Epoch 00095: saving model to model/keypoint_classifier\\keypoint_classifier.hdf5\n",
      "Epoch 96/1000\n",
      "17/17 [==============================] - 0s 5ms/step - loss: 0.2498 - accuracy: 0.9171 - val_loss: 0.0665 - val_accuracy: 0.9928\n",
      "\n",
      "Epoch 00096: saving model to model/keypoint_classifier\\keypoint_classifier.hdf5\n",
      "Epoch 97/1000\n",
      "17/17 [==============================] - 0s 6ms/step - loss: 0.2538 - accuracy: 0.9147 - val_loss: 0.0681 - val_accuracy: 0.9942\n",
      "\n",
      "Epoch 00097: saving model to model/keypoint_classifier\\keypoint_classifier.hdf5\n",
      "Epoch 98/1000\n",
      "17/17 [==============================] - 0s 8ms/step - loss: 0.2691 - accuracy: 0.9079 - val_loss: 0.0712 - val_accuracy: 0.9942\n",
      "\n",
      "Epoch 00098: saving model to model/keypoint_classifier\\keypoint_classifier.hdf5\n",
      "Epoch 99/1000\n",
      "17/17 [==============================] - 0s 6ms/step - loss: 0.2553 - accuracy: 0.9219 - val_loss: 0.0591 - val_accuracy: 0.9942\n",
      "\n",
      "Epoch 00099: saving model to model/keypoint_classifier\\keypoint_classifier.hdf5\n",
      "Epoch 100/1000\n",
      "17/17 [==============================] - 0s 7ms/step - loss: 0.2614 - accuracy: 0.9079 - val_loss: 0.0655 - val_accuracy: 0.9942\n",
      "\n",
      "Epoch 00100: saving model to model/keypoint_classifier\\keypoint_classifier.hdf5\n",
      "Epoch 101/1000\n",
      "17/17 [==============================] - 0s 5ms/step - loss: 0.2535 - accuracy: 0.9084 - val_loss: 0.0613 - val_accuracy: 0.9942\n",
      "\n",
      "Epoch 00101: saving model to model/keypoint_classifier\\keypoint_classifier.hdf5\n",
      "Epoch 102/1000\n",
      "17/17 [==============================] - 0s 8ms/step - loss: 0.2605 - accuracy: 0.9084 - val_loss: 0.0649 - val_accuracy: 0.9942\n",
      "\n",
      "Epoch 00102: saving model to model/keypoint_classifier\\keypoint_classifier.hdf5\n",
      "Epoch 103/1000\n",
      "17/17 [==============================] - 0s 7ms/step - loss: 0.2385 - accuracy: 0.9142 - val_loss: 0.0628 - val_accuracy: 0.9942\n",
      "\n",
      "Epoch 00103: saving model to model/keypoint_classifier\\keypoint_classifier.hdf5\n",
      "Epoch 104/1000\n",
      "17/17 [==============================] - 0s 10ms/step - loss: 0.2307 - accuracy: 0.9209 - val_loss: 0.0657 - val_accuracy: 0.9942\n",
      "\n",
      "Epoch 00104: saving model to model/keypoint_classifier\\keypoint_classifier.hdf5\n",
      "Epoch 105/1000\n",
      "17/17 [==============================] - 0s 5ms/step - loss: 0.2581 - accuracy: 0.9118 - val_loss: 0.0638 - val_accuracy: 0.9942\n",
      "\n",
      "Epoch 00105: saving model to model/keypoint_classifier\\keypoint_classifier.hdf5\n",
      "Epoch 106/1000\n",
      "17/17 [==============================] - 0s 7ms/step - loss: 0.2484 - accuracy: 0.9147 - val_loss: 0.0604 - val_accuracy: 0.9942\n",
      "\n",
      "Epoch 00106: saving model to model/keypoint_classifier\\keypoint_classifier.hdf5\n",
      "Epoch 107/1000\n",
      "17/17 [==============================] - 0s 6ms/step - loss: 0.2688 - accuracy: 0.9016 - val_loss: 0.0668 - val_accuracy: 0.9942\n",
      "\n",
      "Epoch 00107: saving model to model/keypoint_classifier\\keypoint_classifier.hdf5\n",
      "Epoch 108/1000\n",
      "17/17 [==============================] - 0s 5ms/step - loss: 0.2407 - accuracy: 0.9176 - val_loss: 0.0639 - val_accuracy: 0.9913\n",
      "\n",
      "Epoch 00108: saving model to model/keypoint_classifier\\keypoint_classifier.hdf5\n",
      "Epoch 109/1000\n",
      "17/17 [==============================] - 0s 5ms/step - loss: 0.2428 - accuracy: 0.9122 - val_loss: 0.0682 - val_accuracy: 0.9942\n",
      "\n",
      "Epoch 00109: saving model to model/keypoint_classifier\\keypoint_classifier.hdf5\n",
      "Epoch 110/1000\n",
      "17/17 [==============================] - 0s 5ms/step - loss: 0.2357 - accuracy: 0.9200 - val_loss: 0.0591 - val_accuracy: 0.9957\n"
     ]
    },
    {
     "name": "stdout",
     "output_type": "stream",
     "text": [
      "\n",
      "Epoch 00110: saving model to model/keypoint_classifier\\keypoint_classifier.hdf5\n",
      "Epoch 111/1000\n",
      "17/17 [==============================] - 0s 5ms/step - loss: 0.2266 - accuracy: 0.9229 - val_loss: 0.0552 - val_accuracy: 0.9957\n",
      "\n",
      "Epoch 00111: saving model to model/keypoint_classifier\\keypoint_classifier.hdf5\n",
      "Epoch 112/1000\n",
      "17/17 [==============================] - 0s 6ms/step - loss: 0.2468 - accuracy: 0.9127 - val_loss: 0.0600 - val_accuracy: 0.9942\n",
      "\n",
      "Epoch 00112: saving model to model/keypoint_classifier\\keypoint_classifier.hdf5\n",
      "Epoch 113/1000\n",
      "17/17 [==============================] - 0s 5ms/step - loss: 0.2262 - accuracy: 0.9229 - val_loss: 0.0592 - val_accuracy: 0.9942\n",
      "\n",
      "Epoch 00113: saving model to model/keypoint_classifier\\keypoint_classifier.hdf5\n",
      "Epoch 114/1000\n",
      "17/17 [==============================] - 0s 5ms/step - loss: 0.2455 - accuracy: 0.9200 - val_loss: 0.0635 - val_accuracy: 0.9942\n",
      "\n",
      "Epoch 00114: saving model to model/keypoint_classifier\\keypoint_classifier.hdf5\n",
      "Epoch 115/1000\n",
      "17/17 [==============================] - 0s 7ms/step - loss: 0.2259 - accuracy: 0.9243 - val_loss: 0.0581 - val_accuracy: 0.9942\n",
      "\n",
      "Epoch 00115: saving model to model/keypoint_classifier\\keypoint_classifier.hdf5\n",
      "Epoch 116/1000\n",
      "17/17 [==============================] - 0s 4ms/step - loss: 0.2255 - accuracy: 0.9214 - val_loss: 0.0539 - val_accuracy: 0.9957\n",
      "\n",
      "Epoch 00116: saving model to model/keypoint_classifier\\keypoint_classifier.hdf5\n",
      "Epoch 117/1000\n",
      "17/17 [==============================] - 0s 4ms/step - loss: 0.2416 - accuracy: 0.9166 - val_loss: 0.0577 - val_accuracy: 0.9942\n",
      "\n",
      "Epoch 00117: saving model to model/keypoint_classifier\\keypoint_classifier.hdf5\n",
      "Epoch 118/1000\n",
      "17/17 [==============================] - 0s 5ms/step - loss: 0.2233 - accuracy: 0.9248 - val_loss: 0.0572 - val_accuracy: 0.9942\n",
      "\n",
      "Epoch 00118: saving model to model/keypoint_classifier\\keypoint_classifier.hdf5\n",
      "Epoch 119/1000\n",
      "17/17 [==============================] - 0s 6ms/step - loss: 0.2301 - accuracy: 0.9171 - val_loss: 0.0573 - val_accuracy: 0.9942\n",
      "\n",
      "Epoch 00119: saving model to model/keypoint_classifier\\keypoint_classifier.hdf5\n",
      "Epoch 120/1000\n",
      "17/17 [==============================] - 0s 5ms/step - loss: 0.2205 - accuracy: 0.9243 - val_loss: 0.0553 - val_accuracy: 0.9942\n",
      "\n",
      "Epoch 00120: saving model to model/keypoint_classifier\\keypoint_classifier.hdf5\n",
      "Epoch 121/1000\n",
      "17/17 [==============================] - 0s 5ms/step - loss: 0.2189 - accuracy: 0.9214 - val_loss: 0.0503 - val_accuracy: 0.9957\n",
      "\n",
      "Epoch 00121: saving model to model/keypoint_classifier\\keypoint_classifier.hdf5\n",
      "Epoch 122/1000\n",
      "17/17 [==============================] - 0s 5ms/step - loss: 0.2280 - accuracy: 0.9257 - val_loss: 0.0512 - val_accuracy: 0.9957\n",
      "\n",
      "Epoch 00122: saving model to model/keypoint_classifier\\keypoint_classifier.hdf5\n",
      "Epoch 123/1000\n",
      "17/17 [==============================] - 0s 5ms/step - loss: 0.2277 - accuracy: 0.9233 - val_loss: 0.0581 - val_accuracy: 0.9942\n",
      "\n",
      "Epoch 00123: saving model to model/keypoint_classifier\\keypoint_classifier.hdf5\n",
      "Epoch 124/1000\n",
      "17/17 [==============================] - 0s 4ms/step - loss: 0.2208 - accuracy: 0.9224 - val_loss: 0.0605 - val_accuracy: 0.9942\n",
      "\n",
      "Epoch 00124: saving model to model/keypoint_classifier\\keypoint_classifier.hdf5\n",
      "Epoch 125/1000\n",
      "17/17 [==============================] - 0s 4ms/step - loss: 0.2318 - accuracy: 0.9291 - val_loss: 0.0548 - val_accuracy: 0.9942\n",
      "\n",
      "Epoch 00125: saving model to model/keypoint_classifier\\keypoint_classifier.hdf5\n",
      "Epoch 126/1000\n",
      "17/17 [==============================] - 0s 4ms/step - loss: 0.2412 - accuracy: 0.9195 - val_loss: 0.0548 - val_accuracy: 0.9942\n",
      "\n",
      "Epoch 00126: saving model to model/keypoint_classifier\\keypoint_classifier.hdf5\n",
      "Epoch 127/1000\n",
      "17/17 [==============================] - 0s 4ms/step - loss: 0.2183 - accuracy: 0.9291 - val_loss: 0.0560 - val_accuracy: 0.9942\n",
      "\n",
      "Epoch 00127: saving model to model/keypoint_classifier\\keypoint_classifier.hdf5\n",
      "Epoch 128/1000\n",
      "17/17 [==============================] - 0s 4ms/step - loss: 0.1971 - accuracy: 0.9330 - val_loss: 0.0531 - val_accuracy: 0.9942\n",
      "\n",
      "Epoch 00128: saving model to model/keypoint_classifier\\keypoint_classifier.hdf5\n",
      "Epoch 129/1000\n",
      "17/17 [==============================] - 0s 4ms/step - loss: 0.2252 - accuracy: 0.9180 - val_loss: 0.0527 - val_accuracy: 0.9942\n",
      "\n",
      "Epoch 00129: saving model to model/keypoint_classifier\\keypoint_classifier.hdf5\n",
      "Epoch 130/1000\n",
      "17/17 [==============================] - 0s 4ms/step - loss: 0.2180 - accuracy: 0.9257 - val_loss: 0.0574 - val_accuracy: 0.9942\n",
      "\n",
      "Epoch 00130: saving model to model/keypoint_classifier\\keypoint_classifier.hdf5\n",
      "Epoch 131/1000\n",
      "17/17 [==============================] - 0s 4ms/step - loss: 0.2369 - accuracy: 0.9180 - val_loss: 0.0613 - val_accuracy: 0.9942\n",
      "\n",
      "Epoch 00131: saving model to model/keypoint_classifier\\keypoint_classifier.hdf5\n",
      "Epoch 132/1000\n",
      "17/17 [==============================] - 0s 4ms/step - loss: 0.2203 - accuracy: 0.9229 - val_loss: 0.0549 - val_accuracy: 0.9942\n",
      "\n",
      "Epoch 00132: saving model to model/keypoint_classifier\\keypoint_classifier.hdf5\n",
      "Epoch 133/1000\n",
      "17/17 [==============================] - 0s 5ms/step - loss: 0.2253 - accuracy: 0.9311 - val_loss: 0.0749 - val_accuracy: 0.9870\n",
      "\n",
      "Epoch 00133: saving model to model/keypoint_classifier\\keypoint_classifier.hdf5\n",
      "Epoch 134/1000\n",
      "17/17 [==============================] - 0s 4ms/step - loss: 0.2051 - accuracy: 0.9320 - val_loss: 0.0570 - val_accuracy: 0.9913\n",
      "\n",
      "Epoch 00134: saving model to model/keypoint_classifier\\keypoint_classifier.hdf5\n",
      "Epoch 135/1000\n",
      "17/17 [==============================] - 0s 4ms/step - loss: 0.2263 - accuracy: 0.9248 - val_loss: 0.0690 - val_accuracy: 0.9928\n",
      "\n",
      "Epoch 00135: saving model to model/keypoint_classifier\\keypoint_classifier.hdf5\n",
      "Epoch 136/1000\n",
      "17/17 [==============================] - 0s 4ms/step - loss: 0.2214 - accuracy: 0.9224 - val_loss: 0.0532 - val_accuracy: 0.9942\n",
      "\n",
      "Epoch 00136: saving model to model/keypoint_classifier\\keypoint_classifier.hdf5\n",
      "Epoch 137/1000\n",
      "17/17 [==============================] - 0s 4ms/step - loss: 0.2175 - accuracy: 0.9286 - val_loss: 0.0518 - val_accuracy: 0.9942\n",
      "\n",
      "Epoch 00137: saving model to model/keypoint_classifier\\keypoint_classifier.hdf5\n",
      "Epoch 138/1000\n",
      "17/17 [==============================] - 0s 5ms/step - loss: 0.2270 - accuracy: 0.9238 - val_loss: 0.0528 - val_accuracy: 0.9942\n",
      "\n",
      "Epoch 00138: saving model to model/keypoint_classifier\\keypoint_classifier.hdf5\n",
      "Epoch 139/1000\n",
      "17/17 [==============================] - 0s 4ms/step - loss: 0.2057 - accuracy: 0.9320 - val_loss: 0.0561 - val_accuracy: 0.9942\n",
      "\n",
      "Epoch 00139: saving model to model/keypoint_classifier\\keypoint_classifier.hdf5\n",
      "Epoch 140/1000\n",
      "17/17 [==============================] - 0s 7ms/step - loss: 0.2120 - accuracy: 0.9262 - val_loss: 0.0575 - val_accuracy: 0.9942\n",
      "\n",
      "Epoch 00140: saving model to model/keypoint_classifier\\keypoint_classifier.hdf5\n",
      "Epoch 141/1000\n",
      "17/17 [==============================] - 0s 4ms/step - loss: 0.2320 - accuracy: 0.9229 - val_loss: 0.0569 - val_accuracy: 0.9942\n",
      "\n",
      "Epoch 00141: saving model to model/keypoint_classifier\\keypoint_classifier.hdf5\n",
      "Epoch 00141: early stopping\n"
     ]
    },
    {
     "data": {
      "text/plain": [
       "<keras.callbacks.History at 0x1cd951902b0>"
      ]
     },
     "execution_count": 12,
     "metadata": {},
     "output_type": "execute_result"
    }
   ],
   "source": [
    "model.fit(\n",
    "    X_train,\n",
    "    y_train,\n",
    "    epochs=1000,\n",
    "    batch_size=128,\n",
    "    validation_data=(X_test, y_test),\n",
    "    callbacks=[cp_callback, es_callback]\n",
    ")"
   ]
  },
  {
   "cell_type": "code",
   "execution_count": 13,
   "metadata": {
    "colab": {
     "base_uri": "https://localhost:8080/"
    },
    "id": "pxvb2Y299hE3",
    "outputId": "59eb3185-2e37-4b9e-bc9d-ab1b8ac29b7f"
   },
   "outputs": [
    {
     "name": "stdout",
     "output_type": "stream",
     "text": [
      "6/6 [==============================] - 0s 2ms/step - loss: 0.0569 - accuracy: 0.9942\n"
     ]
    }
   ],
   "source": [
    "# Model evaluation\n",
    "val_loss, val_acc = model.evaluate(X_test, y_test, batch_size=128)"
   ]
  },
  {
   "cell_type": "code",
   "execution_count": 14,
   "metadata": {
    "id": "RBkmDeUW9hE4"
   },
   "outputs": [],
   "source": [
    "# Loading the saved model\n",
    "model = tf.keras.models.load_model(model_save_path)"
   ]
  },
  {
   "cell_type": "code",
   "execution_count": 15,
   "metadata": {
    "colab": {
     "base_uri": "https://localhost:8080/"
    },
    "id": "tFz9Tb0I9hE4",
    "outputId": "1c3b3528-54ae-4ee2-ab04-77429211cbef"
   },
   "outputs": [
    {
     "name": "stdout",
     "output_type": "stream",
     "text": [
      "[3.0760929e-09 1.0961017e-20 1.0000000e+00 7.6840727e-16 4.3553924e-11]\n",
      "2\n"
     ]
    }
   ],
   "source": [
    "# Inference test\n",
    "predict_result = model.predict(np.array([X_test[0]]))\n",
    "print(np.squeeze(predict_result))\n",
    "print(np.argmax(np.squeeze(predict_result)))"
   ]
  },
  {
   "cell_type": "markdown",
   "metadata": {
    "id": "S3U4yNWx9hE4"
   },
   "source": [
    "# Confusion matrix"
   ]
  },
  {
   "cell_type": "code",
   "execution_count": 17,
   "metadata": {
    "colab": {
     "base_uri": "https://localhost:8080/",
     "height": 582
    },
    "id": "AP1V6SCk9hE5",
    "outputId": "08e41a80-7a4a-4619-8125-ecc371368d19"
   },
   "outputs": [
    {
     "data": {
      "image/png": "[encoded data removed]",
      "text/plain": [
       "<Figure size 504x432 with 2 Axes>"
      ]
     },
     "metadata": {
      "needs_background": "light"
     },
     "output_type": "display_data"
    },
    {
     "name": "stdout",
     "output_type": "stream",
     "text": [
      "Classification Report\n",
      "              precision    recall  f1-score   support\n",
      "\n",
      "           0       1.00      0.98      0.99       131\n",
      "           1       0.98      1.00      0.99       128\n",
      "           2       1.00      1.00      1.00       143\n",
      "           3       0.98      1.00      0.99       114\n",
      "           4       1.00      0.99      0.99       176\n",
      "\n",
      "    accuracy                           0.99       692\n",
      "   macro avg       0.99      0.99      0.99       692\n",
      "weighted avg       0.99      0.99      0.99       692\n",
      "\n"
     ]
    }
   ],
   "source": [
    "import pandas as pd\n",
    "import seaborn as sns\n",
    "import matplotlib.pyplot as plt\n",
    "from sklearn.metrics import confusion_matrix, classification_report\n",
    "\n",
    "def print_confusion_matrix(y_true, y_pred, report=True):\n",
    "    labels = sorted(list(set(y_true)))\n",
    "    cmx_data = confusion_matrix(y_true, y_pred, labels=labels)\n",
    "    \n",
    "    df_cmx = pd.DataFrame(cmx_data, index=labels, columns=labels)\n",
    " \n",
    "    fig, ax = plt.subplots(figsize=(7, 6))\n",
    "    sns.heatmap(df_cmx, annot=True, fmt='g' ,square=False)\n",
    "    ax.set_ylim(len(set(y_true)), 0)\n",
    "    plt.show()\n",
    "    \n",
    "    if report:\n",
    "        print('Classification Report')\n",
    "        print(classification_report(y_test, y_pred))\n",
    "\n",
    "Y_pred = model.predict(X_test)\n",
    "y_pred = np.argmax(Y_pred, axis=1)\n",
    "\n",
    "print_confusion_matrix(y_test, y_pred)"
   ]
  },
  {
   "cell_type": "markdown",
   "metadata": {
    "id": "FNP6aqzc9hE5"
   },
   "source": [
    "# Convert to model for Tensorflow-Lite"
   ]
  },
  {
   "cell_type": "code",
   "execution_count": 18,
   "metadata": {
    "id": "ODjnYyld9hE6"
   },
   "outputs": [],
   "source": [
    "# Save as a model dedicated to inference\n",
    "model.save(model_save_path, include_optimizer=False)"
   ]
  },
  {
   "cell_type": "code",
   "execution_count": 19,
   "metadata": {
    "colab": {
     "base_uri": "https://localhost:8080/"
    },
    "id": "zRfuK8Y59hE6",
    "outputId": "a4ca585c-b5d5-4244-8291-8674063209bb"
   },
   "outputs": [
    {
     "name": "stdout",
     "output_type": "stream",
     "text": [
      "INFO:tensorflow:Assets written to: C:\\Users\\Asus\\AppData\\Local\\Temp\\tmp95kdxo89\\assets\n"
     ]
    },
    {
     "data": {
      "text/plain": [
       "6400"
      ]
     },
     "execution_count": 19,
     "metadata": {},
     "output_type": "execute_result"
    }
   ],
   "source": [
    "# Transform model (quantization)\n",
    "\n",
    "converter = tf.lite.TFLiteConverter.from_keras_model(model)\n",
    "converter.optimizations = [tf.lite.Optimize.DEFAULT]\n",
    "tflite_quantized_model = converter.convert()\n",
    "\n",
    "open(tflite_save_path, 'wb').write(tflite_quantized_model)"
   ]
  },
  {
   "cell_type": "markdown",
   "metadata": {
    "id": "CHBPBXdx9hE6"
   },
   "source": [
    "# Inference test"
   ]
  },
  {
   "cell_type": "code",
   "execution_count": 20,
   "metadata": {
    "id": "mGAzLocO9hE7"
   },
   "outputs": [],
   "source": [
    "interpreter = tf.lite.Interpreter(model_path=tflite_save_path)\n",
    "interpreter.allocate_tensors()"
   ]
  },
  {
   "cell_type": "code",
   "execution_count": 21,
   "metadata": {
    "id": "oQuDK8YS9hE7"
   },
   "outputs": [],
   "source": [
    "# Get I / O tensor\n",
    "input_details = interpreter.get_input_details()\n",
    "output_details = interpreter.get_output_details()"
   ]
  },
  {
   "cell_type": "code",
   "execution_count": 22,
   "metadata": {
    "id": "2_ixAf_l9hE7"
   },
   "outputs": [],
   "source": [
    "interpreter.set_tensor(input_details[0]['index'], np.array([X_test[0]]))"
   ]
  },
  {
   "cell_type": "code",
   "execution_count": 23,
   "metadata": {
    "colab": {
     "base_uri": "https://localhost:8080/"
    },
    "id": "s4FoAnuc9hE7",
    "outputId": "91f18257-8d8b-4ef3-c558-e9b5f94fabbf",
    "scrolled": true
   },
   "outputs": [
    {
     "name": "stdout",
     "output_type": "stream",
     "text": [
      "Wall time: 1e+03 µs\n"
     ]
    }
   ],
   "source": [
    "%%time\n",
    "# Inference implementation\n",
    "interpreter.invoke()\n",
    "tflite_results = interpreter.get_tensor(output_details[0]['index'])"
   ]
  },
  {
   "cell_type": "code",
   "execution_count": 24,
   "metadata": {
    "colab": {
     "base_uri": "https://localhost:8080/"
    },
    "id": "vONjp19J9hE8",
    "outputId": "77205e24-fd00-42c4-f7b6-e06e527c2cba"
   },
   "outputs": [
    {
     "name": "stdout",
     "output_type": "stream",
     "text": [
      "[3.0760927e-09 1.0961058e-20 1.0000000e+00 7.6841018e-16 4.3554011e-11]\n",
      "2\n"
     ]
    }
   ],
   "source": [
    "print(np.squeeze(tflite_results))\n",
    "print(np.argmax(np.squeeze(tflite_results)))"
   ]
  },
  {
   "cell_type": "code",
   "execution_count": null,
   "metadata": {},
   "outputs": [],
   "source": []
  }
 ],
 "metadata": {
  "accelerator": "GPU",
  "colab": {
   "collapsed_sections": [],
   "name": "keypoint_classification_EN.ipynb",
   "provenance": [],
   "toc_visible": true
  },
  "kernelspec": {
   "display_name": "Python 3",
   "language": "python",
   "name": "python3"
  },
  "language_info": {
   "codemirror_mode": {
    "name": "ipython",
    "version": 3
   },
   "file_extension": ".py",
   "mimetype": "text/x-python",
   "name": "python",
   "nbconvert_exporter": "python",
   "pygments_lexer": "ipython3",
   "version": "3.9.0"
  }
 },
 "nbformat": 4,
 "nbformat_minor": 1
}
