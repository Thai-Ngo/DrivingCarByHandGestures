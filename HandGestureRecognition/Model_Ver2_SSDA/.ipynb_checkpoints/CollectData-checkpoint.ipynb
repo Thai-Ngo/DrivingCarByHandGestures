{
 "cells": [
  {
   "cell_type": "code",
   "execution_count": 2,
   "id": "72d668b1",
   "metadata": {},
   "outputs": [],
   "source": [
    "# Import dependencies\n",
    "import cv2\n",
    "import os\n",
    "import time\n",
    "import uuid"
   ]
  },
  {
   "cell_type": "code",
   "execution_count": 3,
   "id": "281bfef8",
   "metadata": {},
   "outputs": [],
   "source": [
    "# Create path\n",
    "IMAGE_PATH = 'Tensorflow/workspace/images/collectedImages'"
   ]
  },
  {
   "cell_type": "code",
   "execution_count": 4,
   "id": "cfdba901",
   "metadata": {},
   "outputs": [],
   "source": [
    "# Decide labels\n",
    "# labels = ['ok', 'fist', 'stop', 'thump up', 'thump down', 'hello', 'yolo', 'turn left', 'turn right']\n",
    "labels = ['ok']\n",
    "number_imgs = 20"
   ]
  },
  {
   "cell_type": "code",
   "execution_count": 5,
   "id": "ade8cafb",
   "metadata": {},
   "outputs": [
    {
     "name": "stderr",
     "output_type": "stream",
     "text": [
      "A subdirectory or file ('Tensorflow\\workspace\\images\\collectedImages\\\\' already exists.\n",
      "Error occurred while processing: ('Tensorflow\\workspace\\images\\collectedImages\\\\'.\n",
      "A subdirectory or file + already exists.\n",
      "Error occurred while processing: +.\n",
      "A subdirectory or file label) already exists.\n",
      "Error occurred while processing: label).\n"
     ]
    },
    {
     "name": "stdout",
     "output_type": "stream",
     "text": [
      "Collecting data for ok\n",
      "Complete\n"
     ]
    }
   ],
   "source": [
    "# Collect data\n",
    "for label in labels:\n",
    "    !mkdir ('Tensorflow\\workspace\\images\\collectedImages\\\\' + label)\n",
    "    cam = cv2.VideoCapture(0)\n",
    "    print('Collecting data for {}'. format(label))\n",
    "    time.sleep(5)\n",
    "    for img_num in range(number_imgs):\n",
    "        ret, frame = cam.read()\n",
    "        image_name = os.path.join(IMAGE_PATH, label, label+'{}.jpg'.format(str(uuid.uuid1())))\n",
    "        print(image_name)\n",
    "        cv2.imwrite(image_name, frame)\n",
    "        cv2.imshow('frame', frame)\n",
    "        time.sleep(2)\n",
    "        \n",
    "        if cv2.waitKey(1) & 0xFF == ord('q'):\n",
    "            break\n",
    "    print('Complete')\n",
    "    cam.release()"
   ]
  },
  {
   "cell_type": "code",
   "execution_count": null,
   "id": "7b338a75",
   "metadata": {},
   "outputs": [],
   "source": []
  }
 ],
 "metadata": {
  "kernelspec": {
   "display_name": "Python 3",
   "language": "python",
   "name": "python3"
  },
  "language_info": {
   "codemirror_mode": {
    "name": "ipython",
    "version": 3
   },
   "file_extension": ".py",
   "mimetype": "text/x-python",
   "name": "python",
   "nbconvert_exporter": "python",
   "pygments_lexer": "ipython3",
   "version": "3.9.0"
  }
 },
 "nbformat": 4,
 "nbformat_minor": 5
}
