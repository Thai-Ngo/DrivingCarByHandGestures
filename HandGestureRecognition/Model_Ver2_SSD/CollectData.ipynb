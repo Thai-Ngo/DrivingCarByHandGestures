{
 "cells": [
  {
   "cell_type": "code",
   "execution_count": 5,
   "id": "b7c94e89",
   "metadata": {},
   "outputs": [],
   "source": [
    "# Import dependencies\n",
    "import cv2\n",
    "import os\n",
    "import time\n",
    "import uuid"
   ]
  },
  {
   "cell_type": "code",
   "execution_count": 6,
   "id": "e3b909d5",
   "metadata": {},
   "outputs": [],
   "source": [
    "# Create path\n",
    "IMAGE_PATH = 'Tensorflow/workspace/images/collectedImages'"
   ]
  },
  {
   "cell_type": "code",
   "execution_count": 7,
   "id": "7bc2cb39",
   "metadata": {},
   "outputs": [],
   "source": [
    "# Decide labels\n",
    "labels = ['ok', 'fist', 'stop', 'thump up', 'thump down', 'hello', 'yolo', 'turn left', 'turn right']\n",
    "# labels = ['turn_right']\n",
    "number_imgs = 20"
   ]
  },
  {
   "cell_type": "code",
   "execution_count": 8,
   "id": "4b3888ac",
   "metadata": {},
   "outputs": [
    {
     "name": "stderr",
     "output_type": "stream",
     "text": [
      "A subdirectory or file Tensorflow\\workspace\\images\\collectedImages\\turn_right already exists.\n"
     ]
    },
    {
     "name": "stdout",
     "output_type": "stream",
     "text": [
      "Collecting data for turn_right\n",
      "Tensorflow/workspace/images/collectedImages\\turn_right\\turn_right0.jpg\n",
      "Complete\n"
     ]
    }
   ],
   "source": [
    "# Collect data\n",
    "for label in labels:\n",
    "    !mkdir {'Tensorflow\\workspace\\images\\collectedImages\\\\' + label}\n",
    "    cam = cv2.VideoCapture(0)\n",
    "    print('Collecting data for {}'. format(label))\n",
    "    time.sleep(5)\n",
    "    for img_num in range(number_imgs):\n",
    "        ret, frame = cam.read()\n",
    "        image_name = os.path.join(IMAGE_PATH, label, label+str(img_num)+'.jpg')\n",
    "        print(image_name)\n",
    "        cv2.imwrite(image_name, frame)\n",
    "        cv2.imshow('frame', frame)\n",
    "        time.sleep(2)\n",
    "        \n",
    "        if cv2.waitKey(1) & 0xFF == ord('q'):\n",
    "            break\n",
    "    print('Complete')\n",
    "    cam.release()"
   ]
  },
  {
   "cell_type": "code",
   "execution_count": null,
   "id": "9b695c23",
   "metadata": {},
   "outputs": [],
   "source": []
  }
 ],
 "metadata": {
  "kernelspec": {
   "display_name": "Python 3",
   "language": "python",
   "name": "python3"
  },
  "language_info": {
   "codemirror_mode": {
    "name": "ipython",
    "version": 3
   },
   "file_extension": ".py",
   "mimetype": "text/x-python",
   "name": "python",
   "nbconvert_exporter": "python",
   "pygments_lexer": "ipython3",
   "version": "3.9.0"
  }
 },
 "nbformat": 4,
 "nbformat_minor": 5
}
